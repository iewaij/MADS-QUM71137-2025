{
 "cells": [
  {
   "cell_type": "markdown",
   "metadata": {},
   "source": [
    "# Native Data Structures\n",
    "\n",
    "## Introduction\n",
    "\n",
    "We have seen how to work with primitive data types such as numbers and primitive operations like arithmetic. We learned to build compound functions through composition and control, and to create functional abstractions by assigning names to processes. Moreover, we observed that higher-order functions extend the expressive power of a language by allowing us to manipulate and reason about general methods of computation—capturing much of the essence of programming.\n",
    "\n",
    "We now turn our attention to data itself. The techniques introduced here will enable us to represent and process information across many domains. With the explosive growth of data, a vast volume of structured information is now available to both businesses and individuals, enabling computation to address a wide spectrum of problems. Mastering the use of built-in and user-defined data types is therefore essential to building effective data processing applications."
   ]
  },
  {
   "cell_type": "markdown",
   "metadata": {},
   "source": [
    "## Range\n",
    "\n",
    "A range is a sequence of consecutive integers."
   ]
  },
  {
   "cell_type": "code",
   "execution_count": null,
   "metadata": {},
   "outputs": [
    {
     "data": {
      "text/plain": [
       "list"
      ]
     },
     "execution_count": 2,
     "metadata": {},
     "output_type": "execute_result"
    }
   ],
   "source": [
    "a_list = [1, 2, 3]\n",
    "type(a_list)"
   ]
  },
  {
   "cell_type": "code",
   "execution_count": 2,
   "metadata": {},
   "outputs": [
    {
     "data": {
      "text/plain": [
       "range"
      ]
     },
     "execution_count": 2,
     "metadata": {},
     "output_type": "execute_result"
    }
   ],
   "source": [
    "a_range = range(10)\n",
    "type(a_range)"
   ]
  },
  {
   "cell_type": "code",
   "execution_count": 8,
   "metadata": {},
   "outputs": [],
   "source": [
    "a_range = range(0, 10, 2)"
   ]
  },
  {
   "cell_type": "code",
   "execution_count": 9,
   "metadata": {},
   "outputs": [
    {
     "name": "stdout",
     "output_type": "stream",
     "text": [
      "range(0, 10, 2)\n"
     ]
    }
   ],
   "source": [
    "print(a_range)"
   ]
  },
  {
   "cell_type": "markdown",
   "metadata": {},
   "source": [
    "## List"
   ]
  },
  {
   "cell_type": "code",
   "execution_count": 15,
   "metadata": {},
   "outputs": [
    {
     "data": {
      "text/plain": [
       "list"
      ]
     },
     "execution_count": 15,
     "metadata": {},
     "output_type": "execute_result"
    }
   ],
   "source": [
    "type([1, 2, 3])"
   ]
  },
  {
   "cell_type": "code",
   "execution_count": 18,
   "metadata": {},
   "outputs": [
    {
     "data": {
      "text/plain": [
       "['a', 'l', 'i', 'c', 'e', '2', '1', '2', '3']"
      ]
     },
     "execution_count": 18,
     "metadata": {},
     "output_type": "execute_result"
    }
   ],
   "source": [
    "list(\"alice2123\")"
   ]
  },
  {
   "cell_type": "code",
   "execution_count": 19,
   "metadata": {},
   "outputs": [
    {
     "data": {
      "text/plain": [
       "[0, 1, 2, 3, 4, 5, 6, 7, 8, 9]"
      ]
     },
     "execution_count": 19,
     "metadata": {},
     "output_type": "execute_result"
    }
   ],
   "source": [
    "list(range(10))"
   ]
  },
  {
   "cell_type": "code",
   "execution_count": 1,
   "metadata": {},
   "outputs": [
    {
     "data": {
      "text/plain": [
       "[1, 3, 4, 5, 7, 9]"
      ]
     },
     "execution_count": 1,
     "metadata": {},
     "output_type": "execute_result"
    }
   ],
   "source": [
    "[1, 3, 4] + [5, 7, 9]"
   ]
  },
  {
   "cell_type": "code",
   "execution_count": 4,
   "metadata": {},
   "outputs": [
    {
     "data": {
      "text/plain": [
       "[1, 3, 4, 5, 7, 9]"
      ]
     },
     "execution_count": 4,
     "metadata": {},
     "output_type": "execute_result"
    }
   ],
   "source": [
    "a = [1, 3, 4]\n",
    "b = [5, 7, 9]\n",
    "a + b"
   ]
  },
  {
   "cell_type": "code",
   "execution_count": null,
   "metadata": {},
   "outputs": [],
   "source": [
    "a = [1, 3, 4]\n",
    "b = [5, 7, 9]\n"
   ]
  },
  {
   "cell_type": "code",
   "execution_count": 7,
   "metadata": {},
   "outputs": [
    {
     "data": {
      "text/plain": [
       "[2, 3, 4, 5]"
      ]
     },
     "execution_count": 7,
     "metadata": {},
     "output_type": "execute_result"
    }
   ],
   "source": [
    "a = list(range(10))\n",
    "a[2:6]"
   ]
  },
  {
   "cell_type": "code",
   "execution_count": 9,
   "metadata": {},
   "outputs": [
    {
     "data": {
      "text/plain": [
       "[0, 1, 2, 3, 4, 5, 6, 7, 8, 9]"
      ]
     },
     "execution_count": 9,
     "metadata": {},
     "output_type": "execute_result"
    }
   ],
   "source": [
    "a"
   ]
  },
  {
   "cell_type": "code",
   "execution_count": 11,
   "metadata": {},
   "outputs": [
    {
     "data": {
      "text/plain": [
       "10"
      ]
     },
     "execution_count": 11,
     "metadata": {},
     "output_type": "execute_result"
    }
   ],
   "source": [
    "len(a)"
   ]
  },
  {
   "cell_type": "code",
   "execution_count": 10,
   "metadata": {},
   "outputs": [
    {
     "data": {
      "text/plain": [
       "5"
      ]
     },
     "execution_count": 10,
     "metadata": {},
     "output_type": "execute_result"
    }
   ],
   "source": [
    "a_str = \"hello\"\n",
    "len(a_str)"
   ]
  },
  {
   "cell_type": "code",
   "execution_count": 13,
   "metadata": {},
   "outputs": [],
   "source": [
    "a = [1, 3, 4]\n",
    "b = [\"a\", \"b\", \"c\"]"
   ]
  },
  {
   "cell_type": "code",
   "execution_count": 37,
   "metadata": {},
   "outputs": [],
   "source": [
    "a = [1, 2, 3]\n",
    "b = [\"a\", \"b\", \"c\"]"
   ]
  },
  {
   "cell_type": "code",
   "execution_count": 47,
   "metadata": {},
   "outputs": [],
   "source": [
    "a = [1, 2, 3, 4, 5]"
   ]
  },
  {
   "cell_type": "code",
   "execution_count": 48,
   "metadata": {},
   "outputs": [
    {
     "data": {
      "text/plain": [
       "3"
      ]
     },
     "execution_count": 48,
     "metadata": {},
     "output_type": "execute_result"
    }
   ],
   "source": [
    "a.pop(2)"
   ]
  },
  {
   "cell_type": "code",
   "execution_count": 49,
   "metadata": {},
   "outputs": [
    {
     "data": {
      "text/plain": [
       "[1, 2, 4, 5]"
      ]
     },
     "execution_count": 49,
     "metadata": {},
     "output_type": "execute_result"
    }
   ],
   "source": [
    "a"
   ]
  },
  {
   "cell_type": "code",
   "execution_count": 50,
   "metadata": {},
   "outputs": [],
   "source": [
    "a.extend(range(6, 10))"
   ]
  },
  {
   "cell_type": "markdown",
   "metadata": {},
   "source": [
    "A value can be tested for membership in a sequence. Python has two operators in and not in that evaluate to True or False depending on whether an element appears in a sequence."
   ]
  },
  {
   "cell_type": "code",
   "execution_count": 57,
   "metadata": {},
   "outputs": [
    {
     "data": {
      "text/plain": [
       "True"
      ]
     },
     "execution_count": 57,
     "metadata": {},
     "output_type": "execute_result"
    }
   ],
   "source": [
    "digits = [2, 3, 4]\n",
    "2 in digits"
   ]
  },
  {
   "cell_type": "code",
   "execution_count": null,
   "metadata": {},
   "outputs": [
    {
     "data": {
      "text/plain": [
       "True"
      ]
     },
     "execution_count": 61,
     "metadata": {},
     "output_type": "execute_result"
    }
   ],
   "source": [
    "5 not in digits"
   ]
  },
  {
   "cell_type": "code",
   "execution_count": 62,
   "metadata": {},
   "outputs": [
    {
     "data": {
      "text/plain": [
       "[2, 3]"
      ]
     },
     "execution_count": 62,
     "metadata": {},
     "output_type": "execute_result"
    }
   ],
   "source": [
    "def find_common_element(array_left, array_right):\n",
    "    result = []\n",
    "    for a in array_left:\n",
    "        if a in array_right:\n",
    "            result.append(a)\n",
    "    return result\n",
    "\n",
    "\n",
    "find_common_element([1, 2, 3], [2, 3, 4, 5])"
   ]
  },
  {
   "cell_type": "markdown",
   "metadata": {},
   "source": [
    "List comprehensions are a concise Python syntax for creating lists by transforming and optionally filtering items from an iterable in a single expression.\n",
    "\n",
    "Basic form : `[<expression> for <item> in <iterable>]`\n",
    "\n",
    "With filtering: `[<expression> for <item> in <iterable> if <condition>]`\n",
    "\n",
    "With conditional: `[expr_if_true if <condition> else <expr_if_false> for <item> in <iterable>]`"
   ]
  },
  {
   "cell_type": "code",
   "execution_count": null,
   "metadata": {},
   "outputs": [
    {
     "data": {
      "text/plain": [
       "[1, 4, 9]"
      ]
     },
     "execution_count": 64,
     "metadata": {},
     "output_type": "execute_result"
    }
   ],
   "source": [
    "def some_operation(array):\n",
    "    result = []\n",
    "    for a in array:\n",
    "        result.append(a**2)\n",
    "    return result\n",
    "\n",
    "\n",
    "some_operation([1, 2, 3])"
   ]
  },
  {
   "cell_type": "markdown",
   "metadata": {},
   "source": [
    "Squares:"
   ]
  },
  {
   "cell_type": "code",
   "execution_count": 67,
   "metadata": {},
   "outputs": [
    {
     "data": {
      "text/plain": [
       "[1, 4, 9, 16, 25]"
      ]
     },
     "execution_count": 67,
     "metadata": {},
     "output_type": "execute_result"
    }
   ],
   "source": [
    "[n**2 for n in range(1, 6)]"
   ]
  },
  {
   "cell_type": "markdown",
   "metadata": {},
   "source": [
    "Even numbers:"
   ]
  },
  {
   "cell_type": "code",
   "execution_count": 72,
   "metadata": {},
   "outputs": [
    {
     "data": {
      "text/plain": [
       "[0, 2, 4, 6, 8]"
      ]
     },
     "execution_count": 72,
     "metadata": {},
     "output_type": "execute_result"
    }
   ],
   "source": [
    "[n for n in range(10) if n % 2 == 0]"
   ]
  },
  {
   "cell_type": "markdown",
   "metadata": {},
   "source": [
    "Normalize strings:"
   ]
  },
  {
   "cell_type": "code",
   "execution_count": 75,
   "metadata": {},
   "outputs": [
    {
     "data": {
      "text/plain": [
       "['alice', 'bob']"
      ]
     },
     "execution_count": 75,
     "metadata": {},
     "output_type": "execute_result"
    }
   ],
   "source": [
    "names = [\" Alice \", \" BoB \"]\n",
    "[s.strip().lower() for s in names]"
   ]
  },
  {
   "cell_type": "markdown",
   "metadata": {},
   "source": [
    "Cartesian pairs:"
   ]
  },
  {
   "cell_type": "code",
   "execution_count": 77,
   "metadata": {},
   "outputs": [
    {
     "data": {
      "text/plain": [
       "[(0, 0), (0, 1), (1, 0), (1, 1), (2, 0), (2, 1)]"
      ]
     },
     "execution_count": 77,
     "metadata": {},
     "output_type": "execute_result"
    }
   ],
   "source": [
    "[(i, j) for i in range(3) for j in range(2)]"
   ]
  },
  {
   "cell_type": "markdown",
   "metadata": {},
   "source": [
    "**Exercise**\n",
    "\n",
    "Implement `promoted`, which takes a sequence `s` and a one-argument function `f`. It returns a list with the same elements as `s`, but with all elements `e` for which `f(e)` is a true value placed first. Among those placed first and those placed after, the order stays the same."
   ]
  },
  {
   "cell_type": "code",
   "execution_count": null,
   "metadata": {},
   "outputs": [],
   "source": [
    "# Equal to\n",
    "# def odd(x):\n",
    "#     return x % 2 != 0\n",
    "odd = lambda x: x % 2 != 0\n",
    "\n",
    "\n",
    "def promoted(s, f):\n",
    "    \"\"\"\n",
    "    Return a list with the same elements as s, but with all\n",
    "    elements e for which f(e) is a true value placed first.\n",
    "\n",
    "    >>> promoted(range(10), odd) # odds in front\n",
    "    [1, 3, 5, 7, 9, 0, 2, 4, 6, 8]\n",
    "    \"\"\"\n",
    "    return \"____\""
   ]
  },
  {
   "cell_type": "code",
   "execution_count": null,
   "metadata": {},
   "outputs": [],
   "source": [
    "def promoted(s, f):\n",
    "    result = [e for e in s if f(e)]\n",
    "    falses = [e for e in s if not f(e)]\n",
    "    result.extend(falses)\n",
    "    return result\n",
    "\n",
    "\n",
    "promoted(range(10), lambda x: x % 3 == 0)"
   ]
  },
  {
   "cell_type": "markdown",
   "metadata": {},
   "source": [
    "Implement `double_eights`, which takes a list `s` and returns whether two consecutive items are both 8."
   ]
  },
  {
   "cell_type": "code",
   "execution_count": null,
   "metadata": {},
   "outputs": [],
   "source": [
    "def double_eights(s):\n",
    "    \"\"\"\n",
    "    Return whether two consecutive items of list s are 8.\n",
    "\n",
    "    >>> double_eights([1, 2, 8, 8])\n",
    "    True\n",
    "    >>> double_eights([8, 8, 0])\n",
    "    True\n",
    "    >>> double_eights([5, 3, 8, 8, 3, 5])\n",
    "    True\n",
    "    >>> double_eights([2, 8, 4, 6, 8, 2])\n",
    "    False\n",
    "    \"\"\"\n",
    "\n",
    "    for i in \"___\":\n",
    "        if \"___\":\n",
    "            return True\n",
    "    return False"
   ]
  },
  {
   "cell_type": "code",
   "execution_count": null,
   "metadata": {},
   "outputs": [],
   "source": [
    "def double_eights(s):\n",
    "    \"\"\"\n",
    "    Return whether two consecutive items of list s are 8.\n",
    "\n",
    "    >>> double_eights([1, 2, 8, 8])\n",
    "    True\n",
    "    >>> double_eights([8, 8, 0])\n",
    "    True\n",
    "    >>> double_eights([5, 3, 8, 8, 3, 5])\n",
    "    True\n",
    "    >>> double_eights([2, 8, 4, 6, 8, 2])\n",
    "    False\n",
    "    \"\"\"\n",
    "\n",
    "    if \"___\":\n",
    "        return True\n",
    "    elif len(s) < 2:\n",
    "        return False\n",
    "    else:\n",
    "        return \"___\""
   ]
  },
  {
   "cell_type": "markdown",
   "metadata": {},
   "source": [
    "Implement the function `squares`, which takes in a list of positive integers. It returns a list that contains the square roots of the elements of the original list that are perfect squares. Use a list comprehension.\n",
    "\n",
    "Hint: To find if `x` is a perfect square, you can check if `sqrt(x)` equals `round(sqrt(x))`."
   ]
  },
  {
   "cell_type": "code",
   "execution_count": null,
   "metadata": {},
   "outputs": [],
   "source": [
    "from math import sqrt\n",
    "\n",
    "\n",
    "def squares(s):\n",
    "    \"\"\"Returns a new list containing square roots of the elements of the\n",
    "    original list that are perfect squares.\n",
    "\n",
    "    >>> seq = [8, 49, 8, 9, 2, 1, 100, 102]\n",
    "    >>> squares(seq)\n",
    "    [7, 3, 1, 10]\n",
    "    >>> seq = [500, 30]\n",
    "    >>> squares(seq)\n",
    "    []\n",
    "    \"\"\"\n",
    "    return [\"___\" for n in s if \"___\"]"
   ]
  },
  {
   "cell_type": "markdown",
   "metadata": {},
   "source": [
    "### String"
   ]
  },
  {
   "cell_type": "code",
   "execution_count": 110,
   "metadata": {},
   "outputs": [
    {
     "name": "stdout",
     "output_type": "stream",
     "text": [
      "Current time is: 2025-10-05 14:24:07.787561.\n"
     ]
    }
   ],
   "source": [
    "import datetime\n",
    "\n",
    "time_now = datetime.datetime.now()\n",
    "time_now_str = f\"Current time is: {time_now}.\"\n",
    "print(time_now_str)"
   ]
  },
  {
   "cell_type": "code",
   "execution_count": 112,
   "metadata": {},
   "outputs": [],
   "source": [
    "city = \"Frankfurt\""
   ]
  },
  {
   "cell_type": "code",
   "execution_count": 113,
   "metadata": {},
   "outputs": [
    {
     "data": {
      "text/plain": [
       "9"
      ]
     },
     "execution_count": 113,
     "metadata": {},
     "output_type": "execute_result"
    }
   ],
   "source": [
    "len(city)"
   ]
  },
  {
   "cell_type": "code",
   "execution_count": 114,
   "metadata": {},
   "outputs": [
    {
     "data": {
      "text/plain": [
       "'Fra'"
      ]
     },
     "execution_count": 114,
     "metadata": {},
     "output_type": "execute_result"
    }
   ],
   "source": [
    "city[:3]"
   ]
  },
  {
   "cell_type": "code",
   "execution_count": 115,
   "metadata": {},
   "outputs": [],
   "source": [
    "country = \"Germany\""
   ]
  },
  {
   "cell_type": "code",
   "execution_count": 116,
   "metadata": {},
   "outputs": [
    {
     "data": {
      "text/plain": [
       "'Frankfurt, Germany'"
      ]
     },
     "execution_count": 116,
     "metadata": {},
     "output_type": "execute_result"
    }
   ],
   "source": [
    "city + \", \" + country"
   ]
  },
  {
   "cell_type": "code",
   "execution_count": null,
   "metadata": {},
   "outputs": [
    {
     "data": {
      "text/plain": [
       "'Shabu Shabu '"
      ]
     },
     "execution_count": 117,
     "metadata": {},
     "output_type": "execute_result"
    }
   ],
   "source": [
    "\"Shabu \" * 2  # Equal to \"Shabu \" + \"Shabu \""
   ]
  },
  {
   "cell_type": "code",
   "execution_count": null,
   "metadata": {},
   "outputs": [
    {
     "data": {
      "text/plain": [
       "['Shabu', 'Shabu']"
      ]
     },
     "execution_count": 118,
     "metadata": {},
     "output_type": "execute_result"
    }
   ],
   "source": [
    "[\"Shabu\"] * 2  # Equal to [\"Shabu\"] + [\"Shabu\"]"
   ]
  },
  {
   "cell_type": "markdown",
   "metadata": {},
   "source": [
    "Use `in` with strings to test for substring containment, not whole-word membership."
   ]
  },
  {
   "cell_type": "code",
   "execution_count": 121,
   "metadata": {},
   "outputs": [
    {
     "data": {
      "text/plain": [
       "True"
      ]
     },
     "execution_count": 121,
     "metadata": {},
     "output_type": "execute_result"
    }
   ],
   "source": [
    "\"Where\" in \"Where's Waldo?\""
   ]
  },
  {
   "cell_type": "markdown",
   "metadata": {},
   "source": [
    "A string can be created from any object in Python by calling the str constructor function with an object value as its argument."
   ]
  },
  {
   "cell_type": "code",
   "execution_count": 124,
   "metadata": {},
   "outputs": [
    {
     "data": {
      "text/plain": [
       "'['"
      ]
     },
     "execution_count": 124,
     "metadata": {},
     "output_type": "execute_result"
    }
   ],
   "source": [
    "digits = [2, 3, 4]\n",
    "digits_str = str(digits)\n",
    "digits_str[0]"
   ]
  },
  {
   "cell_type": "code",
   "execution_count": 125,
   "metadata": {},
   "outputs": [
    {
     "data": {
      "text/plain": [
       "'2 is an element of [2, 3, 4]'"
      ]
     },
     "execution_count": 125,
     "metadata": {},
     "output_type": "execute_result"
    }
   ],
   "source": [
    "digits = [2, 3, 4]\n",
    "str(2) + \" is an element of \" + str(digits)"
   ]
  },
  {
   "cell_type": "code",
   "execution_count": 126,
   "metadata": {},
   "outputs": [
    {
     "data": {
      "text/plain": [
       "'alice'"
      ]
     },
     "execution_count": 126,
     "metadata": {},
     "output_type": "execute_result"
    }
   ],
   "source": [
    "\"Alice\".lower()"
   ]
  },
  {
   "cell_type": "code",
   "execution_count": 127,
   "metadata": {},
   "outputs": [
    {
     "data": {
      "text/plain": [
       "'ALICE'"
      ]
     },
     "execution_count": 127,
     "metadata": {},
     "output_type": "execute_result"
    }
   ],
   "source": [
    "\"Alice\".upper()"
   ]
  },
  {
   "cell_type": "code",
   "execution_count": null,
   "metadata": {},
   "outputs": [
    {
     "data": {
      "text/plain": [
       "'alice'"
      ]
     },
     "execution_count": 129,
     "metadata": {},
     "output_type": "execute_result"
    }
   ],
   "source": [
    "\"  Alice    \".strip().lower()"
   ]
  },
  {
   "cell_type": "code",
   "execution_count": 138,
   "metadata": {},
   "outputs": [],
   "source": [
    "name = \"  AlICe    \"\n",
    "name_cleaned = name.strip().lower()"
   ]
  },
  {
   "cell_type": "code",
   "execution_count": 140,
   "metadata": {},
   "outputs": [
    {
     "data": {
      "text/plain": [
       "'  AlICe    '"
      ]
     },
     "execution_count": 140,
     "metadata": {},
     "output_type": "execute_result"
    }
   ],
   "source": [
    "name"
   ]
  },
  {
   "cell_type": "code",
   "execution_count": 139,
   "metadata": {},
   "outputs": [
    {
     "data": {
      "text/plain": [
       "'alice'"
      ]
     },
     "execution_count": 139,
     "metadata": {},
     "output_type": "execute_result"
    }
   ],
   "source": [
    "name_cleaned"
   ]
  },
  {
   "cell_type": "code",
   "execution_count": null,
   "metadata": {},
   "outputs": [],
   "source": [
    "name[3] = \"a\""
   ]
  },
  {
   "cell_type": "markdown",
   "metadata": {},
   "source": [
    "A string can be broken down into a list. And vice versa."
   ]
  },
  {
   "cell_type": "code",
   "execution_count": null,
   "metadata": {},
   "outputs": [
    {
     "name": "stdout",
     "output_type": "stream",
     "text": [
      "['Alice', 'is', 'happy.']\n"
     ]
    }
   ],
   "source": [
    "sentence = \"Alice is happy.\"\n",
    "sentence_list = sentence.split(\" \")"
   ]
  },
  {
   "cell_type": "code",
   "execution_count": 147,
   "metadata": {},
   "outputs": [
    {
     "data": {
      "text/plain": [
       "'A Wonderful Day'"
      ]
     },
     "execution_count": 147,
     "metadata": {},
     "output_type": "execute_result"
    }
   ],
   "source": [
    "words = [\"A\", \"Wonderful\", \"Day\"]\n",
    "\" \".join(words)"
   ]
  },
  {
   "cell_type": "code",
   "execution_count": 148,
   "metadata": {},
   "outputs": [
    {
     "data": {
      "text/plain": [
       "'A, Wonderful, Day'"
      ]
     },
     "execution_count": 148,
     "metadata": {},
     "output_type": "execute_result"
    }
   ],
   "source": [
    "\", \".join(words)"
   ]
  },
  {
   "cell_type": "markdown",
   "metadata": {},
   "source": [
    "**Exercise**\n",
    "\n",
    "When parking vehicles in a row:\n",
    "\n",
    "* A **motorcycle** takes up **1 parking spot**,\n",
    "* A **car** takes up **2 adjacent parking spots**.\n",
    "\n",
    "We represent a row of `n` adjacent parking spots as a string of length `n`:\n",
    "\n",
    "* `'%'` for a motorcycle,\n",
    "* `'<>'` for a car,\n",
    "* `'.'` for an empty spot.\n",
    "\n",
    "For example:\n",
    "\n",
    "```\n",
    "'.%%.<><>'\n",
    "```\n",
    "\n",
    "represents a row of 8 spots: an empty spot, two motorcycles, an empty spot, and two cars.\n",
    "\n",
    "Implement the function `park` that returns all possible ways vehicles can be parked in `n` adjacent spots, represented as strings. Spots may be left empty.\n",
    "\n",
    "```python\n",
    "def park(n):\n",
    "    \"\"\"Return the ways to park cars and motorcycles in n adjacent spots.\n",
    "\n",
    "    >>> park(1)\n",
    "    ['%', '.']\n",
    "\n",
    "    >>> park(2)\n",
    "    ['%%', '%.', '.%', '..', '<>']\n",
    "\n",
    "    >>> len(park(4))  # some examples: '<><>', '.%%.', '%<>%', '%.<>'\n",
    "    29\n",
    "    \"\"\"\n",
    "    if n < 0:\n",
    "        return \"____\"\n",
    "    elif n == 0:\n",
    "        return \"____\"\n",
    "    else:\n",
    "        return \"____\"\n",
    "```"
   ]
  },
  {
   "cell_type": "markdown",
   "metadata": {},
   "source": [
    "## Mutability\n",
    "\n",
    "Mutability means whether an object’s contents can change after creation. Lists and dicts are mutable, while tuples and strings are immutable."
   ]
  },
  {
   "cell_type": "code",
   "execution_count": null,
   "metadata": {},
   "outputs": [],
   "source": [
    "a = \"astring\"\n",
    "a[3] = \"s\""
   ]
  },
  {
   "cell_type": "markdown",
   "metadata": {},
   "source": [
    "## Tuple\n",
    "\n",
    "Tuple is immutable, smaller and faster. Use a list when you have a collection that may change. Use a tuple when the data is fixed and should be protected from modification."
   ]
  },
  {
   "cell_type": "code",
   "execution_count": 153,
   "metadata": {},
   "outputs": [],
   "source": [
    "a_tuple = (\"Hello\", \"Python\", \"World\")"
   ]
  },
  {
   "cell_type": "code",
   "execution_count": 155,
   "metadata": {},
   "outputs": [
    {
     "data": {
      "text/plain": [
       "128"
      ]
     },
     "execution_count": 155,
     "metadata": {},
     "output_type": "execute_result"
    }
   ],
   "source": [
    "rgb = (256, 128, 0)\n",
    "rgb[1]"
   ]
  },
  {
   "cell_type": "markdown",
   "metadata": {},
   "source": [
    "## Dictionary\n",
    "\n",
    "Dictionaries are Python's built-in data type for storing and manipulating correspondence relationships. A dictionary contains key-value pairs, where both the keys and values are objects. The purpose of a dictionary is to provide an abstraction for storing and retrieving values that are indexed not by consecutive integers, but by descriptive keys.\n",
    "\n",
    "Strings commonly serve as keys, because strings are our conventional representation for names of things. This dictionary literal gives the values of various Roman numerals."
   ]
  },
  {
   "cell_type": "code",
   "execution_count": 160,
   "metadata": {},
   "outputs": [
    {
     "data": {
      "text/plain": [
       "10"
      ]
     },
     "execution_count": 160,
     "metadata": {},
     "output_type": "execute_result"
    }
   ],
   "source": [
    "numerals = {\"I\": 1, \"V\": 5, \"X\": 10}\n",
    "numerals[\"X\"]"
   ]
  },
  {
   "cell_type": "code",
   "execution_count": 161,
   "metadata": {},
   "outputs": [
    {
     "data": {
      "text/plain": [
       "5"
      ]
     },
     "execution_count": 161,
     "metadata": {},
     "output_type": "execute_result"
    }
   ],
   "source": [
    "numerals[\"V\"]"
   ]
  },
  {
   "cell_type": "code",
   "execution_count": 162,
   "metadata": {},
   "outputs": [],
   "source": [
    "numerals[\"L\"] = 50"
   ]
  },
  {
   "cell_type": "code",
   "execution_count": 167,
   "metadata": {},
   "outputs": [
    {
     "data": {
      "text/plain": [
       "dict_values([1, 5, 10, 50])"
      ]
     },
     "execution_count": 167,
     "metadata": {},
     "output_type": "execute_result"
    }
   ],
   "source": [
    "numerals.values()"
   ]
  },
  {
   "cell_type": "code",
   "execution_count": 61,
   "metadata": {},
   "outputs": [
    {
     "data": {
      "text/plain": [
       "dict_keys(['I', 'V', 'X', 'L'])"
      ]
     },
     "execution_count": 61,
     "metadata": {},
     "output_type": "execute_result"
    }
   ],
   "source": [
    "numerals.keys()"
   ]
  },
  {
   "cell_type": "code",
   "execution_count": 180,
   "metadata": {},
   "outputs": [
    {
     "data": {
      "text/plain": [
       "dict_items([('I', 1), ('V', 5), ('X', 10), ('L', 50)])"
      ]
     },
     "execution_count": 180,
     "metadata": {},
     "output_type": "execute_result"
    }
   ],
   "source": [
    "numerals.items()"
   ]
  },
  {
   "cell_type": "code",
   "execution_count": 182,
   "metadata": {},
   "outputs": [
    {
     "name": "stdout",
     "output_type": "stream",
     "text": [
      "I -> 1\n",
      "V -> 5\n",
      "X -> 10\n",
      "L -> 50\n"
     ]
    }
   ],
   "source": [
    "for k, v in numerals.items():\n",
    "    print(k, \"->\", v)"
   ]
  },
  {
   "cell_type": "code",
   "execution_count": 183,
   "metadata": {},
   "outputs": [
    {
     "data": {
      "text/plain": [
       "True"
      ]
     },
     "execution_count": 183,
     "metadata": {},
     "output_type": "execute_result"
    }
   ],
   "source": [
    "\"X\" in numerals"
   ]
  },
  {
   "cell_type": "code",
   "execution_count": 80,
   "metadata": {},
   "outputs": [
    {
     "data": {
      "text/plain": [
       "False"
      ]
     },
     "execution_count": 80,
     "metadata": {},
     "output_type": "execute_result"
    }
   ],
   "source": [
    "10 in numerals"
   ]
  },
  {
   "cell_type": "code",
   "execution_count": 184,
   "metadata": {},
   "outputs": [
    {
     "data": {
      "text/plain": [
       "True"
      ]
     },
     "execution_count": 184,
     "metadata": {},
     "output_type": "execute_result"
    }
   ],
   "source": [
    "10 in numerals.values()"
   ]
  },
  {
   "cell_type": "markdown",
   "metadata": {},
   "source": [
    "Dictionary comprehensions let you build dicts in one expression by generating key–value pairs from an iterable, with optional filtering.\n",
    "\n",
    "Basic form: `{<key_expr>: <value_expr> for <item> in <iterable>}`\n",
    "\n",
    "With filtering: `{<key_expr>: <value_expr> for <item> in <iterable> if <condition>}`\n",
    "\n",
    "With conditional value: `{<key_expr>: (<value_if_true> if <condition> else <value_if_false>) for <item> in <iterable>}`\n",
    "\n",
    "With conditional key and value: `{(<key_if_true> if <cond> else <key_if_false>): (<val_if_true> if <cond> else <val_if_false>) for <item> in <iterable>}`"
   ]
  },
  {
   "cell_type": "markdown",
   "metadata": {},
   "source": [
    "Squares map:"
   ]
  },
  {
   "cell_type": "code",
   "execution_count": 196,
   "metadata": {},
   "outputs": [],
   "source": [
    "a_dict = {n: n * n for n in range(25, 30)}"
   ]
  },
  {
   "cell_type": "markdown",
   "metadata": {},
   "source": [
    "Filtered:"
   ]
  },
  {
   "cell_type": "code",
   "execution_count": null,
   "metadata": {},
   "outputs": [
    {
     "data": {
      "text/plain": [
       "{0: 0, 2: 4, 4: 16, 6: 36, 8: 64}"
      ]
     },
     "execution_count": 64,
     "metadata": {},
     "output_type": "execute_result"
    }
   ],
   "source": [
    "{n: n * n for n in range(10) if n % 2 == 0}"
   ]
  },
  {
   "cell_type": "markdown",
   "metadata": {},
   "source": [
    "From existing dict with transform:"
   ]
  },
  {
   "cell_type": "code",
   "execution_count": 199,
   "metadata": {},
   "outputs": [
    {
     "data": {
      "text/plain": [
       "{'i': 2, 'v': 10, 'x': 20}"
      ]
     },
     "execution_count": 199,
     "metadata": {},
     "output_type": "execute_result"
    }
   ],
   "source": [
    "d = {\"I\": 1, \"V\": 5, \"X\": 10}\n",
    "\n",
    "{k.lower(): v * 2 for k, v in d.items()}"
   ]
  },
  {
   "cell_type": "markdown",
   "metadata": {},
   "source": [
    "From two iterables:"
   ]
  },
  {
   "cell_type": "code",
   "execution_count": 205,
   "metadata": {},
   "outputs": [
    {
     "data": {
      "text/plain": [
       "{'one': 1, 'two': 2, 'three': 3}"
      ]
     },
     "execution_count": 205,
     "metadata": {},
     "output_type": "execute_result"
    }
   ],
   "source": [
    "keys = [\"one\", \"two\", \"three\"]\n",
    "values = [1, 2, 3]\n",
    "{k: v for k, v in zip(keys, values)}"
   ]
  },
  {
   "cell_type": "markdown",
   "metadata": {},
   "source": [
    "\n",
    "\n",
    "Use when you need a new dict immediately; prefer a regular loop if the expression gets hard to read."
   ]
  },
  {
   "cell_type": "markdown",
   "metadata": {},
   "source": [
    "**Exercise**\n",
    "\n",
    "Write a function `count_frequency(seq)` that takes a sequence of elements and returns a dictionary mapping each distinct element to the number of times it appears."
   ]
  },
  {
   "cell_type": "code",
   "execution_count": null,
   "metadata": {},
   "outputs": [],
   "source": [
    "seq = [\"hi\", \"I\", \"am\", \"Alexa\", \"I\", \"would\", \"just\", \"like\", \"to\", \"say\", \"hi\"]"
   ]
  },
  {
   "cell_type": "code",
   "execution_count": 213,
   "metadata": {},
   "outputs": [],
   "source": [
    "result = {\"hi\": 1}"
   ]
  },
  {
   "cell_type": "code",
   "execution_count": 216,
   "metadata": {},
   "outputs": [
    {
     "data": {
      "text/plain": [
       "1"
      ]
     },
     "execution_count": 216,
     "metadata": {},
     "output_type": "execute_result"
    }
   ],
   "source": [
    "result.get(\"hi\", 0)"
   ]
  },
  {
   "cell_type": "code",
   "execution_count": 217,
   "metadata": {},
   "outputs": [
    {
     "data": {
      "text/plain": [
       "{'hi': 2,\n",
       " 'I': 2,\n",
       " 'am': 1,\n",
       " 'Alice': 1,\n",
       " 'would': 1,\n",
       " 'just': 1,\n",
       " 'like': 1,\n",
       " 'to': 1,\n",
       " 'say': 1}"
      ]
     },
     "execution_count": 217,
     "metadata": {},
     "output_type": "execute_result"
    }
   ],
   "source": [
    "def count_frequency(seq):\n",
    "    \"\"\"\n",
    "    Return a dictionary of element frequencies in seq.\n",
    "\n",
    "    >>> seq = [\"hi\", \"I\", \"am\", \"Alice\", \"I\", \"would\", \"just\", \"like\", \"to\", \"say\", \"hi\"]\n",
    "    >>> count_frequency(seq)\n",
    "    {\n",
    "        \"hi\": 2,\n",
    "        \"I\": 2,\n",
    "        \"am\": 1,\n",
    "        \"Alice\": 1,\n",
    "        \"would\": 1,\n",
    "        \"just\": 1,\n",
    "        \"like\": 1,\n",
    "        \"to\": 1,\n",
    "        \"say\": 1,\n",
    "    }\n",
    "    \"\"\"\n",
    "    result = {}\n",
    "    for e in seq:\n",
    "        result[e] = result.get(e, 0) + 1\n",
    "    return result\n",
    "\n",
    "\n",
    "seq = [\"hi\", \"I\", \"am\", \"Alice\", \"I\", \"would\", \"just\", \"like\", \"to\", \"say\", \"hi\"]\n",
    "count_frequency(seq)"
   ]
  },
  {
   "cell_type": "markdown",
   "metadata": {},
   "source": [
    "Implement `divide`, which takes two lists of positive integers `quotients` and `divisors`. It returns a dictionary whose keys are the elements of `quotients`. For each key `q`, its corresponding value is a list of all the elements of `divisors` that can be evenly divided by `q`.\n",
    "\n",
    "Hint: The value for each key needs be a list, so list comprehension might be useful here."
   ]
  },
  {
   "cell_type": "code",
   "execution_count": null,
   "metadata": {},
   "outputs": [
    {
     "data": {
      "text/plain": [
       "{1: [20, 21, 22, 23, 24], 2: [20, 22, 24], 3: [21, 24], 4: [20, 24]}"
      ]
     },
     "execution_count": 218,
     "metadata": {},
     "output_type": "execute_result"
    }
   ],
   "source": [
    "def divide(quotients, divisors):\n",
    "    \"\"\"Return a dictonary in which each quotient q is a key for the list of\n",
    "    divisors that it divides evenly.\n",
    "\n",
    "    >>> divide([3, 4, 5], [8, 9, 10, 11, 12])\n",
    "    {3: [9, 12], 4: [8, 12], 5: [10]}\n",
    "    >>> divide(range(1, 5), range(20, 25))\n",
    "    {1: [20, 21, 22, 23, 24], 2: [20, 22, 24], 3: [21, 24], 4: [20, 24]}\n",
    "    \"\"\"\n",
    "    return {q: [d for d in divisors if d % q == 0] for q in quotients}\n",
    "\n",
    "\n",
    "divide(range(1, 5), range(20, 25))"
   ]
  },
  {
   "cell_type": "markdown",
   "metadata": {},
   "source": [
    "Implement the buy function that takes three parameters:\n",
    "\n",
    "`fruits_to_buy`: A list of strings representing the fruits you need to buy. At least one of each fruit must be bought.\n",
    "`prices`: A dictionary where the keys are fruit names (strings) and the values are positive integers representing the cost of each fruit.\n",
    "`total_amount`: An integer representing the total money available for purchasing the fruits. Take a look at the docstring for more details on the input structure.\n",
    "\n",
    "The function should print all possible ways to buy the required fruits so that the combined cost equals `total_amount`. You can only select fruits mentioned in `fruits_to_buy` list.\n",
    "\n",
    "Note: You can use the `display` function to format the output. Call display(fruit, count) for each fruit and its corresponding quantity to generate a string showing the type and amount of fruit bought."
   ]
  },
  {
   "cell_type": "markdown",
   "metadata": {},
   "source": [
    "Hint: How can you ensure that every combination includes at least one of each fruit listed in `fruits_to_buy`?"
   ]
  },
  {
   "cell_type": "code",
   "execution_count": null,
   "metadata": {},
   "outputs": [],
   "source": [
    "def buy(fruits_to_buy, prices, total_amount):\n",
    "    \"\"\"Print ways to buy some of each fruit so that the sum of prices is amount.\n",
    "\n",
    "    >>> prices = {'oranges': 4, 'apples': 3, 'bananas': 2, 'kiwis': 9}\n",
    "    >>> buy(['apples', 'oranges', 'bananas'], prices, 12)  # We can only buy apple, orange, and banana, but not kiwi\n",
    "    [2 apples][1 orange][1 banana]\n",
    "    >>> buy(['apples', 'oranges', 'bananas'], prices, 16)\n",
    "    [2 apples][1 orange][3 bananas]\n",
    "    [2 apples][2 oranges][1 banana]\n",
    "    >>> buy(['apples', 'kiwis'], prices, 36)\n",
    "    [3 apples][3 kiwis]\n",
    "    [6 apples][2 kiwis]\n",
    "    [9 apples][1 kiwi]\n",
    "    \"\"\"\n",
    "\n",
    "    def add(fruits, amount, cart):\n",
    "        if fruits == [] and amount == 0:\n",
    "            print(cart)\n",
    "        elif fruits and amount > 0:\n",
    "            fruit = fruits[0]\n",
    "            price = ____\n",
    "            for k in ____:\n",
    "                # Hint: The display function will help you add fruit to the cart.\n",
    "                add(____, ____, ____)\n",
    "\n",
    "    add(fruits_to_buy, total_amount, \"\")\n",
    "\n",
    "\n",
    "def display(fruit, count):\n",
    "    \"\"\"Display a count of a fruit in square brackets.\n",
    "\n",
    "    >>> display('apples', 3)\n",
    "    '[3 apples]'\n",
    "    >>> display('apples', 1)\n",
    "    '[1 apple]'\n",
    "    >>> print(display('apples', 3) + display('kiwis', 3))\n",
    "    [3 apples][3 kiwis]\n",
    "    \"\"\"\n",
    "    assert count >= 1 and fruit[-1] == \"s\"\n",
    "    if count == 1:\n",
    "        fruit = fruit[:-1]  # get rid of the plural s\n",
    "    return \"[\" + str(count) + \" \" + fruit + \"]\""
   ]
  },
  {
   "cell_type": "markdown",
   "metadata": {},
   "source": [
    "## Identity and Equality\n",
    "\n",
    "Identity refers to whether two variables point to the exact same object in memory, and equality refers to whether two objects have the same value."
   ]
  },
  {
   "cell_type": "code",
   "execution_count": 225,
   "metadata": {},
   "outputs": [
    {
     "name": "stdout",
     "output_type": "stream",
     "text": [
      "They are not equal.\n"
     ]
    }
   ],
   "source": [
    "a = [2, 4]\n",
    "b = [4, 2]\n",
    "\n",
    "if a != b:\n",
    "    print(\"They are not equal.\")\n",
    "else:\n",
    "    print(\"They are equal.\")"
   ]
  },
  {
   "cell_type": "code",
   "execution_count": 226,
   "metadata": {},
   "outputs": [],
   "source": [
    "a = [1, 2, 4]\n",
    "b = [1, 2, 4]\n",
    "a.append(5)"
   ]
  },
  {
   "cell_type": "code",
   "execution_count": 230,
   "metadata": {},
   "outputs": [],
   "source": [
    "a = [1, 2, 4]\n",
    "b = a\n",
    "a.append(5)"
   ]
  },
  {
   "cell_type": "code",
   "execution_count": 231,
   "metadata": {},
   "outputs": [
    {
     "data": {
      "text/plain": [
       "[1, 2, 4, 5]"
      ]
     },
     "execution_count": 231,
     "metadata": {},
     "output_type": "execute_result"
    }
   ],
   "source": [
    "b"
   ]
  },
  {
   "cell_type": "code",
   "execution_count": 232,
   "metadata": {},
   "outputs": [
    {
     "data": {
      "text/plain": [
       "4595952512"
      ]
     },
     "execution_count": 232,
     "metadata": {},
     "output_type": "execute_result"
    }
   ],
   "source": [
    "id(a)"
   ]
  },
  {
   "cell_type": "code",
   "execution_count": 233,
   "metadata": {},
   "outputs": [
    {
     "data": {
      "text/plain": [
       "4595952512"
      ]
     },
     "execution_count": 233,
     "metadata": {},
     "output_type": "execute_result"
    }
   ],
   "source": [
    "id(b)"
   ]
  },
  {
   "cell_type": "code",
   "execution_count": 234,
   "metadata": {},
   "outputs": [
    {
     "data": {
      "text/plain": [
       "[1, 2, 4, 5]"
      ]
     },
     "execution_count": 234,
     "metadata": {},
     "output_type": "execute_result"
    }
   ],
   "source": [
    "a"
   ]
  },
  {
   "cell_type": "code",
   "execution_count": 235,
   "metadata": {},
   "outputs": [],
   "source": [
    "a.append(6)"
   ]
  },
  {
   "cell_type": "code",
   "execution_count": 236,
   "metadata": {},
   "outputs": [
    {
     "data": {
      "text/plain": [
       "[1, 2, 4, 5, 6]"
      ]
     },
     "execution_count": 236,
     "metadata": {},
     "output_type": "execute_result"
    }
   ],
   "source": [
    "b"
   ]
  },
  {
   "cell_type": "code",
   "execution_count": 237,
   "metadata": {},
   "outputs": [
    {
     "data": {
      "text/plain": [
       "True"
      ]
     },
     "execution_count": 237,
     "metadata": {},
     "output_type": "execute_result"
    }
   ],
   "source": [
    "a is b"
   ]
  },
  {
   "cell_type": "code",
   "execution_count": 238,
   "metadata": {},
   "outputs": [
    {
     "data": {
      "text/plain": [
       "True"
      ]
     },
     "execution_count": 238,
     "metadata": {},
     "output_type": "execute_result"
    }
   ],
   "source": [
    "a == b"
   ]
  },
  {
   "cell_type": "code",
   "execution_count": 2,
   "metadata": {},
   "outputs": [],
   "source": [
    "a = [1, 2, 3]\n",
    "b = [1, 2, 3]"
   ]
  },
  {
   "cell_type": "code",
   "execution_count": 3,
   "metadata": {},
   "outputs": [
    {
     "data": {
      "text/plain": [
       "4609754112"
      ]
     },
     "execution_count": 3,
     "metadata": {},
     "output_type": "execute_result"
    }
   ],
   "source": [
    "id(a)"
   ]
  },
  {
   "cell_type": "code",
   "execution_count": 4,
   "metadata": {},
   "outputs": [
    {
     "data": {
      "text/plain": [
       "4609751104"
      ]
     },
     "execution_count": 4,
     "metadata": {},
     "output_type": "execute_result"
    }
   ],
   "source": [
    "id(b)"
   ]
  },
  {
   "cell_type": "code",
   "execution_count": 5,
   "metadata": {},
   "outputs": [],
   "source": [
    "a.append(4)"
   ]
  },
  {
   "cell_type": "code",
   "execution_count": 6,
   "metadata": {},
   "outputs": [
    {
     "data": {
      "text/plain": [
       "[1, 2, 3]"
      ]
     },
     "execution_count": 6,
     "metadata": {},
     "output_type": "execute_result"
    }
   ],
   "source": [
    "b"
   ]
  },
  {
   "cell_type": "code",
   "execution_count": null,
   "metadata": {},
   "outputs": [
    {
     "name": "stdout",
     "output_type": "stream",
     "text": [
      "a is provided, the value is hello.\n"
     ]
    }
   ],
   "source": [
    "def a_func_with_optional_parameter(a=None):\n",
    "    if a is None:\n",
    "        print(\"a is not provided.\")\n",
    "    else:\n",
    "        print(f\"a is provided, the value is {a}.\")"
   ]
  },
  {
   "cell_type": "code",
   "execution_count": null,
   "metadata": {},
   "outputs": [],
   "source": [
    "if type(a) is list:\n",
    "    pass\n",
    "\n",
    "if isinstance(a, list):\n",
    "    pass"
   ]
  },
  {
   "cell_type": "markdown",
   "metadata": {},
   "source": [
    "**Exercise**\n",
    "\n",
    "Implement `shuffle`, which takes a sequence `s` (such as a list or range) with an even number of elements. It returns a new list that interleaves the elements of the first half of `s` with the elements of the second half. It does not modify `s`.\n",
    "\n",
    "To interleave two sequences `s0` and `s1` is to create a new list containing the first element of `s0`, the first element of `s1`, the second element of `s0`, the second element of `s1`, and so on.\n",
    "For example, if `s0 = [1, 2, 3]` and `s1 = [4, 5, 6]`, then interleaving `s0` and `s1` would result in `[1, 4, 2, 5, 3, 6]`."
   ]
  },
  {
   "cell_type": "code",
   "execution_count": 83,
   "metadata": {},
   "outputs": [],
   "source": [
    "def shuffle(s):\n",
    "    \"\"\"Return a shuffled list that interleaves the two halves of s.\n",
    "    >>> shuffle(range(6))\n",
    "    [0, 3, 1, 4, 2, 5]\n",
    "    >>> letters = ['a', 'b', 'c', 'd', 'e', 'f', 'g', 'h']\n",
    "    >>> shuffle(letters)\n",
    "    ['a', 'e', 'b', 'f', 'c', 'g', 'd', 'h']\n",
    "    >>> shuffle(shuffle(letters))\n",
    "    ['a', 'c', 'e', 'g', 'b', 'd', 'f', 'h']\n",
    "    >>> letters  # Original list should not be modified\n",
    "    ['a', 'b', 'c', 'd', 'e', 'f', 'g', 'h']\n",
    "    \"\"\"\n",
    "    assert len(s) % 2 == 0, \"len(seq) must be even\"\n",
    "    \"*** YOUR CODE HERE ***\""
   ]
  },
  {
   "cell_type": "markdown",
   "metadata": {},
   "source": [
    "**Definition:** A nested list of numbers is a list that contains numbers and lists. It may contain only numbers, only lists, or a mixture of both. The lists must also be nested lists of numbers.\n",
    "\n",
    "For example: `[1, [2, [3]], 4]`, `[1, 2, 3]`, and `[[1, 2], [3, 4]]` are all nested lists of numbers.\n",
    "\n",
    "Write a function `deep_map` that takes two arguments: a nested list of numbers `s` and a one-argument function `f`. It modifies `s` **in place** by applying `f` to each number within `s` and replacing the number with the result of calling `f` on that number.\n",
    "\n",
    "`deep_map` returns `None` and should **not** create any new lists.\n",
    "\n",
    "> Hint: `type(a) is list` will evaluate to `True` if `a` is a list."
   ]
  },
  {
   "cell_type": "code",
   "execution_count": 82,
   "metadata": {},
   "outputs": [],
   "source": [
    "def deep_map(f, s):\n",
    "    \"\"\"Replace all non-list elements x with f(x) in the nested list s.\n",
    "    >>> six = [1, 2, [3, [4], 5], 6]\n",
    "    >>> deep_map(lambda x: x * x, six)\n",
    "    >>> six\n",
    "    [1, 4, [9, [16], 25], 36]\n",
    "    >>> # Check that you're not making new lists\n",
    "    >>> s = [3, [1, [4, [1]]]]\n",
    "    >>> s1 = s[1]\n",
    "    >>> s2 = s1[1]\n",
    "    >>> s3 = s2[1]\n",
    "    >>> deep_map(lambda x: x + 1, s)\n",
    "    >>> s\n",
    "    [4, [2, [5, [2]]]]\n",
    "    >>> s1 is s[1]\n",
    "    True\n",
    "    >>> s2 is s1[1]\n",
    "    True\n",
    "    >>> s3 is s2[1]\n",
    "    True\n",
    "    \"\"\"\n",
    "    \"*** YOUR CODE HERE ***\""
   ]
  },
  {
   "cell_type": "markdown",
   "metadata": {},
   "source": [
    "## Files\n",
    "\n",
    "### Read and Write"
   ]
  },
  {
   "cell_type": "code",
   "execution_count": 8,
   "metadata": {},
   "outputs": [
    {
     "name": "stdout",
     "output_type": "stream",
     "text": [
      "1\n",
      "2\n",
      "3\n",
      "4\n",
      "5\n",
      "6\n",
      "7\n",
      "8\n"
     ]
    }
   ],
   "source": [
    "# Modes: 'r' = read, 'w' = write, 'a' = append, 'b' = binary\n",
    "\n",
    "with open(\"inputs.txt\", \"r\") as f:\n",
    "    data = f.read()  # read entire file as string\n",
    "    print(data)"
   ]
  },
  {
   "cell_type": "code",
   "execution_count": 12,
   "metadata": {},
   "outputs": [
    {
     "name": "stdout",
     "output_type": "stream",
     "text": [
      "1\n",
      "2\n",
      "3\n",
      "4\n",
      "5\n",
      "6\n",
      "7\n",
      "8\n"
     ]
    }
   ],
   "source": [
    "# Read line by line\n",
    "with open(\"inputs.txt\", \"r\") as f:\n",
    "    for line in f:\n",
    "        print(line.strip())"
   ]
  },
  {
   "cell_type": "code",
   "execution_count": 13,
   "metadata": {},
   "outputs": [],
   "source": [
    "# Read all lines as list\n",
    "with open(\"inputs.txt\", \"r\") as f:\n",
    "    lines = f.readlines()"
   ]
  },
  {
   "cell_type": "markdown",
   "metadata": {},
   "source": [
    "### CSV"
   ]
  },
  {
   "cell_type": "code",
   "execution_count": 17,
   "metadata": {},
   "outputs": [
    {
     "name": "stdout",
     "output_type": "stream",
     "text": [
      "['name', 'age']\n",
      "['Alice', '30']\n",
      "['Bob', '25']\n"
     ]
    }
   ],
   "source": [
    "import csv\n",
    "\n",
    "# Writing\n",
    "rows = [\n",
    "    [\"name\", \"age\"],\n",
    "    [\"Alice\", 30],\n",
    "    [\"Bob\", 25],\n",
    "]\n",
    "\n",
    "with open(\"people.csv\", \"w\", newline=\"\") as f:\n",
    "    writer = csv.writer(f)\n",
    "    writer.writerows(rows)\n",
    "\n",
    "# Reading\n",
    "with open(\"people.csv\", \"r\") as f:\n",
    "    reader = csv.reader(f)\n",
    "    for row in reader:\n",
    "        print(row)"
   ]
  },
  {
   "cell_type": "markdown",
   "metadata": {},
   "source": [
    "### YAML\n",
    "\n",
    "YAML is a human-friendly format for configs. Needs the `PyYAML` library installed."
   ]
  },
  {
   "cell_type": "code",
   "execution_count": null,
   "metadata": {},
   "outputs": [
    {
     "name": "stdout",
     "output_type": "stream",
     "text": [
      "['Python', 'SQL', 'R', 'Excel']\n"
     ]
    }
   ],
   "source": [
    "import yaml\n",
    "\n",
    "# Writing\n",
    "data = {\"name\": \"Alice\", \"age\": 30, \"skills\": [\"Python\", \"SQL\"]}\n",
    "with open(\"config.yaml\", \"w\") as f:\n",
    "    yaml.dump(data, f)\n",
    "\n",
    "# Reading\n",
    "with open(\"config.yaml\", \"r\") as f:\n",
    "    loaded = yaml.safe_load(f)\n",
    "    print(loaded[\"skills\"])"
   ]
  },
  {
   "cell_type": "markdown",
   "metadata": {},
   "source": [
    "**Exercise**\n",
    "\n",
    "You are given a text file called **`quotes.txt`** with the following contents:\n",
    "\n",
    "```\n",
    "The journey of a thousand miles begins with one step.\n",
    "Life is what happens when you're busy making other plans.\n",
    "That which does not kill us makes us stronger.\n",
    "When the going gets tough, the tough get going.\n",
    "```\n",
    "\n",
    "Read the contents of `quotes.txt`  and write a new file called `short_quotes.txt` that contains only the lines with fewer than 50 characters.\n"
   ]
  },
  {
   "cell_type": "code",
   "execution_count": 29,
   "metadata": {},
   "outputs": [],
   "source": [
    "def remove_long_lines(input_file, output_file):\n",
    "    with open(input_file, \"r\") as f:\n",
    "        lines = f.readlines()\n",
    "\n",
    "    short_lines = [line for line in lines if len(line) < 51]\n",
    "\n",
    "    with open(output_file, \"w\") as f:\n",
    "        f.writelines(short_lines)\n",
    "\n",
    "\n",
    "remove_long_lines(\"quotes.txt\", \"short_quotes.txt\")"
   ]
  },
  {
   "cell_type": "markdown",
   "metadata": {},
   "source": [
    "## Classes and Objects"
   ]
  },
  {
   "cell_type": "code",
   "execution_count": 30,
   "metadata": {},
   "outputs": [],
   "source": [
    "class Account:\n",
    "    def __init__(self, name, balance=0):\n",
    "        self.name = name\n",
    "        self.balance = balance"
   ]
  },
  {
   "cell_type": "code",
   "execution_count": 31,
   "metadata": {},
   "outputs": [],
   "source": [
    "a_account = Account(name=\"Alice\", balance=100)"
   ]
  },
  {
   "cell_type": "code",
   "execution_count": 32,
   "metadata": {},
   "outputs": [
    {
     "data": {
      "text/plain": [
       "__main__.Account"
      ]
     },
     "execution_count": 32,
     "metadata": {},
     "output_type": "execute_result"
    }
   ],
   "source": [
    "type(a_account)"
   ]
  }
 ],
 "metadata": {
  "kernelspec": {
   "display_name": "algos",
   "language": "python",
   "name": "python3"
  },
  "language_info": {
   "codemirror_mode": {
    "name": "ipython",
    "version": 3
   },
   "file_extension": ".py",
   "mimetype": "text/x-python",
   "name": "python",
   "nbconvert_exporter": "python",
   "pygments_lexer": "ipython3",
   "version": "3.13.7"
  }
 },
 "nbformat": 4,
 "nbformat_minor": 2
}
