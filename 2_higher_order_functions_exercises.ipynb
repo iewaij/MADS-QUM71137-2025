{
 "cells": [
  {
   "cell_type": "markdown",
   "metadata": {},
   "source": [
    "## Higher-Order Functions"
   ]
  },
  {
   "cell_type": "markdown",
   "metadata": {},
   "source": [
    "Write a function called `product` that returns the product of the first `n` terms of a sequence. Specifically, `product` takes in an integer `n` and `term`, a single-argument function that determines a sequence. (That is, `term(i)` gives the `i`th term of the sequence.) `product(n, term)` should return `term(1) * … * term(n)`."
   ]
  },
  {
   "cell_type": "code",
   "execution_count": null,
   "metadata": {},
   "outputs": [],
   "source": [
    "from operator import add, mul\n",
    "\n",
    "square = lambda x: x * x\n",
    "\n",
    "identity = lambda x: x\n",
    "\n",
    "triple = lambda x: 3 * x\n",
    "\n",
    "increment = lambda x: x + 1"
   ]
  },
  {
   "cell_type": "code",
   "execution_count": null,
   "metadata": {},
   "outputs": [],
   "source": [
    "def product(n, term):\n",
    "    \"\"\"Return the product of the first n terms in a sequence.\n",
    "\n",
    "    n: a positive integer\n",
    "    term: a function that takes one argument to produce the term\n",
    "\n",
    "    >>> product(3, identity)  # 1 * 2 * 3\n",
    "    6\n",
    "    >>> product(5, identity)  # 1 * 2 * 3 * 4 * 5\n",
    "    120\n",
    "    >>> product(3, square)    # 1^2 * 2^2 * 3^2\n",
    "    36\n",
    "    >>> product(5, square)    # 1^2 * 2^2 * 3^2 * 4^2 * 5^2\n",
    "    14400\n",
    "    >>> product(3, increment) # (1+1) * (2+1) * (3+1)\n",
    "    24\n",
    "    >>> product(3, triple)    # 1*3 * 2*3 * 3*3\n",
    "    162\n",
    "    \"\"\"\n",
    "    \"*** YOUR CODE HERE ***\""
   ]
  },
  {
   "cell_type": "markdown",
   "metadata": {},
   "source": [
    "Let’s take a look at how `product` is an instance of a more general function called `accumulate`, which we would like to implement:"
   ]
  },
  {
   "cell_type": "code",
   "execution_count": null,
   "metadata": {},
   "outputs": [],
   "source": [
    "def accumulate(fuse, start, n, term):\n",
    "    \"\"\"Return the result of fusing together the first n terms in a sequence\n",
    "    and start. The terms to be fused are term(1), term(2), …, term(n).\n",
    "    The function fuse is a two-argument commutative & associative function.\n",
    "    >>> accumulate(add, 0, 5, identity)  # 0 + 1 + 2 + 3 + 4 + 5\n",
    "    15\n",
    "    >>> accumulate(add, 11, 5, identity) # 11 + 1 + 2 + 3 + 4 + 5\n",
    "    26\n",
    "    >>> accumulate(add, 11, 0, identity) # 11 (fuse is never used)\n",
    "    11\n",
    "    >>> accumulate(add, 11, 3, square)   # 11 + 1^2 + 2^2 + 3^2\n",
    "    25\n",
    "    >>> accumulate(mul, 2, 3, square)    # 2 * 1^2 * 2^2 * 3^2\n",
    "    72\n",
    "    >>> # 2 + (1^2 + 1) + (2^2 + 1) + (3^2 + 1)\n",
    "    >>> accumulate(lambda x, y: x + y + 1, 2, 3, square)\n",
    "    19\n",
    "    \"\"\"\n",
    "    \"*** YOUR CODE HERE ***\""
   ]
  },
  {
   "cell_type": "markdown",
   "metadata": {},
   "source": [
    "`accumulate` has the following parameters:\n",
    "\n",
    "* `fuse`: a two-argument function that specifies how the current term is fused with the previously accumulated terms\n",
    "* `start`: value at which to start the accumulation\n",
    "* `n`: a non-negative integer indicating the number of terms to fuse\n",
    "* `term`: a single-argument function; `term(i)` is the `i`th term of the sequence\n",
    "\n",
    "Implement `accumulate`, which fuses the first `n` terms of the sequence defined by `term` with the `start` value using the `fuse` function.\n",
    "\n",
    "Then, implement `summation` (from lecture) and `product` as one-line calls to `accumulate`.\n",
    "\n",
    "> Important: Both `summation_using_accumulate` and `product_using_accumulate` should be implemented with a single line of code starting with `return`."
   ]
  },
  {
   "cell_type": "code",
   "execution_count": null,
   "metadata": {},
   "outputs": [],
   "source": [
    "def summation_using_accumulate(n, term):\n",
    "    \"\"\"Returns the sum: term(1) + … + term(n), using accumulate.\n",
    "    >>> summation_using_accumulate(5, square) # square(1) + square(2) + … + square(5)\n",
    "    55\n",
    "    >>> summation_using_accumulate(5, triple) # triple(1) + triple(2) + … + triple(5)\n",
    "    45\n",
    "    >>> # This test checks that the body of the function is just a return statement.\n",
    "    >>> import inspect, ast\n",
    "    >>> [type(x).__name__ for x in ast.parse(inspect.getsource(summation_using_accumulate)).body[0].body]\n",
    "    ['Expr', 'Return']\n",
    "    \"\"\"\n",
    "    return ____\n",
    "\n",
    "\n",
    "def product_using_accumulate(n, term):\n",
    "    \"\"\"Returns the product: term(1) * … * term(n), using accumulate.\n",
    "    >>> product_using_accumulate(4, square) # square(1) * square(2) * square(3) * square(4)\n",
    "    576\n",
    "    >>> product_using_accumulate(6, triple) # triple(1) * triple(2) * … * triple(6)\n",
    "    524880\n",
    "    >>> # This test checks that the body of the function is just a return statement.\n",
    "    >>> import inspect, ast\n",
    "    >>> [type(x).__name__ for x in ast.parse(inspect.getsource(product_using_accumulate)).body[0].body]\n",
    "    ['Expr', 'Return']\n",
    "    \"\"\"\n",
    "    return ____"
   ]
  },
  {
   "cell_type": "markdown",
   "metadata": {},
   "source": [
    "Implement the function `make_repeater` which takes a one-argument function `f` and a positive integer `n`. It returns a one-argument function, where `make_repeater(f, n)(x)` returns the value of `f(f(...f(x)...))` in which `f` is applied `n` times to `x`.\n",
    "For example, `make_repeater(square, 3)(5)` squares 5 three times and returns 390625, just like `square(square(square(5)))`."
   ]
  },
  {
   "cell_type": "code",
   "execution_count": null,
   "metadata": {},
   "outputs": [],
   "source": [
    "def make_repeater(f, n):\n",
    "    \"\"\"Returns the function that computes the nth application of f.\n",
    "    >>> add_three = make_repeater(increment, 3)\n",
    "    >>> add_three(5)\n",
    "    8\n",
    "    >>> make_repeater(triple, 5)(1) # 3 * (3 * (3 * (3 * (3 * 1))))\n",
    "    243\n",
    "    >>> make_repeater(square, 2)(5) # square(square(5))\n",
    "    625\n",
    "    >>> make_repeater(square, 3)(5) # square(square(square(5)))\n",
    "    390625\n",
    "    \"\"\"\n",
    "    \"*** YOUR CODE HERE ***\""
   ]
  },
  {
   "cell_type": "markdown",
   "metadata": {},
   "source": [
    "Implement `swipe`, which prints the digits of argument `n`, one per line, first backward then forward. The left-most digit is printed only once. Do **not** use `while` or `for` or `str`. (Use recursion, of course!)"
   ]
  },
  {
   "cell_type": "code",
   "execution_count": null,
   "metadata": {},
   "outputs": [],
   "source": [
    "def swipe(n):\n",
    "    \"\"\"Print the digits of n, one per line, first backward then forward.\n",
    "\n",
    "    >>> swipe(2837)\n",
    "    7\n",
    "    3\n",
    "    8\n",
    "    2\n",
    "    8\n",
    "    3\n",
    "    7\n",
    "    \"\"\"\n",
    "    if n < 10:\n",
    "        print(n)\n",
    "    else:\n",
    "        \"*** YOUR CODE HERE ***\""
   ]
  },
  {
   "cell_type": "markdown",
   "metadata": {},
   "source": [
    "Define the base case for the `skip_factorial` function, which returns the product of every other positive integer, starting with `n`."
   ]
  },
  {
   "cell_type": "code",
   "execution_count": null,
   "metadata": {},
   "outputs": [],
   "source": [
    "def skip_factorial(n):\n",
    "    \"\"\"Return the product of positive integers n * (n - 2) * (n - 4) * ...\n",
    "\n",
    "    >>> skip_factorial(5) # 5 * 3 * 1\n",
    "    15\n",
    "    >>> skip_factorial(8) # 8 * 6 * 4 * 2\n",
    "    384\n",
    "    \"\"\"\n",
    "    if ___:\n",
    "        return ___\n",
    "    else:\n",
    "        return n * skip_factorial(n - 2)"
   ]
  },
  {
   "cell_type": "markdown",
   "metadata": {},
   "source": [
    "Implement `is_prime` that takes an integer `n` greater than 1. It returns `True` if `n` is a prime number and `False` otherwise. Try following the approach below, but implement it recursively **without using** a `while` (or `for`) statement.\n",
    "\n",
    "```text\n",
    "def is_prime(n):\n",
    "    assert n > 1\n",
    "    i = 2\n",
    "    while i < n:\n",
    "        if n % i == 0:\n",
    "            return False\n",
    "        i = i + 1\n",
    "    return True\n",
    "```\n",
    "\n",
    "You will need to define another \"helper\" function (a function that exists just to help implement this one). Does it matter whether you define it within `is_prime` or as a separate function in the global frame? Try to define it to take as few arguments as possible.\n",
    "\n",
    "**Hint:** Define an inner function that checks whether some integer between `i` and `n` evenly divides `n`. Then you can call it starting with `i = 2`:\n",
    "\n",
    "```python\n",
    "def is_prime(n):\n",
    "    def f(i):\n",
    "        if n % i == 0:\n",
    "            return ____\n",
    "        elif ____:\n",
    "            return ____\n",
    "        else:\n",
    "            return f(____)\n",
    "    return f(2)\n",
    "```"
   ]
  },
  {
   "cell_type": "code",
   "execution_count": null,
   "metadata": {},
   "outputs": [],
   "source": [
    "def is_prime(n):\n",
    "    \"\"\"Returns True if n is a prime number and False otherwise.\n",
    "    >>> is_prime(2)\n",
    "    True\n",
    "    >>> is_prime(16)\n",
    "    False\n",
    "    >>> is_prime(521)\n",
    "    True\n",
    "    \"\"\"\n",
    "    \"*** YOUR CODE HERE ***\""
   ]
  },
  {
   "cell_type": "markdown",
   "metadata": {},
   "source": [
    "Recall the `hailstone` function. First, pick a positive integer `n` as the start. If `n` is even, divide it by 2. If `n` is odd, multiply it by 3 and add 1. Repeat this process until `n` is 1. Complete this **recursive** version of `hailstone` that prints out the values of the sequence and returns the number of steps.\n",
    "\n",
    "**Hint:**\n",
    "\n",
    "* An even number is never a base case, so `even` always makes a recursive call and returns one more than the length of the rest of the hailstone sequence.\n",
    "* An odd number might be 1 (the base case) or greater than 1 (the recursive case). Only the recursive case should call `hailstone`.\n"
   ]
  },
  {
   "cell_type": "code",
   "execution_count": null,
   "metadata": {},
   "outputs": [],
   "source": [
    "def hailstone(n):\n",
    "    \"\"\"Print out the hailstone sequence starting at n,\n",
    "    and return the number of elements in the sequence.\n",
    "    >>> a = hailstone(10)\n",
    "    10\n",
    "    5\n",
    "    16\n",
    "    8\n",
    "    4\n",
    "    2\n",
    "    1\n",
    "    >>> a\n",
    "    7\n",
    "    >>> b = hailstone(1)\n",
    "    1\n",
    "    >>> b\n",
    "    1\n",
    "    \"\"\"\n",
    "    print(n)\n",
    "    if n % 2 == 0:\n",
    "        return even(n)\n",
    "    else:\n",
    "        return odd(n)\n",
    "\n",
    "\n",
    "def even(n):\n",
    "    return ____\n",
    "\n",
    "\n",
    "def odd(n):\n",
    "    \"*** YOUR CODE HERE ***\""
   ]
  },
  {
   "cell_type": "markdown",
   "metadata": {},
   "source": [
    "Write a recursive function `num_eights` that takes a positive integer `n` and returns the number of times the digit **8** appears in `n`."
   ]
  },
  {
   "cell_type": "code",
   "execution_count": null,
   "metadata": {},
   "outputs": [],
   "source": [
    "def num_eights(n):\n",
    "    \"\"\"Returns the number of times 8 appears as a digit of n.\n",
    "\n",
    "    >>> num_eights(3)\n",
    "    0\n",
    "    >>> num_eights(8)\n",
    "    1\n",
    "    >>> num_eights(88888888)\n",
    "    8\n",
    "    >>> num_eights(2638)\n",
    "    1\n",
    "    >>> num_eights(86380)\n",
    "    2\n",
    "    >>> num_eights(12345)\n",
    "    0\n",
    "    >>> num_eights(8782089)\n",
    "    3\n",
    "    >>> from construct_check import check\n",
    "    >>> # ban all assignment statements\n",
    "    >>> check(HW_SOURCE_FILE, 'num_eights',\n",
    "    ...       ['Assign', 'AnnAssign', 'AugAssign', 'NamedExpr', 'For', 'While'])\n",
    "    True\n",
    "    \"\"\"\n",
    "    \"*** YOUR CODE HERE ***\""
   ]
  },
  {
   "cell_type": "markdown",
   "metadata": {},
   "source": [
    "For a given integer, the **digit distance** is the sum of the absolute differences between consecutive digits.\n",
    "\n",
    "* Example: the digit distance of `61` is `|6 − 1| = 5`.\n",
    "* For `71253`, it is `|7-1| + |1-2| + |2-5| + |5-3| = 6 + 1 + 3 + 2 = 12`.\n",
    "* For a single digit, the digit distance is `0`.\n",
    "\n",
    "Write a recursive function `digit_distance(n)` that computes the digit distance of a positive integer `n`. Tests disallow loops."
   ]
  },
  {
   "cell_type": "code",
   "execution_count": null,
   "metadata": {},
   "outputs": [],
   "source": [
    "def digit_distance(n):\n",
    "    \"\"\"Determines the digit distance of n.\n",
    "\n",
    "    >>> digit_distance(3)\n",
    "    0\n",
    "    >>> digit_distance(777) # 0 + 0\n",
    "    0\n",
    "    >>> digit_distance(314) # 2 + 3\n",
    "    5\n",
    "    >>> digit_distance(31415926535) # 2 + 3 + 3 + 4 + ... + 2\n",
    "    32\n",
    "    >>> digit_distance(3464660003)  # 1 + 2 + 2 + 2 + ... + 3\n",
    "    16\n",
    "    >>> from construct_check import check\n",
    "    >>> # ban all loops\n",
    "    >>> check(HW_SOURCE_FILE, 'digit_distance',\n",
    "    ...       ['For', 'While'])\n",
    "    True\n",
    "    \"\"\"\n",
    "    \"*** YOUR CODE HERE ***\""
   ]
  },
  {
   "cell_type": "markdown",
   "metadata": {},
   "source": [
    "Given a positive integer total, a set of dollar bills makes change for total if the sum of the values of the dollar bills is total. Here we will use standard US dollar bill values: 1, 5, 10, 20, 50, and 100. For example, the following sets make change for 15:\n",
    "\n",
    "- 15 1-dollar bills\n",
    "- 10 1-dollar, 1 5-dollar bills\n",
    "- 5 1-dollar, 2 5-dollar bills\n",
    "- 5 1-dollar, 1 10-dollar bills\n",
    "- 3 5-dollar bills\n",
    "- 1 5-dollar, 1 10-dollar bills\n",
    "\n",
    "Thus, there are 6 ways to make change for 15. Write a recursive function count_dollars that takes a positive integer total and returns the number of ways to make change for total using 1, 5, 10, 20, 50, and 100 dollar bills.\n",
    "\n",
    "Use next_smaller_dollar in your solution: next_smaller_dollar will return the next smaller dollar bill value from the input (e.g. next_smaller_dollar(5) is 1). The function will return None if the next dollar bill value does not exist.\n",
    "\n",
    "Hint: Refer to the implementation of count_partitions for an example of how to count the ways to sum up to a final value with smaller parts. If you need to keep track of more than one value across recursive calls, consider writing a helper function."
   ]
  },
  {
   "cell_type": "code",
   "execution_count": null,
   "metadata": {},
   "outputs": [],
   "source": [
    "def next_smaller_dollar(bill):\n",
    "    \"\"\"Returns the next smaller bill in order.\"\"\"\n",
    "    if bill == 100:\n",
    "        return 50\n",
    "    if bill == 50:\n",
    "        return 20\n",
    "    if bill == 20:\n",
    "        return 10\n",
    "    elif bill == 10:\n",
    "        return 5\n",
    "    elif bill == 5:\n",
    "        return 1\n",
    "\n",
    "\n",
    "def count_dollars(total):\n",
    "    \"\"\"Return the number of ways to make change.\n",
    "\n",
    "    >>> count_dollars(15)  # 15 $1 bills, 10 $1 & 1 $5 bills, ... 1 $5 & 1 $10 bills\n",
    "    6\n",
    "    >>> count_dollars(10)  # 10 $1 bills, 5 $1 & 1 $5 bills, 2 $5 bills, 10 $1 bills\n",
    "    4\n",
    "    >>> count_dollars(20)  # 20 $1 bills, 15 $1 & $5 bills, ... 1 $20 bill\n",
    "    10\n",
    "    >>> count_dollars(45)  # How many ways to make change for 45 dollars?\n",
    "    44\n",
    "    >>> count_dollars(100) # How many ways to make change for 100 dollars?\n",
    "    344\n",
    "    >>> count_dollars(200) # How many ways to make change for 200 dollars?\n",
    "    3274\n",
    "    >>> from construct_check import check\n",
    "    >>> # ban iteration\n",
    "    >>> check(HW_SOURCE_FILE, 'count_dollars', ['While', 'For'])\n",
    "    True\n",
    "    \"\"\"\n",
    "    \"*** YOUR CODE HERE ***\""
   ]
  },
  {
   "cell_type": "markdown",
   "metadata": {},
   "source": [
    "A classic puzzle called the Towers of Hanoi is a game that consists of three rods, and a number of disks of different sizes which can slide onto any rod. The puzzle starts with n disks in a neat stack in ascending order of size on a start rod, the smallest at the top, forming a conical shape. Towers of Hanoi The objective of the puzzle is to move the entire stack to an end rod, obeying the following rules:\n",
    "Only one disk may be moved at a time.\n",
    "\n",
    "Each move consists of taking the top (smallest) disk from one of the rods and sliding it onto another rod, on top of the other disks that may already be present on that rod.\n",
    "\n",
    "No disk may be placed on top of a smaller disk.\n",
    "\n",
    "Complete the definition of move_stack, which prints out the steps required to move n disks from the start rod to the end rod without violating the rules. The provided print_move function will print out the step to move a single disk from the given origin to the given destination.\n",
    "\n",
    "Hint: Draw out a few games with various n on a piece of paper and try to find a pattern of disk movements that applies to any n. In your solution, take the recursive leap of faith whenever you need to move any amount of disks less than n from one rod to another. If you need more help, see the following hints."
   ]
  },
  {
   "cell_type": "code",
   "execution_count": null,
   "metadata": {},
   "outputs": [],
   "source": [
    "def print_move(origin, destination):\n",
    "    \"\"\"Print instructions to move a disk.\"\"\"\n",
    "    print(\"Move the top disk from rod\", origin, \"to rod\", destination)\n",
    "\n",
    "\n",
    "def move_stack(n, start, end):\n",
    "    \"\"\"Print the moves required to move n disks on the start pole to the end\n",
    "    pole without violating the rules of Towers of Hanoi.\n",
    "\n",
    "    n -- number of disks\n",
    "    start -- a pole position, either 1, 2, or 3\n",
    "    end -- a pole position, either 1, 2, or 3\n",
    "\n",
    "    There are exactly three poles, and start and end must be different. Assume\n",
    "    that the start pole has at least n disks of increasing size, and the end\n",
    "    pole is either empty or has a top disk larger than the top n start disks.\n",
    "\n",
    "    >>> move_stack(1, 1, 3)\n",
    "    Move the top disk from rod 1 to rod 3\n",
    "    >>> move_stack(2, 1, 3)\n",
    "    Move the top disk from rod 1 to rod 2\n",
    "    Move the top disk from rod 1 to rod 3\n",
    "    Move the top disk from rod 2 to rod 3\n",
    "    >>> move_stack(3, 1, 3)\n",
    "    Move the top disk from rod 1 to rod 3\n",
    "    Move the top disk from rod 1 to rod 2\n",
    "    Move the top disk from rod 3 to rod 2\n",
    "    Move the top disk from rod 1 to rod 3\n",
    "    Move the top disk from rod 2 to rod 1\n",
    "    Move the top disk from rod 2 to rod 3\n",
    "    Move the top disk from rod 1 to rod 3\n",
    "    \"\"\"\n",
    "    assert 1 <= start <= 3 and 1 <= end <= 3 and start != end, \"Bad start/end\"\n",
    "    \"*** YOUR CODE HERE ***\""
   ]
  }
 ],
 "metadata": {
  "kernelspec": {
   "display_name": "ml",
   "language": "python",
   "name": "python3"
  },
  "language_info": {
   "codemirror_mode": {
    "name": "ipython",
    "version": 3
   },
   "file_extension": ".py",
   "mimetype": "text/x-python",
   "name": "python",
   "nbconvert_exporter": "python",
   "pygments_lexer": "ipython3",
   "version": "3.12.3"
  }
 },
 "nbformat": 4,
 "nbformat_minor": 2
}
