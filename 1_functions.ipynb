{
 "cells": [
  {
   "cell_type": "markdown",
   "metadata": {},
   "source": [
    "# Functions\n",
    "## Introduction\n",
    "\n",
    "- Functions are **computational processes** that transform inputs to outputs, and emphasizes *managing complexity via abstraction*.\n",
    "- In programming, **functions** are our primary tool for *abstraction*, letting us name and reuse computations.\n",
    "- We start by looking at built-in functions (the primitives), then learn how to define new ones, compose them, and apply advanced patterns (higher-order, recursion, modules, etc.)."
   ]
  },
  {
   "cell_type": "markdown",
   "metadata": {},
   "source": [
    "## Built-In Functions\n",
    "\n",
    "Built-in functions (and operators) are functions provided by the language runtime; you don’t need to define or import them.\n",
    "\n",
    "**Why they matter:** They are foundational building blocks, and understanding what’s available prevents reinventing wheels.\n",
    "\n",
    "### Math / Numeric Built-ins\n",
    "\n",
    "Python assumes arithmetic operators and some primitive functions are built-in. Examples include:\n",
    "\n",
    "* `+`, `-`, `*`, `/` — arithmetic operators\n",
    "* `abs()`, `pow()`, `max()`, `min()`, `sum()` — common numeric built-ins\n",
    "* (When imported) functions like `math.sqrt`, `math.sin`, etc.\n",
    "\n",
    "You often combine built-ins in nested fashion:"
   ]
  },
  {
   "cell_type": "code",
   "execution_count": 4,
   "metadata": {},
   "outputs": [
    {
     "data": {
      "text/plain": [
       "2"
      ]
     },
     "execution_count": 4,
     "metadata": {},
     "output_type": "execute_result"
    }
   ],
   "source": [
    "100 // 50"
   ]
  },
  {
   "cell_type": "code",
   "execution_count": 6,
   "metadata": {},
   "outputs": [
    {
     "data": {
      "text/plain": [
       "2"
      ]
     },
     "execution_count": 6,
     "metadata": {},
     "output_type": "execute_result"
    }
   ],
   "source": [
    "100 % 49"
   ]
  },
  {
   "cell_type": "code",
   "execution_count": 8,
   "metadata": {},
   "outputs": [
    {
     "data": {
      "text/plain": [
       "8"
      ]
     },
     "execution_count": 8,
     "metadata": {},
     "output_type": "execute_result"
    }
   ],
   "source": [
    "pow(2, 3)"
   ]
  },
  {
   "cell_type": "code",
   "execution_count": 1,
   "metadata": {},
   "outputs": [
    {
     "data": {
      "text/plain": [
       "10"
      ]
     },
     "execution_count": 1,
     "metadata": {},
     "output_type": "execute_result"
    }
   ],
   "source": [
    "x = -5\n",
    "y = 10\n",
    "\n",
    "max(abs(x), abs(y))"
   ]
  },
  {
   "cell_type": "code",
   "execution_count": 10,
   "metadata": {},
   "outputs": [
    {
     "data": {
      "text/plain": [
       "10.0"
      ]
     },
     "execution_count": 10,
     "metadata": {},
     "output_type": "execute_result"
    }
   ],
   "source": [
    "import math\n",
    "\n",
    "math.sqrt(100)"
   ]
  },
  {
   "cell_type": "code",
   "execution_count": 16,
   "metadata": {},
   "outputs": [
    {
     "data": {
      "text/plain": [
       "1.2246467991473532e-16"
      ]
     },
     "execution_count": 16,
     "metadata": {},
     "output_type": "execute_result"
    }
   ],
   "source": [
    "math.sin(math.pi)"
   ]
  },
  {
   "cell_type": "markdown",
   "metadata": {},
   "source": [
    "### Other Built-ins\n",
    "\n",
    "Also, Python has many non-math built-ins (from standard library), e.g.:\n",
    "\n",
    "* Utilities: `len()`, `range()`, `sorted()`, `zip()`\n",
    "* Introspection: `type()`, `dir()`, `help()`\n",
    "\n",
    "These expand your toolkit when building functions."
   ]
  },
  {
   "cell_type": "markdown",
   "metadata": {},
   "source": [
    "\n",
    "## Defining New Functions\n",
    "\n",
    "This is the heart of abstraction: you name a computation so you can reuse and reason about it.\n",
    "\n",
    "### Basic Syntax\n",
    "\n",
    "```python\n",
    "def square(x):\n",
    "    return mul(x, x)\n",
    "```\n",
    "\n",
    "Here, `square` is a new function; `x` is a formal parameter.\n",
    "\n",
    "More generally:\n",
    "\n",
    "```text\n",
    "def <name>(<parameters>):\n",
    "    \"\"\"optional docstring\"\"\"\n",
    "    body (expressions, statements)\n",
    "    return <expression>\n",
    "```\n",
    "\n",
    "* Functions are first-class: once defined, they can be passed around, stored in variables, etc.\n",
    "* A `def` binds the name to a function object; any prior binding is lost."
   ]
  },
  {
   "cell_type": "code",
   "execution_count": null,
   "metadata": {},
   "outputs": [],
   "source": [
    "def welcome():\n",
    "    print('Go')\n",
    "    return 'hello'\n",
    "\n",
    "def cal():\n",
    "    print('Eagles')\n",
    "    return 'world'\n",
    "\n",
    "welcome()\n",
    "\n",
    "print(welcome(), cal())"
   ]
  },
  {
   "cell_type": "markdown",
   "metadata": {},
   "source": [
    "### Designing Functions\n",
    "\n",
    "Good design is as important as correctness.\n",
    "\n",
    "Best practices:\n",
    "\n",
    "* **Single responsibility**: each function should do one thing\n",
    "* **Clear, meaningful names**\n",
    "* **Decompose complexity**: break tasks into smaller subtasks\n",
    "* Minimize dependencies and side effects\n",
    "* Consistency in parameter order and return types\n",
    "\n",
    "### Documentation (Docstrings & Comments)\n",
    "\n",
    "A function should include a **docstring** to explain its purpose, parameters, and behavior. Consider using Google stype or NumPy style:\n",
    "\n",
    "```python\n",
    "def pressure(v, t, n=6.022e23):\n",
    "    \"\"\"Compute pressure in pascals of an ideal gas.\n",
    "\n",
    "    Parameters\n",
    "    ----------\n",
    "    v : float\n",
    "        volume\n",
    "    t : float\n",
    "        temperature\n",
    "    n : int\n",
    "        number of particles, default is 6.022e23 (Avogadro number)\n",
    "    \"\"\"\n",
    "    k = 1.38e-23\n",
    "    return n * k * t / v\n",
    "```\n",
    "\n",
    "* The first line is a summary; optional lines below clarify parameters, side effects, edge cases.\n",
    "* Use comments (`# …`) for internal clarification, not for external API.\n",
    "\n",
    "### Default Values\n",
    "\n",
    "You can provide defaults for parameters:\n",
    "\n",
    "```python\n",
    "def pressure(v, t, n=6.022e23):\n",
    "    ...\n",
    "```\n",
    "\n",
    "If the caller omits `n`, it defaults to Avogadro’s number. *Composing Programs* argues many internal “constants” should be default parameters to allow override.\n",
    "\n",
    "Caveats:\n",
    "\n",
    "* Default values are evaluated at function definition time\n",
    "* Mutable defaults (e.g. lists) can lead to shared state pitfalls\n",
    "\n",
    "### Raising Errors\n",
    "\n",
    "A function may detect invalid input or impossible states and *raise* an exception:\n",
    "\n",
    "```python\n",
    "def safe_div(x, y):\n",
    "    if y == 0:\n",
    "        raise ValueError(\"Division by zero\")\n",
    "    return x / y\n",
    "```\n",
    "\n",
    "Raising errors early signals misuse, helps debugging, and keeps invariants clean.\n",
    "\n",
    "### Handling Errors\n",
    "\n",
    "Functions may also **catch** exceptions (using `try` / `except`) to provide fallback behavior or transform errors:\n",
    "\n",
    "```python\n",
    "def safe_int(s):\n",
    "    try:\n",
    "        return int(s)\n",
    "    except ValueError:\n",
    "        return None\n",
    "```\n",
    "\n",
    "This allows you to control propagation or degrade gracefully.\n",
    "\n",
    "### Global and Local Variables\n",
    "\n",
    "Understanding scope is crucial:\n",
    "\n",
    "* **Local variables**: parameters and names defined within the function body\n",
    "* **Global variables**: names bound in the module (or built-in) namespace\n",
    "\n",
    "Be cautious with mutating globals. Prefer passing in data rather than relying on global side effects.\n",
    "\n",
    "### Side Effects\n",
    "\n",
    "A side effect is when a function modifies some state outside its local scope (e.g. print, mutate global data, file I/O). Pure functions (no side effects) are easier to reason about.\n",
    "\n",
    "When writing functions:\n",
    "\n",
    "* Minimize side effects\n",
    "* If side effects exist, document them clearly\n",
    "* Keep a separation: computation vs effect"
   ]
  },
  {
   "cell_type": "code",
   "execution_count": 3,
   "metadata": {},
   "outputs": [
    {
     "data": {
      "text/plain": [
       "[1, 3, 3]"
      ]
     },
     "execution_count": 3,
     "metadata": {},
     "output_type": "execute_result"
    }
   ],
   "source": [
    "a = [1, 2, 3]\n",
    "\n",
    "def plus_one_for_second(x):\n",
    "    x[1] += 1\n",
    "    return x\n",
    "\n",
    "plus_one_for_second(a)"
   ]
  },
  {
   "cell_type": "code",
   "execution_count": 4,
   "metadata": {},
   "outputs": [
    {
     "data": {
      "text/plain": [
       "[1, 3, 3]"
      ]
     },
     "execution_count": 4,
     "metadata": {},
     "output_type": "execute_result"
    }
   ],
   "source": [
    "a"
   ]
  },
  {
   "cell_type": "markdown",
   "metadata": {},
   "source": [
    "\n",
    "## Modules\n",
    "\n",
    "As your program grows, you want to organize functions into modules or packages.\n",
    "\n",
    "### Importing Library Functions\n",
    "\n",
    "Use Python’s standard library or third-party modules:\n",
    "\n",
    "```python\n",
    "import math\n",
    "math.sqrt(2)\n",
    "\n",
    "from math import sin, cos\n",
    "```\n",
    "\n",
    "Importing binds names into your module’s namespace.\n",
    "\n",
    "### Importing Functions from a File (Module)\n",
    "\n",
    "You can split your code into files. Suppose you have `utils.py`:\n",
    "\n",
    "```python\n",
    "# utils.py\n",
    "def helper(...):\n",
    "    ...\n",
    "```\n",
    "\n",
    "Then in your main file:\n",
    "\n",
    "```python\n",
    "from utils import helper\n",
    "# or\n",
    "import utils\n",
    "utils.helper(...)\n",
    "```\n",
    "\n",
    "This modularization keeps code manageable, improves reusability, and reduces name conflicts.\n",
    "\n",
    "### Importing Functions from a Folder (Package)\n",
    "\n",
    "A folder with `__init__.py` becomes a package. For instance:\n",
    "\n",
    "```\n",
    "mypkg/\n",
    "    __init__.py\n",
    "    mod1.py\n",
    "    mod2.py\n",
    "```\n",
    "\n",
    "You can import via:\n",
    "\n",
    "```python\n",
    "from mypkg.mod1 import f\n",
    "from mypkg import mod2\n",
    "```\n",
    "\n",
    "Packages let you structure large projects hierarchically."
   ]
  },
  {
   "cell_type": "markdown",
   "metadata": {},
   "source": [
    "\n",
    "## Unit Testing\n",
    "\n",
    "Functions are easier to test because they isolate behavior. Introduce testing early.\n",
    "\n",
    "* With **pytest**, you just write simple test functions and use plain `assert`.\n",
    "* Tests should cover expected behavior, edge cases, and error conditions.\n",
    "* Re-run tests automatically with `pytest -q` or `pytest -v` to see results.\n",
    "\n",
    "Benefits of unit testing:\n",
    "\n",
    "* Detect bugs early\n",
    "* Documentation of intended behavior\n",
    "* Confidence when refactoring\n",
    "\n",
    "Basic example with `pytest`:\n",
    "\n",
    "```python\n",
    "# test_mymodule.py\n",
    "import pytest\n",
    "from mymodule import myfunc\n",
    "\n",
    "def test_normal_case():\n",
    "    assert myfunc(2) == 4\n",
    "\n",
    "def test_edge_case():\n",
    "    with pytest.raises(ValueError):\n",
    "        myfunc(0)\n",
    "```\n",
    "\n",
    "Run with:\n",
    "\n",
    "```bash\n",
    "pytest\n",
    "```"
   ]
  }
 ],
 "metadata": {
  "kernelspec": {
   "display_name": "ml",
   "language": "python",
   "name": "python3"
  },
  "language_info": {
   "codemirror_mode": {
    "name": "ipython",
    "version": 3
   },
   "file_extension": ".py",
   "mimetype": "text/x-python",
   "name": "python",
   "nbconvert_exporter": "python",
   "pygments_lexer": "ipython3",
   "version": "3.12.3"
  }
 },
 "nbformat": 4,
 "nbformat_minor": 2
}
