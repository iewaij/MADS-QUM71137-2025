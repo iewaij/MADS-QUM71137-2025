{
 "cells": [
  {
   "cell_type": "markdown",
   "metadata": {},
   "source": [
    "# More on Data Structures"
   ]
  },
  {
   "cell_type": "markdown",
   "metadata": {},
   "source": [
    "## Linked List\n",
    "\n",
    "For lists (or arrays) in Python, appending, assigning, and list comprehensions are fast. But inserting (beginning/middle), slicing, and adding lists are slow. Linked list are opposite to lists, they are faster while insertion and deletion of items while a bit slow on reading items. It consists of nodes where each node holds data and a pointer(address to another node). This structure makes linked lists dynamic and flexible in scenarios where frequent insertions and deletions are required.\n",
    "\n",
    "![Linked List](https://mrinalxdev.github.io/mrinalxblogs/blogs/assets/dsa/linkedpointers.png)\n",
    "\n",
    "A linked list is either empty, or it consists of a head element followed by the remainder of the linked list. It can represented as:\n",
    "\n",
    "```Python\n",
    "Link(3, Link(4, Link(5, )))\n",
    "```"
   ]
  },
  {
   "cell_type": "code",
   "execution_count": 9,
   "metadata": {},
   "outputs": [],
   "source": [
    "class Link:\n",
    "    empty = ()\n",
    "\n",
    "    def __init__(self, first, rest=empty):\n",
    "        self.first = first\n",
    "        self.rest = rest\n",
    "\n",
    "    def __repr__(self):\n",
    "        if self.rest is not Link.empty:\n",
    "            rest_repr = \", \" + repr(self.rest)\n",
    "        else:\n",
    "            rest_repr = \"\"\n",
    "        return \"Link(\" + repr(self.first) + rest_repr + \")\"\n",
    "\n",
    "    def __str__(self):\n",
    "        string = \"<\"\n",
    "        while self.rest is not Link.empty:\n",
    "            string += str(self.first) + \" \"\n",
    "            self = self.rest\n",
    "        return string + str(self.first) + \">\""
   ]
  },
  {
   "cell_type": "code",
   "execution_count": 12,
   "metadata": {},
   "outputs": [
    {
     "name": "stdout",
     "output_type": "stream",
     "text": [
      "<3 5 7>\n"
     ]
    }
   ],
   "source": [
    "# Create a linked list of <3 5 7>\n",
    "ll = Link(3, Link(5, Link(7, ())))\n",
    "print(ll)"
   ]
  },
  {
   "cell_type": "code",
   "execution_count": 4,
   "metadata": {},
   "outputs": [],
   "source": [
    "class Link:\n",
    "    empty = ()  # Some zero-length sequence\n",
    "\n",
    "    def __init__(self, first, rest=empty):\n",
    "        # Returns whether rest is a Link\n",
    "        assert rest is Link.empty or isinstance(rest, Link)\n",
    "        self.first = first\n",
    "        self.rest = rest\n",
    "\n",
    "    def __repr__(self):\n",
    "        if self.rest is not Link.empty:\n",
    "            rest_repr = \", \" + repr(self.rest)\n",
    "        else:\n",
    "            rest_repr = \"\"\n",
    "        return \"Link(\" + repr(self.first) + rest_repr + \")\"\n",
    "\n",
    "    def __str__(self):\n",
    "        string = \"<\"\n",
    "        while self.rest is not Link.empty:\n",
    "            string += str(self.first) + \" \"\n",
    "            self = self.rest\n",
    "        return string + str(self.first) + \">\""
   ]
  },
  {
   "cell_type": "code",
   "execution_count": 2,
   "metadata": {},
   "outputs": [
    {
     "data": {
      "text/plain": [
       "Link(10, Link(5, Link(8)))"
      ]
     },
     "execution_count": 2,
     "metadata": {},
     "output_type": "execute_result"
    }
   ],
   "source": [
    "ll = Link(10, Link(5, Link(8)))\n",
    "ll"
   ]
  },
  {
   "cell_type": "code",
   "execution_count": 3,
   "metadata": {},
   "outputs": [
    {
     "name": "stdout",
     "output_type": "stream",
     "text": [
      "<10 5 8>\n"
     ]
    }
   ],
   "source": [
    "print(ll)"
   ]
  },
  {
   "cell_type": "markdown",
   "metadata": {},
   "source": [
    "**Exercise**\n",
    "\n",
    "Implement `double` and `double_link` that double the elements in `s`."
   ]
  },
  {
   "cell_type": "code",
   "execution_count": null,
   "metadata": {},
   "outputs": [],
   "source": [
    "def double(s, v):\n",
    "    \"\"\"Insert another v after each v in list s.\n",
    "    >>> s = [2, 7, 1, 8, 2, 8]\n",
    "    >>> double(s, 8)\n",
    "    >>> s\n",
    "    [2, 7, 1, 8, 8, 2, 8, 8]\n",
    "    \"\"\"\n",
    "    pass"
   ]
  },
  {
   "cell_type": "code",
   "execution_count": null,
   "metadata": {},
   "outputs": [],
   "source": [
    "def double_link(s, v):\n",
    "    \"\"\"Insert another v after each v in linked list s.\n",
    "    >>> s = Link(2, Link(7, Link(1, Link(8, Link(2, Link(8))))))\n",
    "    >>> double_link(s, 8)\n",
    "    >>> print(s)\n",
    "    <2 7 1 8 8 2 8 8>\n",
    "    \"\"\"\n",
    "    pass"
   ]
  },
  {
   "cell_type": "code",
   "execution_count": 18,
   "metadata": {},
   "outputs": [],
   "source": [
    "def double_link(p, v):\n",
    "    \"\"\"Insert another v after each v in linked list p, mutating p.\"\"\"\n",
    "    while p is not Link.empty:\n",
    "        if p.first == v:\n",
    "            p.rest = Link(v, p.rest)\n",
    "            p = p.rest.rest\n",
    "        else:\n",
    "            p = p.rest"
   ]
  },
  {
   "cell_type": "code",
   "execution_count": 22,
   "metadata": {},
   "outputs": [],
   "source": [
    "p = Link(1, Link(2, Link(8, Link(9))))"
   ]
  },
  {
   "cell_type": "code",
   "execution_count": 20,
   "metadata": {},
   "outputs": [],
   "source": [
    "double_link(p, v)"
   ]
  },
  {
   "cell_type": "code",
   "execution_count": 21,
   "metadata": {},
   "outputs": [
    {
     "name": "stdout",
     "output_type": "stream",
     "text": [
      "<1 2 8 8 9>\n"
     ]
    }
   ],
   "source": [
    "print(p)"
   ]
  },
  {
   "cell_type": "markdown",
   "metadata": {},
   "source": [
    "### Speed Comparison"
   ]
  },
  {
   "cell_type": "code",
   "execution_count": 1,
   "metadata": {},
   "outputs": [],
   "source": [
    "def make_list(n=10_000, v=8, p=0.2):\n",
    "    import random\n",
    "\n",
    "    random.seed(0)\n",
    "    return [v if random.random() < p else random.randint(0, 9) for _ in range(n)]\n",
    "\n",
    "\n",
    "def make_link(vals):\n",
    "    s = Link.empty\n",
    "    for x in reversed(vals):\n",
    "        s = Link(x, s)\n",
    "    return s\n",
    "\n",
    "\n",
    "def double(s, v):\n",
    "    \"\"\"Insert another v after each v in list s, mutating s.\"\"\"\n",
    "    i = 0\n",
    "    n = len(s)\n",
    "    while i < n:\n",
    "        if s[i] == v:\n",
    "            s.insert(i + 1, v)\n",
    "            i += 2\n",
    "            n += 1\n",
    "        else:\n",
    "            i += 1\n",
    "\n",
    "\n",
    "def double_link(s, v):\n",
    "    \"\"\"Insert another v after each v in linked list s, mutating s.\"\"\"\n",
    "    p = s\n",
    "    while p is not Link.empty:\n",
    "        if p.first == v:\n",
    "            p.rest = Link(v, p.rest)\n",
    "            p = p.rest.rest\n",
    "        else:\n",
    "            p = p.rest"
   ]
  },
  {
   "cell_type": "code",
   "execution_count": 5,
   "metadata": {},
   "outputs": [],
   "source": [
    "base_list = make_list(n=10, v=8, p=0.2)\n",
    "base_link = make_link(base_list)"
   ]
  },
  {
   "cell_type": "code",
   "execution_count": 6,
   "metadata": {},
   "outputs": [
    {
     "name": "stdout",
     "output_type": "stream",
     "text": [
      "[6, 8, 7, 4, 5, 3, 4, 8, 8, 8]\n"
     ]
    }
   ],
   "source": [
    "print(base_list)"
   ]
  },
  {
   "cell_type": "code",
   "execution_count": 7,
   "metadata": {},
   "outputs": [
    {
     "name": "stdout",
     "output_type": "stream",
     "text": [
      "<6 8 7 4 5 3 4 8 8 8>\n"
     ]
    }
   ],
   "source": [
    "print(base_link)"
   ]
  },
  {
   "cell_type": "code",
   "execution_count": 8,
   "metadata": {},
   "outputs": [],
   "source": [
    "double_link(base_link, 8)"
   ]
  },
  {
   "cell_type": "code",
   "execution_count": 19,
   "metadata": {},
   "outputs": [],
   "source": [
    "base_list = make_list(n=100_000, v=8, p=0.2)\n",
    "base_link = make_link(base_list)\n",
    "\n",
    "\n",
    "def bench_double(base_list):\n",
    "    s = base_list[:]  # copy to avoid cumulative mutation\n",
    "    double(s, 8)\n",
    "\n",
    "\n",
    "def bench_double_link(base_list):\n",
    "    s = make_link(base_list)  # build a new linked list to avoid cumulative mutation\n",
    "    double_link(s, 8)"
   ]
  },
  {
   "cell_type": "code",
   "execution_count": 20,
   "metadata": {},
   "outputs": [
    {
     "name": "stdout",
     "output_type": "stream",
     "text": [
      "249 ms ± 9.25 ms per loop (mean ± std. dev. of 7 runs, 1 loop each)\n"
     ]
    }
   ],
   "source": [
    "%timeit bench_double(base_list)"
   ]
  },
  {
   "cell_type": "code",
   "execution_count": 21,
   "metadata": {},
   "outputs": [
    {
     "name": "stdout",
     "output_type": "stream",
     "text": [
      "20.6 ms ± 98.4 μs per loop (mean ± std. dev. of 7 runs, 10 loops each)\n"
     ]
    }
   ],
   "source": [
    "%timeit bench_double_link(base_list)"
   ]
  },
  {
   "cell_type": "code",
   "execution_count": 23,
   "metadata": {},
   "outputs": [],
   "source": [
    "def cycle(k, n):\n",
    "    \"\"\"Build an n-element list that cycles among range(k).\n",
    "    >>> cycle(3, 10)\n",
    "    [0, 1, 2, 0, 1, 2, 0, 1, 2, 0]\n",
    "    \"\"\"\n",
    "    s = []\n",
    "    for i in range(n):\n",
    "        s.append(i % k)\n",
    "    return s\n",
    "\n",
    "\n",
    "def cycle_link(k, n):\n",
    "    \"\"\"Build an n-element linked list that cycles among range(k).\n",
    "    >>> print(cycle_link(3, 10))\n",
    "    <0 1 2 0 1 2 0 1 2 0>\n",
    "    \"\"\"\n",
    "    first = Link.empty\n",
    "    for i in range(n):\n",
    "        new_link = Link(i % k)\n",
    "    if first is Link.empty:\n",
    "        first, last = new_link, new_link\n",
    "    else:\n",
    "        last.rest, last = new_link, new_link\n",
    "    return first"
   ]
  },
  {
   "cell_type": "code",
   "execution_count": 24,
   "metadata": {},
   "outputs": [
    {
     "name": "stdout",
     "output_type": "stream",
     "text": [
      "34.2 ms ± 888 μs per loop (mean ± std. dev. of 7 runs, 10 loops each)\n"
     ]
    }
   ],
   "source": [
    "%timeit cycle(3, 1_000_000)"
   ]
  },
  {
   "cell_type": "code",
   "execution_count": 25,
   "metadata": {},
   "outputs": [
    {
     "name": "stdout",
     "output_type": "stream",
     "text": [
      "172 ms ± 1.09 ms per loop (mean ± std. dev. of 7 runs, 1 loop each)\n"
     ]
    }
   ],
   "source": [
    "%timeit cycle_link(3, 1_000_000)"
   ]
  },
  {
   "cell_type": "markdown",
   "metadata": {},
   "source": [
    "**Exercise**\n",
    "\n",
    "Normal slice notation (such as s[1:3]) and insertion (such as s[3] = 2 ) don't work if it is a linked list. Implement `slice_link` and `insert_link`."
   ]
  },
  {
   "cell_type": "code",
   "execution_count": null,
   "metadata": {},
   "outputs": [],
   "source": [
    "def slice_link(s, i, j):\n",
    "    \"\"\"Return a linked list containing elements from i:j.\n",
    "    >>> evens = Link(4, Link(2, Link(6)))\n",
    "    >>> slice_link(evens, 1, 100)\n",
    "    Link(2, Link(6))\n",
    "    >>> slice_link(evens, 1, 2)\n",
    "    Link(2)\n",
    "    >>> slice_link(evens, 0, 2)\n",
    "    Link(4, Link(2))\n",
    "    >>> slice_link(evens, 1, 1) is Link.empty\n",
    "    True\n",
    "    \"\"\"\n",
    "    pass"
   ]
  },
  {
   "cell_type": "code",
   "execution_count": 3,
   "metadata": {},
   "outputs": [],
   "source": [
    "def insert_link(s, x, i):\n",
    "    \"\"\"Insert x into linked list s at index i.\n",
    "    >>> evens = Link(4, Link(2, Link(6)))\n",
    "    >>> insert_link(evens, 8, 1)\n",
    "    evens\n",
    "    >>> insert_link(evens, 10, 4)\n",
    "    >>> insert_link(evens, 12, 0)\n",
    "    >>> insert_link(evens, 14, 10)\n",
    "    Index out of range\n",
    "    >>> print(evens)\n",
    "    <12 4 8 2 6 10>\n",
    "    \"\"\"\n",
    "    pass"
   ]
  },
  {
   "cell_type": "markdown",
   "metadata": {},
   "source": [
    "## Trees\n",
    "\n",
    "Trees are hierarchical data structures consisting of nodes connected by edges, with a single root node at the top and child nodes branching out. Each node can have zero or more children, and nodes without children are called leaves.\n",
    "\n",
    "This directional structure defines the hierarchy, with edges pointing from parent to child, enabling efficient modeling of relationships like organizational charts or file systems.\n",
    "\n",
    "Trees are memory efficient for hierarchical data if implemented properly.\n",
    "\n",
    "![Trees](https://mrinalxdev.github.io/mrinalxblogs/blogs/assets/dsa/bst.png)\n",
    "\n",
    "A Tree instance has two instance attributes:\n",
    "\n",
    "- label is the value stored at the root of the tree.\n",
    "- branches is a list of Tree instances that hold the labels in the rest of the tree.\n",
    "\n",
    "The Tree class (with its __repr__ and __str__ methods omitted) is defined as:"
   ]
  },
  {
   "cell_type": "code",
   "execution_count": 26,
   "metadata": {},
   "outputs": [],
   "source": [
    "class Tree:\n",
    "    \"\"\"A tree has a label and a list of branches.\n",
    "\n",
    "    >>> t = Tree(3, [Tree(2, [Tree(5)]), Tree(4)])\n",
    "    >>> t.label\n",
    "    3\n",
    "    >>> t.branches[0].label\n",
    "    2\n",
    "    >>> t.branches[1].is_leaf()\n",
    "    True\n",
    "    \"\"\"\n",
    "\n",
    "    def __init__(self, label, branches=[]):\n",
    "        self.label = label\n",
    "        for branch in branches:\n",
    "            assert isinstance(branch, Tree)\n",
    "        self.branches = list(branches)\n",
    "\n",
    "    def is_leaf(self):\n",
    "        return not self.branches\n"
   ]
  },
  {
   "cell_type": "code",
   "execution_count": 27,
   "metadata": {},
   "outputs": [],
   "source": [
    "class Tree:\n",
    "    \"\"\"A tree has a label and a list of branches.\n",
    "\n",
    "    >>> t = Tree(3, [Tree(2, [Tree(5)]), Tree(4)])\n",
    "    >>> t.label\n",
    "    3\n",
    "    >>> t.branches[0].label\n",
    "    2\n",
    "    >>> t.branches[1].is_leaf()\n",
    "    True\n",
    "    \"\"\"\n",
    "\n",
    "    def __init__(self, label, branches=[]):\n",
    "        self.label = label\n",
    "        for branch in branches:\n",
    "            assert isinstance(branch, Tree)\n",
    "        self.branches = list(branches)\n",
    "\n",
    "    def is_leaf(self):\n",
    "        return not self.branches\n",
    "\n",
    "    def indented(self):\n",
    "        lines = []\n",
    "        for b in self.branches:\n",
    "            for line in b.indented():\n",
    "                lines.append(\"  \" + line)\n",
    "        return [str(self.label)] + lines\n",
    "\n",
    "    def __repr__(self):\n",
    "        if self.branches:\n",
    "            branch_str = \", \" + repr(self.branches)\n",
    "        else:\n",
    "            branch_str = \"\"\n",
    "        return \"Tree({0}{1})\".format(repr(self.label), branch_str)\n",
    "\n",
    "    def __str__(self):\n",
    "        return \"\\n\".join(self.indented())"
   ]
  },
  {
   "cell_type": "code",
   "execution_count": 38,
   "metadata": {},
   "outputs": [],
   "source": [
    "t = Tree(Tree(3), [Tree(4), Tree(5)])"
   ]
  },
  {
   "cell_type": "code",
   "execution_count": 40,
   "metadata": {},
   "outputs": [
    {
     "name": "stdout",
     "output_type": "stream",
     "text": [
      "3\n",
      "  4\n",
      "  5\n"
     ]
    }
   ],
   "source": [
    "print(t)"
   ]
  },
  {
   "cell_type": "markdown",
   "metadata": {},
   "source": [
    "Changing (also known as mutating) a tree t:\n",
    "\n",
    "- `t.label = y` changes the root label of t to y (any value).\n",
    "- `t.branches = ns` changes the branches of t to ns (a list of Tree instances).\n",
    "- Mutation of `t.branches` will change `t`. For example, `t.branches.append(Tree(y))` will add a leaf labeled y as the right-most branch.\n",
    "- Mutation of any branch in `t` will change `t`. For example, `t.branches[0].label = y` will change the root label of the left-most branch to `y`."
   ]
  },
  {
   "cell_type": "code",
   "execution_count": 7,
   "metadata": {},
   "outputs": [],
   "source": [
    "t = Tree(3, [Tree(1, [Tree(4), Tree(1)]), Tree(5, [Tree(9)])])"
   ]
  },
  {
   "cell_type": "code",
   "execution_count": 8,
   "metadata": {},
   "outputs": [
    {
     "data": {
      "text/plain": [
       "Tree(3, [Tree(1, [Tree(4), Tree(1)]), Tree(5, [Tree(9)])])"
      ]
     },
     "execution_count": 8,
     "metadata": {},
     "output_type": "execute_result"
    }
   ],
   "source": [
    "t"
   ]
  },
  {
   "cell_type": "code",
   "execution_count": 9,
   "metadata": {},
   "outputs": [
    {
     "name": "stdout",
     "output_type": "stream",
     "text": [
      "3\n",
      "  1\n",
      "    4\n",
      "    1\n",
      "  5\n",
      "    9\n"
     ]
    }
   ],
   "source": [
    "print(t)"
   ]
  },
  {
   "cell_type": "code",
   "execution_count": 10,
   "metadata": {},
   "outputs": [],
   "source": [
    "t.label = 4.0"
   ]
  },
  {
   "cell_type": "code",
   "execution_count": 11,
   "metadata": {},
   "outputs": [
    {
     "data": {
      "text/plain": [
       "Tree(4.0, [Tree(1, [Tree(4), Tree(1)]), Tree(5, [Tree(9)])])"
      ]
     },
     "execution_count": 11,
     "metadata": {},
     "output_type": "execute_result"
    }
   ],
   "source": [
    "print(t)"
   ]
  },
  {
   "cell_type": "code",
   "execution_count": 12,
   "metadata": {},
   "outputs": [],
   "source": [
    "t.branches[1].label = 5.0"
   ]
  },
  {
   "cell_type": "code",
   "execution_count": 13,
   "metadata": {},
   "outputs": [
    {
     "data": {
      "text/plain": [
       "Tree(4.0, [Tree(1, [Tree(4), Tree(1)]), Tree(5.0, [Tree(9)])])"
      ]
     },
     "execution_count": 13,
     "metadata": {},
     "output_type": "execute_result"
    }
   ],
   "source": [
    "print(t)"
   ]
  },
  {
   "cell_type": "code",
   "execution_count": 15,
   "metadata": {},
   "outputs": [],
   "source": [
    "t.branches.append(Tree(2, [Tree(6)]))"
   ]
  },
  {
   "cell_type": "code",
   "execution_count": 16,
   "metadata": {},
   "outputs": [
    {
     "name": "stdout",
     "output_type": "stream",
     "text": [
      "4.0\n",
      "  1\n",
      "    4\n",
      "    1\n",
      "  5.0\n",
      "    9\n",
      "  2\n",
      "    6\n",
      "  2\n",
      "    6\n"
     ]
    }
   ],
   "source": [
    "print(t)"
   ]
  },
  {
   "cell_type": "markdown",
   "metadata": {},
   "source": [
    "**Exercise**\n",
    "\n",
    "Removing some nodes from a tree is called pruning the tree.\n",
    "\n",
    "Complete the function `prune_small` that takes in a Tree `t` and a number `n`. For each node with more than `n` branches, keep only the `n` branches with the smallest labels and remove (prune) the rest.\n",
    "\n",
    "Hint: The max function takes in an iterable as well as an optional key argument (which takes in a one-argument function). For example, `max([-7, 2, -1], key=abs)` would return `-7 `since `abs(-7)` is greater than `abs(2)` and `abs(-1)`."
   ]
  },
  {
   "cell_type": "code",
   "execution_count": 17,
   "metadata": {},
   "outputs": [],
   "source": [
    "def prune_small(t, n):\n",
    "    \"\"\"Prune the tree mutatively, keeping only the n branches\n",
    "    of each node with the smallest labels.\n",
    "\n",
    "    >>> t1 = Tree(6)\n",
    "    >>> prune_small(t1, 2)\n",
    "    >>> t1\n",
    "    Tree(6)\n",
    "    >>> t2 = Tree(6, [Tree(3), Tree(4)])\n",
    "    >>> prune_small(t2, 1)\n",
    "    >>> t2\n",
    "    Tree(6, [Tree(3)])\n",
    "    >>> t3 = Tree(6, [Tree(1), Tree(3, [Tree(1), Tree(2), Tree(3)]), Tree(5, [Tree(3), Tree(4)])])\n",
    "    >>> prune_small(t3, 2)\n",
    "    >>> t3\n",
    "    Tree(6, [Tree(1), Tree(3, [Tree(1), Tree(2)])])\n",
    "    \"\"\"\n",
    "    while ____:\n",
    "        largest = max(____, key=____)\n",
    "        t.branches.remove(largest)\n",
    "    for b in t.branches:\n",
    "        ____"
   ]
  },
  {
   "cell_type": "markdown",
   "metadata": {},
   "source": [
    "**Exercise**\n",
    "\n",
    "Implement `delete`, which takes a Tree `t` and removes all non-root nodes labeled `x`. The parent of each remaining node is its nearest ancestor that was not removed. The root node is never removed, even if its label is `x`."
   ]
  },
  {
   "cell_type": "code",
   "execution_count": null,
   "metadata": {},
   "outputs": [],
   "source": [
    "def delete(t, x):\n",
    "    \"\"\"Remove all nodes labeled x below the root within Tree t. When a non-leaf\n",
    "    node is deleted, the deleted node's children become children of its parent.\n",
    "\n",
    "    The root node will never be removed.\n",
    "\n",
    "    >>> t = Tree(3, [Tree(2, [Tree(2), Tree(2)]), Tree(2), Tree(2, [Tree(2, [Tree(2), Tree(2)])])])\n",
    "    >>> delete(t, 2)\n",
    "    >>> t\n",
    "    Tree(3)\n",
    "    >>> t = Tree(1, [Tree(2, [Tree(4, [Tree(2)]), Tree(5)]), Tree(3, [Tree(6), Tree(2)]), Tree(4)])\n",
    "    >>> delete(t, 2)\n",
    "    >>> t\n",
    "    Tree(1, [Tree(4), Tree(5), Tree(3, [Tree(6)]), Tree(4)])\n",
    "    >>> t = Tree(1, [Tree(2, [Tree(4), Tree(5)]), Tree(3, [Tree(6), Tree(2)]), Tree(2, [Tree(6),  Tree(2), Tree(7), Tree(8)]), Tree(4)])\n",
    "    >>> delete(t, 2)\n",
    "    >>> t\n",
    "    Tree(1, [Tree(4), Tree(5), Tree(3, [Tree(6)]), Tree(6), Tree(7), Tree(8), Tree(4)])\n",
    "    \"\"\"\n",
    "    new_branches = []\n",
    "    for _________ in ________________:\n",
    "        _______________________\n",
    "        if b.label == x:\n",
    "            __________________________________\n",
    "        else:\n",
    "            __________________________________\n",
    "    t.branches = ___________________"
   ]
  },
  {
   "cell_type": "markdown",
   "metadata": {},
   "source": [
    "## Hash Tables\n",
    "\n",
    "A hash table maps keys to values using a hash function that computes an index into an underlying array, delivering average O(1) insert, delete, and lookup. Unlike arrays, which use integer indices, hash tables use arbitrary keys, trading ordering and some memory for speed and flexibility. Hash tables are implemented as `dict` in Python.\n",
    "\n",
    "Hash maps gives up on memory for speed. Unlike linked lists, hash maps don't preserve insertion order so they're not suited for sequential processing.\n",
    "\n",
    "![Hash Tables](https://mrinalxdev.github.io/mrinalxblogs/blogs/assets/dsa/hashmaps.png)"
   ]
  },
  {
   "cell_type": "markdown",
   "metadata": {},
   "source": [
    "The `defaultdict` class is a dictionary subclass that accepts a callable in its constructor whose return value will be used if a requested key cannot be found.\n",
    "\n",
    "This can save you some typing and make your intentions clearer as compared to using get() or catching a `KeyError` exception in regular dictionaries."
   ]
  },
  {
   "cell_type": "code",
   "execution_count": 51,
   "metadata": {},
   "outputs": [
    {
     "data": {
      "text/plain": [
       "['Rufus', 'Kathrin', 'Mr Sniffles']"
      ]
     },
     "execution_count": 51,
     "metadata": {},
     "output_type": "execute_result"
    }
   ],
   "source": [
    "from collections import defaultdict\n",
    "\n",
    "dd = defaultdict(list)\n",
    "# Accessing a missing key creates it and\n",
    "# initializes it using the default factory,\n",
    "# i.e. list() in this example:\n",
    "dd[\"dogs\"].append(\"Rufus\")\n",
    "dd[\"dogs\"].append(\"Kathrin\")\n",
    "dd[\"dogs\"].append(\"Mr Sniffles\")\n",
    "dd[\"dogs\"]"
   ]
  },
  {
   "cell_type": "markdown",
   "metadata": {},
   "source": [
    "## Named Tuple"
   ]
  },
  {
   "cell_type": "code",
   "execution_count": 52,
   "metadata": {},
   "outputs": [],
   "source": [
    "from collections import namedtuple\n",
    "\n",
    "Car = namedtuple(\"Car\", \"color mileage automatic\")\n",
    "a_car = Car(\"red\", 3812.4, True)"
   ]
  },
  {
   "cell_type": "code",
   "execution_count": 53,
   "metadata": {},
   "outputs": [
    {
     "data": {
      "text/plain": [
       "Car(color='red', mileage=3812.4, automatic=True)"
      ]
     },
     "execution_count": 53,
     "metadata": {},
     "output_type": "execute_result"
    }
   ],
   "source": [
    "a_car"
   ]
  },
  {
   "cell_type": "code",
   "execution_count": 54,
   "metadata": {},
   "outputs": [
    {
     "data": {
      "text/plain": [
       "3812.4"
      ]
     },
     "execution_count": 54,
     "metadata": {},
     "output_type": "execute_result"
    }
   ],
   "source": [
    "a_car.mileage"
   ]
  },
  {
   "cell_type": "code",
   "execution_count": 55,
   "metadata": {},
   "outputs": [
    {
     "ename": "AttributeError",
     "evalue": "can't set attribute",
     "output_type": "error",
     "traceback": [
      "\u001b[31m---------------------------------------------------------------------------\u001b[39m",
      "\u001b[31mAttributeError\u001b[39m                            Traceback (most recent call last)",
      "\u001b[36mCell\u001b[39m\u001b[36m \u001b[39m\u001b[32mIn[55]\u001b[39m\u001b[32m, line 1\u001b[39m\n\u001b[32m----> \u001b[39m\u001b[32m1\u001b[39m \u001b[43ma_car\u001b[49m\u001b[43m.\u001b[49m\u001b[43mmileage\u001b[49m = \u001b[32m120\u001b[39m\n",
      "\u001b[31mAttributeError\u001b[39m: can't set attribute"
     ]
    }
   ],
   "source": [
    "a_car.mileage = 120"
   ]
  },
  {
   "cell_type": "code",
   "execution_count": 56,
   "metadata": {},
   "outputs": [
    {
     "ename": "AttributeError",
     "evalue": "'Car' object has no attribute 'windshield' and no __dict__ for setting new attributes",
     "output_type": "error",
     "traceback": [
      "\u001b[31m---------------------------------------------------------------------------\u001b[39m",
      "\u001b[31mAttributeError\u001b[39m                            Traceback (most recent call last)",
      "\u001b[36mCell\u001b[39m\u001b[36m \u001b[39m\u001b[32mIn[56]\u001b[39m\u001b[32m, line 1\u001b[39m\n\u001b[32m----> \u001b[39m\u001b[32m1\u001b[39m \u001b[43ma_car\u001b[49m\u001b[43m.\u001b[49m\u001b[43mwindshield\u001b[49m = \u001b[33m\"\u001b[39m\u001b[33mbroken\u001b[39m\u001b[33m\"\u001b[39m\n",
      "\u001b[31mAttributeError\u001b[39m: 'Car' object has no attribute 'windshield' and no __dict__ for setting new attributes"
     ]
    }
   ],
   "source": [
    "a_car.windshield = \"broken\""
   ]
  },
  {
   "cell_type": "markdown",
   "metadata": {},
   "source": [
    "## Stacks and Queues\n",
    "\n",
    "When you need to preserve element order and still perform fast, constrained access, a stack is a great fit. A stack is a linear structure that follows the Last-In, First-Out (LIFO) rule: the most recently added item is the first one removed. A helpful analogy is a stack of plates—plates are added to the top and removed from the top; the first plate placed ends up at the bottom and is taken last, while the last plate placed is taken first. Typical operations are push (add to top) and undo (remove from top), both designed to be efficient."
   ]
  },
  {
   "cell_type": "code",
   "execution_count": null,
   "metadata": {},
   "outputs": [],
   "source": [
    "class UndoStack:\n",
    "    def __init__(self):\n",
    "        self.stack = []\n",
    "\n",
    "    def push_action(self, action):\n",
    "        self.stack.append(action)\n",
    "\n",
    "    def undo(self):\n",
    "        if self.stack:\n",
    "            return self.stack.pop()\n",
    "\n",
    "    def is_empty(self):\n",
    "        return len(self.stack) == 0"
   ]
  },
  {
   "cell_type": "code",
   "execution_count": 19,
   "metadata": {},
   "outputs": [
    {
     "name": "stdout",
     "output_type": "stream",
     "text": [
      "{'id': 2, 'type': 'delete', 'value': 'o'}\n"
     ]
    }
   ],
   "source": [
    "undo_stack = UndoStack()\n",
    "undo_stack.push_action({\"id\": 1, \"type\": \"type\", \"value\": \"Hello\"})\n",
    "undo_stack.push_action({\"id\": 2, \"type\": \"delete\", \"value\": \"o\"})\n",
    "print(undo_stack.undo())"
   ]
  },
  {
   "cell_type": "markdown",
   "metadata": {},
   "source": [
    "A queue is the opposite of a stack: it’s FIFO—first in, first out—like a ticket line where the earliest arrival is served first. Use a queue when order of arrival matters. Both stacks and queues can share underlying implementations (arrays or linked lists), but queues add at the back and remove from the front, while stacks add and remove from the top. A good stack analogy is a YouTube upload list: the latest video sits on top and is accessed first."
   ]
  },
  {
   "cell_type": "markdown",
   "metadata": {},
   "source": [
    "The `deque` class implements a double-ended queue that supports adding and removing elements from either end in O(1) time (non-amortized). Because deques support adding and removing elements from either end equally well, they can serve both as queues and as stacks."
   ]
  },
  {
   "cell_type": "code",
   "execution_count": 41,
   "metadata": {},
   "outputs": [
    {
     "data": {
      "text/plain": [
       "deque(['eat', 'sleep', 'code'])"
      ]
     },
     "execution_count": 41,
     "metadata": {},
     "output_type": "execute_result"
    }
   ],
   "source": [
    "from collections import deque\n",
    "\n",
    "s = deque()\n",
    "s.append(\"eat\")\n",
    "s.append(\"sleep\")\n",
    "s.append(\"code\")\n",
    "s"
   ]
  },
  {
   "cell_type": "code",
   "execution_count": 42,
   "metadata": {},
   "outputs": [
    {
     "data": {
      "text/plain": [
       "'code'"
      ]
     },
     "execution_count": 42,
     "metadata": {},
     "output_type": "execute_result"
    }
   ],
   "source": [
    "s.pop()"
   ]
  },
  {
   "cell_type": "code",
   "execution_count": 43,
   "metadata": {},
   "outputs": [],
   "source": [
    "s.appendleft(\"pray\")"
   ]
  },
  {
   "cell_type": "code",
   "execution_count": 44,
   "metadata": {},
   "outputs": [
    {
     "data": {
      "text/plain": [
       "deque(['pray', 'eat', 'sleep'])"
      ]
     },
     "execution_count": 44,
     "metadata": {},
     "output_type": "execute_result"
    }
   ],
   "source": [
    "s"
   ]
  }
 ],
 "metadata": {
  "kernelspec": {
   "display_name": "algos",
   "language": "python",
   "name": "python3"
  },
  "language_info": {
   "codemirror_mode": {
    "name": "ipython",
    "version": 3
   },
   "file_extension": ".py",
   "mimetype": "text/x-python",
   "name": "python",
   "nbconvert_exporter": "python",
   "pygments_lexer": "ipython3",
   "version": "3.13.7"
  }
 },
 "nbformat": 4,
 "nbformat_minor": 2
}
