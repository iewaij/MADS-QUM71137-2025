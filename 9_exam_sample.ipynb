{
 "cells": [
  {
   "cell_type": "markdown",
   "metadata": {},
   "source": [
    "# Two Sum\n",
    "\n",
    "Implement the `find_two_sum` function that takes a list of integers and a target, return two different numbers in the list that add up to the target. You may assume that each input would have exactly one solution, and you may not use the same element twice. You can return the answer in any order.\n",
    "\n",
    "```python\n",
    "def find_two_sum(nums, target):\n",
    "    \"\"\"\n",
    "    Given a list of integers nums and an integer target,\n",
    "    return the two numbers in the list such that they add up to target.\n",
    "\n",
    "    >>> find_two_sum([2, 7, 11, 15], 9)\n",
    "    [2, 7]\n",
    "    >>> find_two_sum([3, 2, 4], 6)\n",
    "    [2, 4]\n",
    "    >>> find_two_sum([3, 3], 6)\n",
    "    [3, 3]\n",
    "    \"\"\"\n",
    "    \"*** YOUR CODE HERE ***\"\n",
    "```\n",
    "\n",
    "Submit your solution as a file named `q1.py`."
   ]
  }
 ],
 "metadata": {
  "language_info": {
   "name": "python"
  }
 },
 "nbformat": 4,
 "nbformat_minor": 2
}
