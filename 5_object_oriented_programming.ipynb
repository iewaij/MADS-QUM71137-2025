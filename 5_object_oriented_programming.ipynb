{
 "cells": [
  {
   "cell_type": "markdown",
   "metadata": {},
   "source": [
    "# Object-Oriented Programming\n",
    "\n",
    "Object-oriented programming (OOP) uses programmer-defined types to organize both code and data. Like the functions in data abstraction, classes create abstraction barriers between the use and implementation of data.  \n",
    "\n",
    "The object system offers more than just convenience. It enables a new metaphor for designing programs in which several independent agents interact within the computer.\n",
    "\n",
    "The paradigm of object-oriented programming has its own vocabulary that supports the object metaphor. We have seen that an object is a data value that has methods and attributes, accessible via dot notation. Every object also has a type, called its class."
   ]
  },
  {
   "cell_type": "markdown",
   "metadata": {},
   "source": [
    "## Create a Class\n",
    "**Class**: The type of an object.\n",
    "\n",
    "To create new types of data, we implement new classes."
   ]
  },
  {
   "cell_type": "code",
   "execution_count": 1,
   "metadata": {},
   "outputs": [],
   "source": [
    "class Time:\n",
    "    \"\"\"Represents a time of day.\"\"\""
   ]
  },
  {
   "cell_type": "markdown",
   "metadata": {},
   "source": [
    "**Object**: A single instance of a class. In Python, a new object is created by calling a class.\n",
    "\n",
    "The class object is like a factory for creating objects. To create a `Time` object, you call `Time` as if it were a function."
   ]
  },
  {
   "cell_type": "code",
   "execution_count": 8,
   "metadata": {},
   "outputs": [],
   "source": [
    "lunch = Time()"
   ]
  },
  {
   "cell_type": "markdown",
   "metadata": {},
   "source": [
    "The result is a new object whose type is `__main__`.Time, where `__main__` is the name of the module where Time is defined."
   ]
  },
  {
   "cell_type": "code",
   "execution_count": 9,
   "metadata": {},
   "outputs": [
    {
     "data": {
      "text/plain": [
       "__main__.Time"
      ]
     },
     "execution_count": 9,
     "metadata": {},
     "output_type": "execute_result"
    }
   ],
   "source": [
    "type(lunch)"
   ]
  },
  {
   "cell_type": "code",
   "execution_count": 10,
   "metadata": {},
   "outputs": [
    {
     "name": "stdout",
     "output_type": "stream",
     "text": [
      "<__main__.Time object at 0x10a2465d0>\n"
     ]
    }
   ],
   "source": [
    "print(lunch)"
   ]
  },
  {
   "cell_type": "markdown",
   "metadata": {},
   "source": [
    "**Instance attribute**: A variable that belongs to a particular object and is accessed via dot notation."
   ]
  },
  {
   "cell_type": "code",
   "execution_count": 12,
   "metadata": {},
   "outputs": [],
   "source": [
    "lunch.hour = 11\n",
    "lunch.minute = 59\n",
    "lunch.second = 1\n",
    "lunch.day = 16\n",
    "lunch.month = \"Oct\"\n",
    "lunch.year = 2025"
   ]
  },
  {
   "cell_type": "code",
   "execution_count": 13,
   "metadata": {},
   "outputs": [
    {
     "data": {
      "text/plain": [
       "11"
      ]
     },
     "execution_count": 13,
     "metadata": {},
     "output_type": "execute_result"
    }
   ],
   "source": [
    "lunch.hour"
   ]
  },
  {
   "cell_type": "code",
   "execution_count": 14,
   "metadata": {},
   "outputs": [
    {
     "data": {
      "text/plain": [
       "59"
      ]
     },
     "execution_count": 14,
     "metadata": {},
     "output_type": "execute_result"
    }
   ],
   "source": [
    "lunch.minute"
   ]
  },
  {
   "cell_type": "code",
   "execution_count": 15,
   "metadata": {},
   "outputs": [
    {
     "data": {
      "text/plain": [
       "1"
      ]
     },
     "execution_count": 15,
     "metadata": {},
     "output_type": "execute_result"
    }
   ],
   "source": [
    "lunch.second"
   ]
  },
  {
   "cell_type": "code",
   "execution_count": 20,
   "metadata": {},
   "outputs": [
    {
     "data": {
      "text/plain": [
       "719"
      ]
     },
     "execution_count": 20,
     "metadata": {},
     "output_type": "execute_result"
    }
   ],
   "source": [
    "total_minutes = lunch.hour * 60 + lunch.minute\n",
    "total_minutes"
   ]
  },
  {
   "cell_type": "code",
   "execution_count": 22,
   "metadata": {},
   "outputs": [
    {
     "data": {
      "text/plain": [
       "'11:59:1'"
      ]
     },
     "execution_count": 22,
     "metadata": {},
     "output_type": "execute_result"
    }
   ],
   "source": [
    "f\"{lunch.hour}:{lunch.minute}:{lunch.second}\""
   ]
  },
  {
   "cell_type": "code",
   "execution_count": 29,
   "metadata": {},
   "outputs": [],
   "source": [
    "lunch.hour = 2"
   ]
  },
  {
   "cell_type": "code",
   "execution_count": 30,
   "metadata": {},
   "outputs": [
    {
     "data": {
      "text/plain": [
       "'2:08:01'"
      ]
     },
     "execution_count": 30,
     "metadata": {},
     "output_type": "execute_result"
    }
   ],
   "source": [
    "f\"{lunch.hour}:{lunch.minute:02d}:{lunch.second:02d}\""
   ]
  },
  {
   "cell_type": "code",
   "execution_count": 32,
   "metadata": {},
   "outputs": [
    {
     "name": "stdout",
     "output_type": "stream",
     "text": [
      "2:08:01\n"
     ]
    }
   ],
   "source": [
    "def print_time(time):\n",
    "    s = f\"{time.hour}:{time.minute:02d}:{time.second:02d}\"\n",
    "    print(s)\n",
    "\n",
    "\n",
    "print_time(lunch)"
   ]
  },
  {
   "cell_type": "code",
   "execution_count": 34,
   "metadata": {},
   "outputs": [
    {
     "name": "stdout",
     "output_type": "stream",
     "text": [
      "19:06:00\n"
     ]
    }
   ],
   "source": [
    "def make_time(hour, minute, second):\n",
    "    time = Time()\n",
    "    time.hour = hour\n",
    "    time.minute = minute\n",
    "    time.second = second\n",
    "    return time\n",
    "\n",
    "\n",
    "dinner = make_time(19, 6, 0)\n",
    "print_time(dinner)"
   ]
  },
  {
   "cell_type": "code",
   "execution_count": 37,
   "metadata": {},
   "outputs": [
    {
     "name": "stdout",
     "output_type": "stream",
     "text": [
      "9:20:00\n"
     ]
    }
   ],
   "source": [
    "start = make_time(9, 20, 0)\n",
    "print_time(start)"
   ]
  },
  {
   "cell_type": "code",
   "execution_count": 51,
   "metadata": {},
   "outputs": [
    {
     "name": "stdout",
     "output_type": "stream",
     "text": [
      "22:436:00\n"
     ]
    }
   ],
   "source": [
    "start.hour += 1\n",
    "start.minute += 32\n",
    "print_time(start)"
   ]
  },
  {
   "cell_type": "code",
   "execution_count": null,
   "metadata": {},
   "outputs": [],
   "source": [
    "lunch = make_time(12, 0, 0)"
   ]
  },
  {
   "cell_type": "code",
   "execution_count": 52,
   "metadata": {},
   "outputs": [
    {
     "name": "stdout",
     "output_type": "stream",
     "text": [
      "12:00:00\n"
     ]
    }
   ],
   "source": [
    "print_time(lunch)"
   ]
  },
  {
   "cell_type": "code",
   "execution_count": 58,
   "metadata": {},
   "outputs": [],
   "source": [
    "def increment_time(time, hours, minutes, seconds):\n",
    "    time.hour += hours\n",
    "    time.minute += minutes\n",
    "    time.second += seconds"
   ]
  },
  {
   "cell_type": "code",
   "execution_count": 55,
   "metadata": {},
   "outputs": [
    {
     "name": "stdout",
     "output_type": "stream",
     "text": [
      "10:52:00\n"
     ]
    }
   ],
   "source": [
    "start = make_time(9, 20, 0)\n",
    "increment_time(start, 1, 32, 0)\n",
    "print_time(start)"
   ]
  },
  {
   "cell_type": "code",
   "execution_count": 56,
   "metadata": {},
   "outputs": [
    {
     "name": "stdout",
     "output_type": "stream",
     "text": [
      "11:54:00\n"
     ]
    }
   ],
   "source": [
    "increment_time(start, 1, 2, 0)\n",
    "print_time(start)"
   ]
  },
  {
   "cell_type": "code",
   "execution_count": 57,
   "metadata": {},
   "outputs": [
    {
     "name": "stdout",
     "output_type": "stream",
     "text": [
      "11:54:20\n"
     ]
    }
   ],
   "source": [
    "increment_time(start, 0, 0, 20)\n",
    "print_time(start)"
   ]
  },
  {
   "cell_type": "markdown",
   "metadata": {},
   "source": [
    "**Method**: A function that belongs to an object and is called via dot notation. By convention, the first parameter of a method is self."
   ]
  },
  {
   "cell_type": "code",
   "execution_count": 70,
   "metadata": {},
   "outputs": [],
   "source": [
    "class Time:\n",
    "    \"\"\"Represents the time of day.\"\"\"\n",
    "\n",
    "    def pretty_print(self):\n",
    "        s = f\"{self.hour:02d}:{self.minute:02d}:{self.second:02d}\"\n",
    "        print(s)"
   ]
  },
  {
   "cell_type": "code",
   "execution_count": null,
   "metadata": {},
   "outputs": [],
   "source": [
    "def make_time(hour=0, minute=0, second=0):\n",
    "    time = Time()\n",
    "    time.hour = hour\n",
    "    time.minute = minute\n",
    "    time.second = second\n",
    "    return time"
   ]
  },
  {
   "cell_type": "code",
   "execution_count": 72,
   "metadata": {},
   "outputs": [],
   "source": [
    "start = make_time(9, 40, 0)"
   ]
  },
  {
   "cell_type": "code",
   "execution_count": 73,
   "metadata": {},
   "outputs": [
    {
     "name": "stdout",
     "output_type": "stream",
     "text": [
      "09:40:00\n"
     ]
    }
   ],
   "source": [
    "start.pretty_print()"
   ]
  },
  {
   "cell_type": "code",
   "execution_count": 68,
   "metadata": {},
   "outputs": [
    {
     "name": "stdout",
     "output_type": "stream",
     "text": [
      "09:40:00\n"
     ]
    }
   ],
   "source": [
    "Time.print_time(start)"
   ]
  },
  {
   "cell_type": "markdown",
   "metadata": {},
   "source": [
    "## Assign attributes"
   ]
  },
  {
   "cell_type": "markdown",
   "metadata": {},
   "source": [
    "**`__init__`**: A special function that is called automatically when a new instance of a class is created."
   ]
  },
  {
   "cell_type": "code",
   "execution_count": 80,
   "metadata": {},
   "outputs": [],
   "source": [
    "class Time:\n",
    "    \"\"\"Represents the time of day.\"\"\"\n",
    "\n",
    "    def __init__(self, hour=0, minute=0, second=0):\n",
    "        self.hour = hour\n",
    "        self.minute = minute\n",
    "        self.second = second\n",
    "\n",
    "    def print_time(self):\n",
    "        s = f\"{self.hour:02d}:{self.minute:02d}:{self.second:02d}\"\n",
    "        print(s)"
   ]
  },
  {
   "cell_type": "code",
   "execution_count": 82,
   "metadata": {},
   "outputs": [
    {
     "name": "stdout",
     "output_type": "stream",
     "text": [
      "12:10:00\n"
     ]
    }
   ],
   "source": [
    "time = Time(12, 10)\n",
    "time.print_time()"
   ]
  },
  {
   "cell_type": "markdown",
   "metadata": {},
   "source": [
    "**Class attribute**: A variable that belongs to a class and is accessed via dot notation."
   ]
  },
  {
   "cell_type": "code",
   "execution_count": 15,
   "metadata": {},
   "outputs": [],
   "source": [
    "class Time:\n",
    "    \"\"\"Represents the time of day.\"\"\"\n",
    "\n",
    "    default_time_zone = \"Berlin\"\n",
    "\n",
    "    def __init__(self, hour=0, minute=0, second=0, time_zone=default_time_zone):\n",
    "        self.hour = hour\n",
    "        self.minute = minute\n",
    "        self.second = second\n",
    "        self.time_zone = time_zone\n",
    "\n",
    "    def print_time(self):\n",
    "        s = f\"{self.hour:02d}:{self.minute:02d}:{self.second:02d}\"\n",
    "        print(s)\n",
    "\n",
    "    def print_timezone(self):\n",
    "        print(self.time_zone)"
   ]
  },
  {
   "cell_type": "code",
   "execution_count": 16,
   "metadata": {},
   "outputs": [],
   "source": [
    "a_time = Time(9, 10)"
   ]
  },
  {
   "cell_type": "code",
   "execution_count": 19,
   "metadata": {},
   "outputs": [
    {
     "data": {
      "text/plain": [
       "'Berlin'"
      ]
     },
     "execution_count": 19,
     "metadata": {},
     "output_type": "execute_result"
    }
   ],
   "source": [
    "Time.default_time_zone"
   ]
  },
  {
   "cell_type": "code",
   "execution_count": 18,
   "metadata": {},
   "outputs": [
    {
     "data": {
      "text/plain": [
       "'Berlin'"
      ]
     },
     "execution_count": 18,
     "metadata": {},
     "output_type": "execute_result"
    }
   ],
   "source": [
    "a_time.default_time_zone"
   ]
  },
  {
   "cell_type": "code",
   "execution_count": 17,
   "metadata": {},
   "outputs": [
    {
     "data": {
      "text/plain": [
       "'Berlin'"
      ]
     },
     "execution_count": 17,
     "metadata": {},
     "output_type": "execute_result"
    }
   ],
   "source": [
    "a_time.time_zone"
   ]
  },
  {
   "cell_type": "code",
   "execution_count": 94,
   "metadata": {},
   "outputs": [
    {
     "name": "stdout",
     "output_type": "stream",
     "text": [
      "00:09:00\n"
     ]
    }
   ],
   "source": [
    "time = Time(minute=9)\n",
    "time.print_time()"
   ]
  },
  {
   "cell_type": "markdown",
   "metadata": {},
   "source": [
    "**Exercise**\n",
    "\n",
    "A class describes the behavior of its instances. For example, All bank accounts have a balance and an account holder; the Account class should add those attributes to each newly created instance. All bank accounts share a `withdraw` method and a `deposit` method. Implement `Account` class below."
   ]
  },
  {
   "cell_type": "code",
   "execution_count": null,
   "metadata": {},
   "outputs": [],
   "source": [
    "class Account:\n",
    "    \"\"\"An account has a balance and a holder.\n",
    "\n",
    "    >>> a = Account('John')\n",
    "    >>> a.holder_name\n",
    "    'John'\n",
    "    >>> a.deposit(100)\n",
    "    100\n",
    "    >>> a.withdraw(90)\n",
    "    10\n",
    "    >>> a.withdraw(90)\n",
    "    'Insufficient funds'\n",
    "    >>> a.balance\n",
    "    10\n",
    "    \"\"\"\n",
    "\n",
    "    def __init__(self, your_code_here):\n",
    "        \"YOUR CODE HERE\"\n",
    "\n",
    "    def deposit(self, amount):\n",
    "        \"\"\"Add amount to balance, return the balance.\"\"\"\n",
    "        \"YOUR CODE HERE\"\n",
    "        return self.balance\n",
    "\n",
    "    def withdraw(self, amount):\n",
    "        \"\"\"Subtract amount from balance if funds are available, return the balance.\"\"\"\n",
    "        if amount > self.balance:\n",
    "            return \"Insufficient funds\"\n",
    "        \"YOUR CODE HERE\"\n",
    "        return self.balance"
   ]
  },
  {
   "cell_type": "markdown",
   "metadata": {},
   "source": [
    "Extend the `BankAccount` class to include a `transactions` attribute. This attribute should keep track of each transaction made on the account. Whenever the `deposit` or `withdraw` method is called, a new `Transaction` instance should be created and added to the list, even if the action is not successful.\n",
    "\n",
    "The `Transaction` class should have the following attributes:\n",
    "\n",
    "* `before`: The account balance before the transaction.\n",
    "* `after`: The account balance after the transaction.\n",
    "* `id`: The transaction ID, which is the number of previous transactions (deposits or withdrawals) made on that account. The transaction IDs for a specific `BankAccount` instance must be unique, but this `id` does not need to be unique across all accounts. In other words, you only need to ensure that no two `Transaction` objects made by the same `BankAccount` instance have the same `id`."
   ]
  },
  {
   "cell_type": "code",
   "execution_count": null,
   "metadata": {},
   "outputs": [],
   "source": [
    "class Transaction:\n",
    "    \"\"\"A transaction on a bank account.\"\"\"\n",
    "\n",
    "    def __init__(self, before, after, id):\n",
    "        \"\"\"YOUR_CODE_HERE\"\"\"\n",
    "\n",
    "\n",
    "class BankAccount:\n",
    "    \"\"\"A bank account with a balance and transaction history.\"\"\"\n",
    "\n",
    "    def __init__(self, balance=0):\n",
    "        self.balance = balance\n",
    "        self.transactions = []\n",
    "        self.transaction_count = 0\n",
    "\n",
    "    def deposit(self, amount):\n",
    "        \"\"\"Deposit amount into the account.\"\"\"\n",
    "        before = self.balance\n",
    "        self.balance += amount\n",
    "        self.transaction_count += 1\n",
    "        self.transactions.append(\"\"\"YOUR_CODE_HERE\"\"\")\n",
    "\n",
    "    def withdraw(self, amount):\n",
    "        \"\"\"Withdraw amount from the account.\"\"\"\n",
    "        before = self.balance\n",
    "        if amount <= self.balance:\n",
    "            self.balance -= amount\n",
    "            self.transaction_count += 1\n",
    "            self.transactions.append(\"\"\"YOUR_CODE_HERE\"\"\")\n",
    "        else:\n",
    "            print(\"Insufficient funds\")\n"
   ]
  },
  {
   "cell_type": "markdown",
   "metadata": {},
   "source": [
    "Implement the `get_transaction_history` method for the `BankAccount` class. This method should return a list of strings, each representing a transaction in the following format:\n",
    "\n",
    "```\n",
    "Transaction ID: <id>\n",
    "Before: <before_balance>\n",
    "After: <after_balance>\n",
    "```\n",
    "\n",
    "For example:\n",
    "\n",
    "```\n",
    "Transaction ID: 1\n",
    "Before: 100\n",
    "After: 150\n",
    "```"
   ]
  },
  {
   "cell_type": "code",
   "execution_count": null,
   "metadata": {},
   "outputs": [],
   "source": [
    "class BankAccount:\n",
    "    # ... (previous code)\n",
    "\n",
    "    def get_transaction_history(self):\n",
    "        \"\"\"Return a list of strings representing the transaction history.\"\"\"\n",
    "        \"\"\"YOUR_CODE_HERE\"\"\""
   ]
  },
  {
   "cell_type": "markdown",
   "metadata": {},
   "source": [
    "## More dunder methods"
   ]
  },
  {
   "cell_type": "markdown",
   "metadata": {},
   "source": [
    "**`__str__`**: Method to convert the object to a string."
   ]
  },
  {
   "cell_type": "code",
   "execution_count": 97,
   "metadata": {},
   "outputs": [],
   "source": [
    "class Time:\n",
    "    \"\"\"Represents the time of day.\"\"\"\n",
    "\n",
    "    def __init__(self, hour=0, minute=0, second=0):\n",
    "        self.hour = hour\n",
    "        self.minute = minute\n",
    "        self.second = second\n",
    "\n",
    "    def __str__(self):\n",
    "        return f\"{self.hour:02d}:{self.minute:02d}:{self.second:02d}\""
   ]
  },
  {
   "cell_type": "code",
   "execution_count": 98,
   "metadata": {},
   "outputs": [
    {
     "name": "stdout",
     "output_type": "stream",
     "text": [
      "09:40:00\n"
     ]
    }
   ],
   "source": [
    "time = Time(9, 40, 0)\n",
    "print(time.__str__())"
   ]
  },
  {
   "cell_type": "code",
   "execution_count": 99,
   "metadata": {},
   "outputs": [
    {
     "name": "stdout",
     "output_type": "stream",
     "text": [
      "09:40:00\n"
     ]
    }
   ],
   "source": [
    "print(time)"
   ]
  },
  {
   "cell_type": "code",
   "execution_count": 100,
   "metadata": {},
   "outputs": [
    {
     "data": {
      "text/plain": [
       "<__main__.Time at 0x1195ddf90>"
      ]
     },
     "execution_count": 100,
     "metadata": {},
     "output_type": "execute_result"
    }
   ],
   "source": [
    "time = Time(9, 40, 0)\n",
    "time"
   ]
  },
  {
   "cell_type": "markdown",
   "metadata": {},
   "source": [
    "`__repr__`: Method to represent the object in REPL."
   ]
  },
  {
   "cell_type": "code",
   "execution_count": 116,
   "metadata": {},
   "outputs": [],
   "source": [
    "class Time:\n",
    "    \"\"\"Represents the time of day.\"\"\"\n",
    "\n",
    "    def __init__(self, hour=0, minute=0, second=0):\n",
    "        self.hour = hour\n",
    "        self.minute = minute\n",
    "        self.second = second\n",
    "\n",
    "    def __str__(self):\n",
    "        return f\"{self.hour:02d}:{self.minute:02d}:{self.second:02d}\"\n",
    "\n",
    "    def __repr__(self):\n",
    "        return self.__str__()"
   ]
  },
  {
   "cell_type": "code",
   "execution_count": 118,
   "metadata": {},
   "outputs": [],
   "source": [
    "time = Time(9, 40, 0)"
   ]
  },
  {
   "cell_type": "markdown",
   "metadata": {},
   "source": [
    "`__add__`: Defines how the addition operator (+) behaves for your class."
   ]
  },
  {
   "cell_type": "code",
   "execution_count": 129,
   "metadata": {},
   "outputs": [],
   "source": [
    "def int_to_time(seconds):\n",
    "    minute, second = divmod(seconds, 60)\n",
    "    hour, minute = divmod(minute, 60)\n",
    "    return Time(hour, minute, second)\n",
    "\n",
    "\n",
    "class Time:\n",
    "    \"\"\"Represents the time of day.\"\"\"\n",
    "\n",
    "    def __init__(self, hour=0, minute=0, second=0):\n",
    "        self.hour = hour\n",
    "        self.minute = minute\n",
    "        self.second = second\n",
    "\n",
    "    def __str__(self):\n",
    "        return f\"{self.hour:02d}:{self.minute:02d}:{self.second:02d}\"\n",
    "\n",
    "    def __repr__(self):\n",
    "        return f\"{self.hour:02d}:{self.minute:02d}:{self.second:02d}\"\n",
    "\n",
    "    def time_to_int(self):\n",
    "        minutes = self.hour * 60 + self.minute\n",
    "        seconds = minutes * 60 + self.second\n",
    "        return seconds\n",
    "\n",
    "    def __add__(self, other):\n",
    "        seconds = self.time_to_int() + other.time_to_int()\n",
    "        return int_to_time(seconds)"
   ]
  },
  {
   "cell_type": "code",
   "execution_count": null,
   "metadata": {},
   "outputs": [
    {
     "ename": "TypeError",
     "evalue": "unsupported operand type(s) for -: 'Time' and 'Time'",
     "output_type": "error",
     "traceback": [
      "\u001b[31m---------------------------------------------------------------------------\u001b[39m",
      "\u001b[31mTypeError\u001b[39m                                 Traceback (most recent call last)",
      "\u001b[36mCell\u001b[39m\u001b[36m \u001b[39m\u001b[32mIn[131]\u001b[39m\u001b[32m, line 3\u001b[39m\n\u001b[32m      1\u001b[39m start = Time(\u001b[32m9\u001b[39m, \u001b[32m40\u001b[39m)\n\u001b[32m      2\u001b[39m duration = Time(\u001b[32m1\u001b[39m, \u001b[32m32\u001b[39m)\n\u001b[32m----> \u001b[39m\u001b[32m3\u001b[39m end = \u001b[43mstart\u001b[49m\u001b[43m \u001b[49m\u001b[43m-\u001b[49m\u001b[43m \u001b[49m\u001b[43mduration\u001b[49m\n\u001b[32m      4\u001b[39m \u001b[38;5;28mprint\u001b[39m(end)\n",
      "\u001b[31mTypeError\u001b[39m: unsupported operand type(s) for -: 'Time' and 'Time'"
     ]
    }
   ],
   "source": [
    "start = Time(9, 40)\n",
    "duration = Time(1, 32)\n",
    "end = start + duration\n",
    "print(end)"
   ]
  },
  {
   "cell_type": "code",
   "execution_count": 127,
   "metadata": {},
   "outputs": [
    {
     "name": "stdout",
     "output_type": "stream",
     "text": [
      "hours: 3, minutes: 20, seconds: 1\n"
     ]
    }
   ],
   "source": [
    "seconds = 12001\n",
    "minutes, seconds = divmod(seconds, 60)\n",
    "hours, minutes = divmod(minutes, 60)\n",
    "print(f\"hours: {hours},\", f\"minutes: {minutes},\", f\"seconds: {seconds}\")"
   ]
  },
  {
   "cell_type": "markdown",
   "metadata": {},
   "source": [
    "`__sub__`: Defines how the subtraction operator (-) behaves for your class."
   ]
  },
  {
   "cell_type": "code",
   "execution_count": 132,
   "metadata": {},
   "outputs": [],
   "source": [
    "class Time:\n",
    "    \"\"\"Represents the time of day.\"\"\"\n",
    "\n",
    "    def __init__(self, hour=0, minute=0, second=0):\n",
    "        self.hour = hour\n",
    "        self.minute = minute\n",
    "        self.second = second\n",
    "\n",
    "    def __str__(self):\n",
    "        return f\"{self.hour:02d}:{self.minute:02d}:{self.second:02d}\"\n",
    "\n",
    "    def __repr__(self):\n",
    "        return f\"{self.hour:02d}:{self.minute:02d}:{self.second:02d}\"\n",
    "\n",
    "    def time_to_int(self):\n",
    "        minutes = self.hour * 60 + self.minute\n",
    "        seconds = minutes * 60 + self.second\n",
    "        return seconds\n",
    "\n",
    "    def __add__(self, other):\n",
    "        seconds = self.time_to_int() + other.time_to_int()\n",
    "        return int_to_time(seconds)\n",
    "\n",
    "    def __sub__(self, other):\n",
    "        seconds = self.time_to_int() - other.time_to_int()\n",
    "        return int_to_time(seconds)"
   ]
  },
  {
   "cell_type": "code",
   "execution_count": 137,
   "metadata": {},
   "outputs": [
    {
     "name": "stdout",
     "output_type": "stream",
     "text": [
      "02:20:00\n"
     ]
    }
   ],
   "source": [
    "start = Time(12, 40)\n",
    "end = Time(10, 20)\n",
    "print(start - end)"
   ]
  },
  {
   "cell_type": "markdown",
   "metadata": {},
   "source": [
    "There is a lot happening when we run these three lines of code:\n",
    "\n",
    "- When we instantiate a Time object, the `__init__` method is invoked.\n",
    "- And when we print a Time object, its `__str__` method is invoked.\n",
    "- When we use the + operator with a Time object, its `__add__` method is invoked."
   ]
  },
  {
   "cell_type": "markdown",
   "metadata": {},
   "source": [
    "`__eq__`: Determines what it means for objects to be equal to one another."
   ]
  },
  {
   "cell_type": "code",
   "execution_count": 142,
   "metadata": {},
   "outputs": [
    {
     "data": {
      "text/plain": [
       "False"
      ]
     },
     "execution_count": 142,
     "metadata": {},
     "output_type": "execute_result"
    }
   ],
   "source": [
    "start = Time(9, 40)\n",
    "end = Time(9, 40)\n",
    "start == end"
   ]
  },
  {
   "cell_type": "code",
   "execution_count": 143,
   "metadata": {},
   "outputs": [],
   "source": [
    "class Time:\n",
    "    \"\"\"Represents the time of day.\"\"\"\n",
    "\n",
    "    def __init__(self, hour=0, minute=0, second=0):\n",
    "        self.hour = hour\n",
    "        self.minute = minute\n",
    "        self.second = second\n",
    "\n",
    "    def __str__(self):\n",
    "        return f\"{self.hour:02d}:{self.minute:02d}:{self.second:02d}\"\n",
    "\n",
    "    def __repr__(self):\n",
    "        return f\"{self.hour:02d}:{self.minute:02d}:{self.second:02d}\"\n",
    "\n",
    "    def time_to_int(self):\n",
    "        minutes = self.hour * 60 + self.minute\n",
    "        seconds = minutes * 60 + self.second\n",
    "        return seconds\n",
    "\n",
    "    def __add__(self, other):\n",
    "        seconds = self.time_to_int() + other.time_to_int()\n",
    "        return int_to_time(seconds)\n",
    "\n",
    "    def __sub__(self, other):\n",
    "        seconds = self.time_to_int() - other.time_to_int()\n",
    "        return int_to_time(seconds)\n",
    "\n",
    "    def __eq__(self, other):\n",
    "        return (\n",
    "            self.hour == other.hour\n",
    "            and self.minute == other.minute\n",
    "            and self.second == other.second\n",
    "        )"
   ]
  },
  {
   "cell_type": "code",
   "execution_count": 146,
   "metadata": {},
   "outputs": [
    {
     "data": {
      "text/plain": [
       "34800"
      ]
     },
     "execution_count": 146,
     "metadata": {},
     "output_type": "execute_result"
    }
   ],
   "source": [
    "start = Time(9, 40)\n",
    "start.time_to_int()"
   ]
  },
  {
   "cell_type": "code",
   "execution_count": null,
   "metadata": {},
   "outputs": [],
   "source": [
    "start = Time(9, 40)"
   ]
  },
  {
   "cell_type": "code",
   "execution_count": 144,
   "metadata": {},
   "outputs": [
    {
     "data": {
      "text/plain": [
       "True"
      ]
     },
     "execution_count": 144,
     "metadata": {},
     "output_type": "execute_result"
    }
   ],
   "source": [
    "start = Time(9, 40)\n",
    "end = Time(9, 40)\n",
    "start == end"
   ]
  },
  {
   "cell_type": "markdown",
   "metadata": {},
   "source": [
    "**Exercise**\n",
    "\n",
    "Read more about [dunder methods in Python](https://www.pythonmorsels.com/every-dunder-method/), what are the dunder methods you think are important for your `Account` class? Discuss and implement them."
   ]
  },
  {
   "cell_type": "markdown",
   "metadata": {},
   "source": [
    "## Static methods\n",
    "\n",
    "**Static methods**: A static method does not have self as a parameter. To invoke it, we use `Time`, which is the class object."
   ]
  },
  {
   "cell_type": "code",
   "execution_count": 20,
   "metadata": {},
   "outputs": [],
   "source": [
    "class Time:\n",
    "    \"\"\"Represents the time of day.\"\"\"\n",
    "\n",
    "    def __init__(self, hour=0, minute=0, second=0):\n",
    "        self.hour = hour\n",
    "        self.minute = minute\n",
    "        self.second = second\n",
    "\n",
    "    def __str__(self):\n",
    "        return f\"{self.hour:02d}:{self.minute:02d}:{self.second:02d}\"\n",
    "\n",
    "    def __repr__(self):\n",
    "        return f\"{self.hour:02d}:{self.minute:02d}:{self.second:02d}\"\n",
    "\n",
    "    @staticmethod\n",
    "    def int_to_time(seconds):\n",
    "        minute, second = divmod(seconds, 60)\n",
    "        hour, minute = divmod(minute, 60)\n",
    "        return Time(hour, minute, second)\n",
    "\n",
    "    def time_to_int(self):\n",
    "        minutes = self.hour * 60 + self.minute\n",
    "        seconds = minutes * 60 + self.second\n",
    "        return seconds\n",
    "\n",
    "    def __add__(self, other):\n",
    "        seconds = self.time_to_int() + other.time_to_int()\n",
    "        return int_to_time(seconds)\n",
    "\n",
    "    def __sub__(self, other):\n",
    "        seconds = self.time_to_int() - other.time_to_int()\n",
    "        return int_to_time(seconds)\n",
    "\n",
    "    def __eq__(self, other):\n",
    "        return (\n",
    "            self.hour == other.hour\n",
    "            and self.minute == other.minute\n",
    "            and self.second == other.second\n",
    "        )"
   ]
  },
  {
   "cell_type": "code",
   "execution_count": 23,
   "metadata": {},
   "outputs": [
    {
     "data": {
      "text/plain": [
       "00:01:40"
      ]
     },
     "execution_count": 23,
     "metadata": {},
     "output_type": "execute_result"
    }
   ],
   "source": [
    "Time.int_to_time(100)"
   ]
  },
  {
   "cell_type": "code",
   "execution_count": 24,
   "metadata": {},
   "outputs": [
    {
     "data": {
      "text/plain": [
       "00:01:40"
      ]
     },
     "execution_count": 24,
     "metadata": {},
     "output_type": "execute_result"
    }
   ],
   "source": [
    "start = Time(10, 0, 0)\n",
    "start.int_to_time(100)"
   ]
  },
  {
   "cell_type": "code",
   "execution_count": 28,
   "metadata": {},
   "outputs": [],
   "source": [
    "class Time:\n",
    "    \"\"\"Represents the time of day.\"\"\"\n",
    "\n",
    "    def __init__(self, hour=0, minute=0, second=0):\n",
    "        if hour > 24:\n",
    "            raise ValueError(\"Hour can not be over 24.\")\n",
    "        self.hour = hour\n",
    "        self.minute = minute\n",
    "        self.second = second\n",
    "\n",
    "    def __str__(self):\n",
    "        return f\"{self.hour:02d}:{self.minute:02d}:{self.second:02d}\"\n",
    "\n",
    "    def __repr__(self):\n",
    "        return self.__str__()\n",
    "\n",
    "    @staticmethod\n",
    "    def int_to_time(seconds):\n",
    "        minute, second = divmod(seconds, 60)\n",
    "        hour, minute = divmod(minute, 60)\n",
    "        return Time(hour, minute, second)\n",
    "\n",
    "    def time_to_int(self):\n",
    "        minutes = self.hour * 60 + self.minute\n",
    "        seconds = minutes * 60 + self.second\n",
    "        return seconds\n",
    "\n",
    "    def __add__(self, other):\n",
    "        seconds = self.time_to_int() + other.time_to_int()\n",
    "        return Time.int_to_time(seconds)\n",
    "\n",
    "    def __sub__(self, other):\n",
    "        seconds = self.time_to_int() - other.time_to_int()\n",
    "        return Time.int_to_time(seconds)"
   ]
  },
  {
   "cell_type": "code",
   "execution_count": 170,
   "metadata": {},
   "outputs": [
    {
     "ename": "ValueError",
     "evalue": "Hour can not be over 24.",
     "output_type": "error",
     "traceback": [
      "\u001b[31m---------------------------------------------------------------------------\u001b[39m",
      "\u001b[31mValueError\u001b[39m                                Traceback (most recent call last)",
      "\u001b[36mCell\u001b[39m\u001b[36m \u001b[39m\u001b[32mIn[170]\u001b[39m\u001b[32m, line 1\u001b[39m\n\u001b[32m----> \u001b[39m\u001b[32m1\u001b[39m start = \u001b[43mTime\u001b[49m\u001b[43m(\u001b[49m\u001b[32;43m90\u001b[39;49m\u001b[43m,\u001b[49m\u001b[43m \u001b[49m\u001b[32;43m40\u001b[39;49m\u001b[43m)\u001b[49m\n",
      "\u001b[36mCell\u001b[39m\u001b[36m \u001b[39m\u001b[32mIn[169]\u001b[39m\u001b[32m, line 6\u001b[39m, in \u001b[36mTime.__init__\u001b[39m\u001b[34m(self, hour, minute, second)\u001b[39m\n\u001b[32m      4\u001b[39m \u001b[38;5;28;01mdef\u001b[39;00m\u001b[38;5;250m \u001b[39m\u001b[34m__init__\u001b[39m(\u001b[38;5;28mself\u001b[39m, hour=\u001b[32m0\u001b[39m, minute=\u001b[32m0\u001b[39m, second=\u001b[32m0\u001b[39m):\n\u001b[32m      5\u001b[39m     \u001b[38;5;28;01mif\u001b[39;00m hour > \u001b[32m24\u001b[39m:\n\u001b[32m----> \u001b[39m\u001b[32m6\u001b[39m         \u001b[38;5;28;01mraise\u001b[39;00m \u001b[38;5;167;01mValueError\u001b[39;00m(\u001b[33m\"\u001b[39m\u001b[33mHour can not be over 24.\u001b[39m\u001b[33m\"\u001b[39m)\n\u001b[32m      7\u001b[39m     \u001b[38;5;28mself\u001b[39m.hour = hour\n\u001b[32m      8\u001b[39m     \u001b[38;5;28mself\u001b[39m.minute = minute\n",
      "\u001b[31mValueError\u001b[39m: Hour can not be over 24."
     ]
    }
   ],
   "source": [
    "start = Time(90, 40)"
   ]
  },
  {
   "cell_type": "code",
   "execution_count": 153,
   "metadata": {},
   "outputs": [
    {
     "name": "stdout",
     "output_type": "stream",
     "text": [
      "00:40:00\n"
     ]
    }
   ],
   "source": [
    "start = Time(9, 40)\n",
    "end = Time(10, 20)\n",
    "print(end - start)"
   ]
  },
  {
   "cell_type": "code",
   "execution_count": 154,
   "metadata": {},
   "outputs": [
    {
     "name": "stdout",
     "output_type": "stream",
     "text": [
      "00:33:20\n"
     ]
    }
   ],
   "source": [
    "a_time = Time.int_to_time(2000)\n",
    "print(a_time)"
   ]
  },
  {
   "cell_type": "markdown",
   "metadata": {},
   "source": [
    "# Inheritance\n",
    "\n",
    "Inheritance is the ability to define a new class that is a modified version of an existing class."
   ]
  },
  {
   "cell_type": "code",
   "execution_count": 27,
   "metadata": {},
   "outputs": [],
   "source": [
    "class AmericanTime(Time):\n",
    "    \"\"\"A class to represent time but in American format.\"\"\"\n",
    "\n",
    "    def __str__(self):\n",
    "        if self.hour <= 12:\n",
    "            return f\"{self.hour:02d}:{self.minute:02d}:{self.second:02d} AM\"\n",
    "        else:\n",
    "            return f\"{self.hour - 12:02d}:{self.minute:02d}:{self.second:02d} PM\"\n"
   ]
  },
  {
   "cell_type": "code",
   "execution_count": 31,
   "metadata": {},
   "outputs": [
    {
     "data": {
      "text/plain": [
       "00:01:40"
      ]
     },
     "execution_count": 31,
     "metadata": {},
     "output_type": "execute_result"
    }
   ],
   "source": [
    "ameic_time = AmericanTime(20, 9, 0)\n",
    "ameic_time.int_to_time(100)"
   ]
  },
  {
   "cell_type": "code",
   "execution_count": null,
   "metadata": {},
   "outputs": [],
   "source": [
    "class BaseDataSet:\n",
    "    def shared_methods():\n",
    "        pass\n",
    "\n",
    "\n",
    "class GermanyDataSet(BaseDataSet):\n",
    "    def unique_method_1():\n",
    "        pass\n",
    "\n",
    "\n",
    "class FranceDataSet(BaseDataSet):\n",
    "    def unique_method_2():\n",
    "        pass"
   ]
  },
  {
   "cell_type": "code",
   "execution_count": 158,
   "metadata": {},
   "outputs": [
    {
     "data": {
      "text/plain": [
       "__main__.AmericanTime"
      ]
     },
     "execution_count": 158,
     "metadata": {},
     "output_type": "execute_result"
    }
   ],
   "source": [
    "type(ameic_time)"
   ]
  },
  {
   "cell_type": "code",
   "execution_count": 130,
   "metadata": {},
   "outputs": [],
   "source": [
    "class AmericanTime(Time):\n",
    "    def __init__(self, hour=0, minute=0, second=0):\n",
    "        super().__init__(hour, minute, second)\n",
    "\n",
    "    def __str__(self):\n",
    "        if self.hour <= 12:\n",
    "            return f\"{self.hour:02d}:{self.minute:02d}:{self.second:02d} AM\"\n",
    "        else:\n",
    "            return f\"{self.hour - 12:02d}:{self.minute:02d}:{self.second:02d} PM\"\n",
    "\n",
    "    def __repr__(self):\n",
    "        return self.__str__()"
   ]
  },
  {
   "cell_type": "code",
   "execution_count": 131,
   "metadata": {},
   "outputs": [
    {
     "data": {
      "text/plain": [
       "09:40:00 AM"
      ]
     },
     "execution_count": 131,
     "metadata": {},
     "output_type": "execute_result"
    }
   ],
   "source": [
    "am_time = AmericanTime(9, 40, 0)\n",
    "am_time"
   ]
  },
  {
   "cell_type": "code",
   "execution_count": 132,
   "metadata": {},
   "outputs": [
    {
     "data": {
      "text/plain": [
       "07:40:00 PM"
      ]
     },
     "execution_count": 132,
     "metadata": {},
     "output_type": "execute_result"
    }
   ],
   "source": [
    "pm_time = AmericanTime(19, 40, 0)\n",
    "pm_time"
   ]
  },
  {
   "cell_type": "code",
   "execution_count": 137,
   "metadata": {},
   "outputs": [
    {
     "data": {
      "text/plain": [
       "10:00:00"
      ]
     },
     "execution_count": 137,
     "metadata": {},
     "output_type": "execute_result"
    }
   ],
   "source": [
    "pm_time - am_time"
   ]
  },
  {
   "cell_type": "markdown",
   "metadata": {},
   "source": [
    "**Exercise**\n",
    "\n",
    "Create a subclass of `BankAccount` called `InterestBearingAccount`. This subclass should add an `interest_rate` attribute and a `apply_interest` method. The `apply_interest` method should add interest to the account balance based on the current `interest_rate` and add a transaction to the `transactions` list."
   ]
  },
  {
   "cell_type": "code",
   "execution_count": 59,
   "metadata": {},
   "outputs": [],
   "source": [
    "class Transaction:\n",
    "    \"\"\"A transaction on a bank account.\"\"\"\n",
    "\n",
    "    def __init__(self, before, after, id):\n",
    "        self.before = before\n",
    "        self.after = after\n",
    "        self.id = id\n",
    "\n",
    "\n",
    "class BankAccount:\n",
    "    \"\"\"A bank account with a balance and transaction history.\"\"\"\n",
    "\n",
    "    def __init__(self, balance=0):\n",
    "        self.balance = balance\n",
    "        self.transactions = []\n",
    "        self.transaction_count = 0\n",
    "\n",
    "\n",
    "class InterestBearingAccount(BankAccount):\n",
    "    \"\"\"A bank account that earns interest.\"\"\"\n",
    "\n",
    "    def __init__(self, balance=0, interest_rate=0.01):\n",
    "        super().__init__(balance)\n",
    "        self.interest_rate = interest_rate\n",
    "\n",
    "    def apply_interest(self):\n",
    "        \"\"\"Apply interest to the account balance.\"\"\"\n",
    "        # Add interest to balance\n",
    "        before = self.balance\n",
    "        after = self.balance = self.balance * (1 + self.interest_rate)\n",
    "        # Add to self.transactions\n",
    "        self.transactions.append(Transaction(before, after, self.transaction_count))\n",
    "        self.transaction_count += 1"
   ]
  },
  {
   "cell_type": "code",
   "execution_count": 62,
   "metadata": {},
   "outputs": [],
   "source": [
    "account_one = InterestBearingAccount(balance=100, interest_rate=0.05)"
   ]
  },
  {
   "cell_type": "code",
   "execution_count": 63,
   "metadata": {},
   "outputs": [],
   "source": [
    "account_one.apply_interest()"
   ]
  },
  {
   "cell_type": "code",
   "execution_count": 64,
   "metadata": {},
   "outputs": [
    {
     "data": {
      "text/plain": [
       "105.0"
      ]
     },
     "execution_count": 64,
     "metadata": {},
     "output_type": "execute_result"
    }
   ],
   "source": [
    "account_one.balance"
   ]
  },
  {
   "cell_type": "markdown",
   "metadata": {},
   "source": [
    "## Multiple Inheritance and Mixins\n",
    "\n",
    "A mixin is a small, focused class that provides reusable methods to other classes via multiple inheritance. It is not intended to be instantiated on its own and usually doesn’t define its own identity or full state. You “mix” it into a concrete class to add behavior without forcing a deep inheritance tree. In Python, this is multiple inheritance used with purpose and restraint."
   ]
  },
  {
   "cell_type": "code",
   "execution_count": 44,
   "metadata": {},
   "outputs": [],
   "source": [
    "class OperatorsMixin:\n",
    "    def __add__(self, other):\n",
    "        seconds = self.time_to_int() + other.time_to_int()\n",
    "        return Time.int_to_time(seconds)\n",
    "\n",
    "    def __sub__(self, other):\n",
    "        seconds = self.time_to_int() - other.time_to_int()\n",
    "        return Time.int_to_time(seconds)\n",
    "\n",
    "    def __eq__(self, other):\n",
    "        return (\n",
    "            self.hour == other.hour\n",
    "            and self.minute == other.minute\n",
    "            and self.second == other.second\n",
    "        )\n",
    "\n",
    "    def __lt__(self, other):\n",
    "        return self.time_to_int() < other.time_to_int()\n",
    "\n",
    "    def __le__(self, other):\n",
    "        return self.time_to_int() <= other.time_to_int()\n",
    "\n",
    "    def __gt__(self, other):\n",
    "        return self.time_to_int() > other.time_to_int()\n",
    "\n",
    "    def __ge__(self, other):\n",
    "        return self.time_to_int() >= other.time_to_int()\n",
    "\n",
    "\n",
    "class Time:\n",
    "    \"\"\"Represents the time of day.\"\"\"\n",
    "\n",
    "    def __init__(self, hour=0, minute=0, second=0):\n",
    "        self.hour = hour\n",
    "        self.minute = minute\n",
    "        self.second = second\n",
    "\n",
    "    def __str__(self):\n",
    "        return f\"{self.hour:02d}:{self.minute:02d}:{self.second:02d}\"\n",
    "\n",
    "    def __repr__(self):\n",
    "        return self.__str__()\n",
    "\n",
    "    @staticmethod\n",
    "    def int_to_time(seconds):\n",
    "        minute, second = divmod(seconds, 60)\n",
    "        hour, minute = divmod(minute, 60)\n",
    "        return Time(hour, minute, second)\n",
    "\n",
    "    def time_to_int(self):\n",
    "        minutes = self.hour * 60 + self.minute\n",
    "        seconds = minutes * 60 + self.second\n",
    "        return seconds\n",
    "\n",
    "\n",
    "class AmericanTime(OperatorsMixin, Time):\n",
    "    def __str__(self):\n",
    "        if self.hour <= 12:\n",
    "            return f\"{self.hour:02d}:{self.minute:02d}:{self.second:02d} AM\"\n",
    "        else:\n",
    "            return f\"{self.hour - 12:02d}:{self.minute:02d}:{self.second:02d} PM\"\n",
    "\n",
    "\n",
    "class EuropeanTime(OperatorsMixin, Time):\n",
    "    pass"
   ]
  },
  {
   "cell_type": "code",
   "execution_count": 38,
   "metadata": {},
   "outputs": [
    {
     "data": {
      "text/plain": [
       "09:40:00 AM"
      ]
     },
     "execution_count": 38,
     "metadata": {},
     "output_type": "execute_result"
    }
   ],
   "source": [
    "am_time = AmericanTime(9, 40, 0)\n",
    "am_time"
   ]
  },
  {
   "cell_type": "code",
   "execution_count": 39,
   "metadata": {},
   "outputs": [
    {
     "data": {
      "text/plain": [
       "07:40:00 PM"
      ]
     },
     "execution_count": 39,
     "metadata": {},
     "output_type": "execute_result"
    }
   ],
   "source": [
    "pm_time = AmericanTime(19, 40, 0)\n",
    "pm_time"
   ]
  },
  {
   "cell_type": "code",
   "execution_count": 40,
   "metadata": {},
   "outputs": [
    {
     "data": {
      "text/plain": [
       "True"
      ]
     },
     "execution_count": 40,
     "metadata": {},
     "output_type": "execute_result"
    }
   ],
   "source": [
    "am_time < pm_time"
   ]
  },
  {
   "cell_type": "code",
   "execution_count": 45,
   "metadata": {},
   "outputs": [
    {
     "data": {
      "text/plain": [
       "True"
      ]
     },
     "execution_count": 45,
     "metadata": {},
     "output_type": "execute_result"
    }
   ],
   "source": [
    "a_time = EuropeanTime(9, 10, 0)\n",
    "b_time = EuropeanTime(10, 10, 0)\n",
    "a_time < b_time"
   ]
  },
  {
   "cell_type": "markdown",
   "metadata": {},
   "source": [
    "## Dataclass\n",
    "\n",
    "A dataclass is a regular Python class decorated with `@dataclass` that auto-generates common boilerplate like `__init__`, `__repr__`, and `__eq__` based on type-annotated fields. You still write normal methods, but you save time and reduce errors by not hand-writing the usual constructors and comparisons. It’s useful because:\n",
    "\n",
    "- Less boilerplate: fields + types → init/repr/eq for free.​\n",
    "- Clearer models: fields are explicit; type hints aid IDEs and static checkers.​\n",
    "- Optional features: ordering (order=True), immutability (frozen=True), defaults and default factories."
   ]
  },
  {
   "cell_type": "code",
   "execution_count": 53,
   "metadata": {},
   "outputs": [],
   "source": [
    "from dataclasses import dataclass\n",
    "\n",
    "\n",
    "@dataclass(order=True)\n",
    "class Time:\n",
    "    hour: int = 0\n",
    "    minute: int = 0\n",
    "    second: int = 0"
   ]
  },
  {
   "cell_type": "code",
   "execution_count": 54,
   "metadata": {},
   "outputs": [
    {
     "data": {
      "text/plain": [
       "Time(hour=9, minute=20, second=0)"
      ]
     },
     "execution_count": 54,
     "metadata": {},
     "output_type": "execute_result"
    }
   ],
   "source": [
    "a = Time(9, 20, 0)\n",
    "a"
   ]
  },
  {
   "cell_type": "code",
   "execution_count": 55,
   "metadata": {},
   "outputs": [
    {
     "data": {
      "text/plain": [
       "True"
      ]
     },
     "execution_count": 55,
     "metadata": {},
     "output_type": "execute_result"
    }
   ],
   "source": [
    "b = Time(9, 20, 0)\n",
    "a == b"
   ]
  },
  {
   "cell_type": "code",
   "execution_count": 58,
   "metadata": {},
   "outputs": [
    {
     "data": {
      "text/plain": [
       "True"
      ]
     },
     "execution_count": 58,
     "metadata": {},
     "output_type": "execute_result"
    }
   ],
   "source": [
    "a = Time(9, 20, 45)\n",
    "c = Time(10, 10, 10)\n",
    "a < c"
   ]
  },
  {
   "cell_type": "markdown",
   "metadata": {},
   "source": [
    "**Exercise**\n",
    "\n",
    "Use `dataclass` for the `Account` class. You can also apply it to the `BankAccount` or `InterestBearingAccount` class that you previously implemented."
   ]
  },
  {
   "cell_type": "code",
   "execution_count": null,
   "metadata": {},
   "outputs": [],
   "source": [
    "from dataclasses import dataclass\n",
    "\n",
    "\n",
    "@dataclass\n",
    "class Account:\n",
    "    \"\"\"An account has a balance and a holder.\n",
    "\n",
    "    >>> a = Account('John')\n",
    "    >>> a.holder_name\n",
    "    'John'\n",
    "    >>> a.deposit(100)\n",
    "    100\n",
    "    >>> a.withdraw(90)\n",
    "    10\n",
    "    >>> a.withdraw(90)\n",
    "    'Insufficient funds'\n",
    "    >>> a.balance\n",
    "    10\n",
    "    \"\"\"\n",
    "\n",
    "    holder_name: str\n",
    "    balance: int = 0"
   ]
  },
  {
   "cell_type": "code",
   "execution_count": 69,
   "metadata": {},
   "outputs": [],
   "source": [
    "acc = Account(\"John\", 100)"
   ]
  },
  {
   "cell_type": "code",
   "execution_count": 70,
   "metadata": {},
   "outputs": [
    {
     "data": {
      "text/plain": [
       "Account(holder_name='John', balance=100)"
      ]
     },
     "execution_count": 70,
     "metadata": {},
     "output_type": "execute_result"
    }
   ],
   "source": [
    "acc"
   ]
  }
 ],
 "metadata": {
  "kernelspec": {
   "display_name": "algos",
   "language": "python",
   "name": "python3"
  },
  "language_info": {
   "codemirror_mode": {
    "name": "ipython",
    "version": 3
   },
   "file_extension": ".py",
   "mimetype": "text/x-python",
   "name": "python",
   "nbconvert_exporter": "python",
   "pygments_lexer": "ipython3",
   "version": "3.13.7"
  }
 },
 "nbformat": 4,
 "nbformat_minor": 2
}
