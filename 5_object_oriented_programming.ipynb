{
 "cells": [
  {
   "cell_type": "markdown",
   "metadata": {},
   "source": [
    "# Object-Oriented Programming\n",
    "\n",
    "Object-oriented programming (OOP) uses programmer-defined types to organize both code and data. Like the functions in data abstraction, classes create abstraction barriers between the use and implementation of data.  \n",
    "\n",
    "The object system offers more than just convenience. It enables a new metaphor for designing programs in which several independent agents interact within the computer.\n",
    "\n",
    "The paradigm of object-oriented programming has its own vocabulary that supports the object metaphor. We have seen that an object is a data value that has methods and attributes, accessible via dot notation. Every object also has a type, called its class."
   ]
  },
  {
   "cell_type": "markdown",
   "metadata": {},
   "source": [
    "## Create a Class\n",
    "**Class**: The type of an object.\n",
    "\n",
    "To create new types of data, we implement new classes."
   ]
  },
  {
   "cell_type": "code",
   "execution_count": 1,
   "metadata": {},
   "outputs": [],
   "source": [
    "class Time:\n",
    "    \"\"\"Represents a time of day.\"\"\""
   ]
  },
  {
   "cell_type": "markdown",
   "metadata": {},
   "source": [
    "**Object**: A single instance of a class. In Python, a new object is created by calling a class.\n",
    "\n",
    "The class object is like a factory for creating objects. To create a `Time` object, you call `Time` as if it were a function."
   ]
  },
  {
   "cell_type": "code",
   "execution_count": 3,
   "metadata": {},
   "outputs": [],
   "source": [
    "lunch = Time()"
   ]
  },
  {
   "cell_type": "markdown",
   "metadata": {},
   "source": [
    "The result is a new object whose type is `__main__`.Time, where `__main__` is the name of the module where Time is defined."
   ]
  },
  {
   "cell_type": "code",
   "execution_count": 4,
   "metadata": {},
   "outputs": [
    {
     "data": {
      "text/plain": [
       "__main__.Time"
      ]
     },
     "execution_count": 4,
     "metadata": {},
     "output_type": "execute_result"
    }
   ],
   "source": [
    "type(lunch)"
   ]
  },
  {
   "cell_type": "code",
   "execution_count": 5,
   "metadata": {},
   "outputs": [
    {
     "name": "stdout",
     "output_type": "stream",
     "text": [
      "<__main__.Time object at 0x118e9cd70>\n"
     ]
    }
   ],
   "source": [
    "print(lunch)"
   ]
  },
  {
   "cell_type": "markdown",
   "metadata": {},
   "source": [
    "**Instance attribute**: A variable that belongs to a particular object and is accessed via dot notation."
   ]
  },
  {
   "cell_type": "code",
   "execution_count": 6,
   "metadata": {},
   "outputs": [],
   "source": [
    "lunch.hour = 11\n",
    "lunch.minute = 59\n",
    "lunch.second = 1"
   ]
  },
  {
   "cell_type": "code",
   "execution_count": 7,
   "metadata": {},
   "outputs": [
    {
     "data": {
      "text/plain": [
       "11"
      ]
     },
     "execution_count": 7,
     "metadata": {},
     "output_type": "execute_result"
    }
   ],
   "source": [
    "lunch.hour"
   ]
  },
  {
   "cell_type": "code",
   "execution_count": 8,
   "metadata": {},
   "outputs": [
    {
     "data": {
      "text/plain": [
       "59"
      ]
     },
     "execution_count": 8,
     "metadata": {},
     "output_type": "execute_result"
    }
   ],
   "source": [
    "lunch.minute"
   ]
  },
  {
   "cell_type": "code",
   "execution_count": 9,
   "metadata": {},
   "outputs": [
    {
     "data": {
      "text/plain": [
       "1"
      ]
     },
     "execution_count": 9,
     "metadata": {},
     "output_type": "execute_result"
    }
   ],
   "source": [
    "lunch.second"
   ]
  },
  {
   "cell_type": "code",
   "execution_count": 10,
   "metadata": {},
   "outputs": [
    {
     "data": {
      "text/plain": [
       "719"
      ]
     },
     "execution_count": 10,
     "metadata": {},
     "output_type": "execute_result"
    }
   ],
   "source": [
    "total_minutes = lunch.hour * 60 + lunch.minute\n",
    "total_minutes"
   ]
  },
  {
   "cell_type": "code",
   "execution_count": 12,
   "metadata": {},
   "outputs": [
    {
     "data": {
      "text/plain": [
       "'11:59:1'"
      ]
     },
     "execution_count": 12,
     "metadata": {},
     "output_type": "execute_result"
    }
   ],
   "source": [
    "f\"{lunch.hour}:{lunch.minute}:{lunch.second}\""
   ]
  },
  {
   "cell_type": "code",
   "execution_count": 13,
   "metadata": {},
   "outputs": [
    {
     "data": {
      "text/plain": [
       "'11:59:01'"
      ]
     },
     "execution_count": 13,
     "metadata": {},
     "output_type": "execute_result"
    }
   ],
   "source": [
    "f\"{lunch.hour}:{lunch.minute:02d}:{lunch.second:02d}\""
   ]
  },
  {
   "cell_type": "code",
   "execution_count": 14,
   "metadata": {},
   "outputs": [
    {
     "name": "stdout",
     "output_type": "stream",
     "text": [
      "11:59:01\n"
     ]
    }
   ],
   "source": [
    "def print_time(time):\n",
    "    s = f\"{time.hour:02d}:{time.minute:02d}:{time.second:02d}\"\n",
    "    print(s)\n",
    "\n",
    "\n",
    "print_time(lunch)"
   ]
  },
  {
   "cell_type": "code",
   "execution_count": null,
   "metadata": {},
   "outputs": [
    {
     "name": "stdout",
     "output_type": "stream",
     "text": [
      "11:59:01\n"
     ]
    }
   ],
   "source": [
    "def make_time(hour, minute, second):\n",
    "    time = Time()\n",
    "    time.hour = hour\n",
    "    time.minute = minute\n",
    "    time.second = second\n",
    "    return time\n",
    "\n",
    "\n",
    "time = make_time(11, 59, 1)\n",
    "print_time(time)"
   ]
  },
  {
   "cell_type": "code",
   "execution_count": 16,
   "metadata": {},
   "outputs": [
    {
     "name": "stdout",
     "output_type": "stream",
     "text": [
      "09:20:00\n"
     ]
    }
   ],
   "source": [
    "start = make_time(9, 20, 0)\n",
    "print_time(start)"
   ]
  },
  {
   "cell_type": "code",
   "execution_count": 17,
   "metadata": {},
   "outputs": [
    {
     "name": "stdout",
     "output_type": "stream",
     "text": [
      "10:52:00\n"
     ]
    }
   ],
   "source": [
    "start.hour += 1\n",
    "start.minute += 32\n",
    "print_time(start)"
   ]
  },
  {
   "cell_type": "code",
   "execution_count": 19,
   "metadata": {},
   "outputs": [],
   "source": [
    "def increment_time(time, hours, minutes, seconds):\n",
    "    time.hour += hours\n",
    "    time.minute += minutes\n",
    "    time.second += seconds"
   ]
  },
  {
   "cell_type": "code",
   "execution_count": 20,
   "metadata": {},
   "outputs": [
    {
     "name": "stdout",
     "output_type": "stream",
     "text": [
      "10:52:00\n"
     ]
    }
   ],
   "source": [
    "start = make_time(9, 20, 0)\n",
    "increment_time(start, 1, 32, 0)\n",
    "print_time(start)"
   ]
  },
  {
   "cell_type": "markdown",
   "metadata": {},
   "source": [
    "**Method**: A function that belongs to an object and is called via dot notation. By convention, the first parameter of a method is self."
   ]
  },
  {
   "cell_type": "code",
   "execution_count": 24,
   "metadata": {},
   "outputs": [],
   "source": [
    "class Time:\n",
    "    \"\"\"Represents the time of day.\"\"\"\n",
    "\n",
    "    def print_time(self):\n",
    "        s = f\"{self.hour:02d}:{self.minute:02d}:{self.second:02d}\"\n",
    "        print(s)"
   ]
  },
  {
   "cell_type": "code",
   "execution_count": 27,
   "metadata": {},
   "outputs": [],
   "source": [
    "def make_time(hour, minute, second):\n",
    "    time = Time()\n",
    "    time.hour = hour\n",
    "    time.minute = minute\n",
    "    time.second = second\n",
    "    return time"
   ]
  },
  {
   "cell_type": "code",
   "execution_count": 25,
   "metadata": {},
   "outputs": [],
   "source": [
    "start = make_time(9, 40, 0)"
   ]
  },
  {
   "cell_type": "code",
   "execution_count": 22,
   "metadata": {},
   "outputs": [
    {
     "name": "stdout",
     "output_type": "stream",
     "text": [
      "10:52:00\n"
     ]
    }
   ],
   "source": [
    "Time.print_time(start)"
   ]
  },
  {
   "cell_type": "code",
   "execution_count": 26,
   "metadata": {},
   "outputs": [
    {
     "name": "stdout",
     "output_type": "stream",
     "text": [
      "09:40:00\n"
     ]
    }
   ],
   "source": [
    "start.print_time()"
   ]
  },
  {
   "cell_type": "markdown",
   "metadata": {},
   "source": [
    "## Assign attributes"
   ]
  },
  {
   "cell_type": "markdown",
   "metadata": {},
   "source": [
    "**`__init__`**: A special function that is called automatically when a new instance of a class is created."
   ]
  },
  {
   "cell_type": "code",
   "execution_count": 41,
   "metadata": {},
   "outputs": [],
   "source": [
    "class Time:\n",
    "    \"\"\"Represents the time of day.\"\"\"\n",
    "\n",
    "    def __init__(self, hour=0, minute=0, second=0):\n",
    "        self.hour = hour\n",
    "        self.minute = minute\n",
    "        self.second = second\n",
    "\n",
    "    def print_time(self):\n",
    "        s = f\"{self.hour:02d}:{self.minute:02d}:{self.second:02d}\"\n",
    "        print(s)"
   ]
  },
  {
   "cell_type": "code",
   "execution_count": 43,
   "metadata": {},
   "outputs": [
    {
     "name": "stdout",
     "output_type": "stream",
     "text": [
      "09:40:00\n"
     ]
    }
   ],
   "source": [
    "time = Time(9, 40, 0)\n",
    "time.print_time()"
   ]
  },
  {
   "cell_type": "markdown",
   "metadata": {},
   "source": [
    "**Class attribute**: A variable that belongs to a class and is accessed via dot notation."
   ]
  },
  {
   "cell_type": "code",
   "execution_count": null,
   "metadata": {},
   "outputs": [],
   "source": [
    "class Time:\n",
    "    \"\"\"Represents the time of day.\"\"\"\n",
    "\n",
    "    time_zone = \"Berlin\"\n",
    "\n",
    "    def __init__(self, hour=0, minute=0, second=0):\n",
    "        self.hour = hour\n",
    "        self.minute = minute\n",
    "        self.second = second\n",
    "\n",
    "    def print_time(self):\n",
    "        s = f\"{self.hour:02d}:{self.minute:02d}:{self.second:02d}\"\n",
    "        print(s)\n",
    "\n",
    "    def print_timezone(self):\n",
    "        pass"
   ]
  },
  {
   "cell_type": "code",
   "execution_count": null,
   "metadata": {},
   "outputs": [
    {
     "name": "stdout",
     "output_type": "stream",
     "text": [
      "Berlin\n"
     ]
    }
   ],
   "source": [
    "time = Time(9, 40, 0)\n",
    "time.print_timezone()"
   ]
  },
  {
   "cell_type": "markdown",
   "metadata": {},
   "source": [
    "**Exercise**\n",
    "\n",
    "A class describes the behavior of its instances. For example, All bank accounts have a balance and an account holder; the Account class should add those attributes to each newly created instance. All bank accounts share a `withdraw` method and a `deposit` method. Implement `Account` class below."
   ]
  },
  {
   "cell_type": "code",
   "execution_count": null,
   "metadata": {},
   "outputs": [],
   "source": [
    "class Account:\n",
    "    \"\"\"An account has a balance and a holder.\n",
    "\n",
    "    >>> a = Account('John')\n",
    "    >>> a.bank_name\n",
    "    'John'\n",
    "    >>> a.holder_name\n",
    "    'John'\n",
    "    >>> a.deposit(100)\n",
    "    100\n",
    "    >>> a.withdraw(90)\n",
    "    10\n",
    "    >>> a.withdraw(90)\n",
    "    'Insufficient funds'\n",
    "    >>> a.balance\n",
    "    10\n",
    "    \"\"\"\n",
    "\n",
    "    \"YOUR CODE HERE\"\n",
    "\n",
    "    def __init__(self, your_code_here):\n",
    "        \"YOUR CODE HERE\"\n",
    "\n",
    "    def deposit(self, amount):\n",
    "        \"\"\"Add amount to balance, return the balance.\"\"\"\n",
    "        \"YOUR CODE HERE\"\n",
    "        return self.balance\n",
    "\n",
    "    def withdraw(self, amount):\n",
    "        \"\"\"Subtract amount from balance if funds are available, return the balance.\"\"\"\n",
    "        if amount > self.balance:\n",
    "            return \"Insufficient funds\"\n",
    "        \"YOUR CODE HERE\"\n",
    "        return self.balance"
   ]
  },
  {
   "cell_type": "markdown",
   "metadata": {},
   "source": [
    "Extend the `BankAccount` class to include a `transactions` attribute. This attribute should be a list that keeps track of each transaction made on the account. Whenever the `deposit` or `withdraw` method is called, a new `Transaction` instance should be created and added to the list, even if the action is not successful.\n",
    "\n",
    "The `Transaction` class should have the following attributes:\n",
    "\n",
    "* `before`: The account balance before the transaction.\n",
    "* `after`: The account balance after the transaction.\n",
    "* `id`: The transaction ID, which is the number of previous transactions (deposits or withdrawals) made on that account. The transaction IDs for a specific `BankAccount` instance must be unique, but this `id` does not need to be unique across all accounts. In other words, you only need to ensure that no two `Transaction` objects made by the same `BankAccount` instance have the same `id`."
   ]
  },
  {
   "cell_type": "code",
   "execution_count": null,
   "metadata": {},
   "outputs": [],
   "source": [
    "class Transaction:\n",
    "    \"\"\"A transaction on a bank account.\"\"\"\n",
    "\n",
    "    def __init__(self, before, after, id):\n",
    "        \"\"\"YOUR_CODE_HERE\"\"\"\n",
    "\n",
    "\n",
    "class BankAccount:\n",
    "    \"\"\"A bank account with a balance and transaction history.\"\"\"\n",
    "\n",
    "    def __init__(self, balance=0):\n",
    "        self.balance = balance\n",
    "        self.transactions = []\n",
    "        self.transaction_count = 0\n",
    "\n",
    "    def deposit(self, amount):\n",
    "        \"\"\"Deposit amount into the account.\"\"\"\n",
    "        before = self.balance\n",
    "        self.balance += amount\n",
    "        self.transaction_count += 1\n",
    "        self.transactions.append(\"\"\"YOUR_CODE_HERE\"\"\")\n",
    "\n",
    "    def withdraw(self, amount):\n",
    "        \"\"\"Withdraw amount from the account.\"\"\"\n",
    "        before = self.balance\n",
    "        if amount <= self.balance:\n",
    "            self.balance -= amount\n",
    "            self.transaction_count += 1\n",
    "            self.transactions.append(\"\"\"YOUR_CODE_HERE\"\"\")\n",
    "        else:\n",
    "            print(\"Insufficient funds\")\n"
   ]
  },
  {
   "cell_type": "markdown",
   "metadata": {},
   "source": [
    "Implement the `get_transaction_history` method for the `BankAccount` class. This method should return a list of strings, each representing a transaction in the following format:\n",
    "\n",
    "```\n",
    "Transaction ID: <id>\n",
    "Before: <before_balance>\n",
    "After: <after_balance>\n",
    "```\n",
    "\n",
    "For example:\n",
    "\n",
    "```\n",
    "Transaction ID: 1\n",
    "Before: 100\n",
    "After: 150\n",
    "```"
   ]
  },
  {
   "cell_type": "code",
   "execution_count": null,
   "metadata": {},
   "outputs": [],
   "source": [
    "class BankAccount:\n",
    "    # ... (previous code)\n",
    "\n",
    "    def get_transaction_history(self):\n",
    "        \"\"\"Return a list of strings representing the transaction history.\"\"\"\n",
    "        \"\"\"YOUR_CODE_HERE\"\"\""
   ]
  },
  {
   "cell_type": "markdown",
   "metadata": {},
   "source": [
    "## More dunder methods"
   ]
  },
  {
   "cell_type": "markdown",
   "metadata": {},
   "source": [
    "**`__str__`**: Method to convert the object to a string."
   ]
  },
  {
   "cell_type": "code",
   "execution_count": 97,
   "metadata": {},
   "outputs": [],
   "source": [
    "class Time:\n",
    "    \"\"\"Represents the time of day.\"\"\"\n",
    "\n",
    "    def __init__(self, hour=0, minute=0, second=0):\n",
    "        self.hour = hour\n",
    "        self.minute = minute\n",
    "        self.second = second\n",
    "\n",
    "    def __str__(self):\n",
    "        return f\"{self.hour:02d}:{self.minute:02d}:{self.second:02d}\""
   ]
  },
  {
   "cell_type": "code",
   "execution_count": 98,
   "metadata": {},
   "outputs": [
    {
     "name": "stdout",
     "output_type": "stream",
     "text": [
      "09:40:00\n"
     ]
    }
   ],
   "source": [
    "time = Time(9, 40, 0)\n",
    "print(time.__str__())"
   ]
  },
  {
   "cell_type": "code",
   "execution_count": 99,
   "metadata": {},
   "outputs": [
    {
     "name": "stdout",
     "output_type": "stream",
     "text": [
      "09:40:00\n"
     ]
    }
   ],
   "source": [
    "print(time)"
   ]
  },
  {
   "cell_type": "code",
   "execution_count": 100,
   "metadata": {},
   "outputs": [
    {
     "data": {
      "text/plain": [
       "<__main__.Time at 0x1195ddf90>"
      ]
     },
     "execution_count": 100,
     "metadata": {},
     "output_type": "execute_result"
    }
   ],
   "source": [
    "time = Time(9, 40, 0)\n",
    "time"
   ]
  },
  {
   "cell_type": "markdown",
   "metadata": {},
   "source": [
    "`__repr__`: Method to represent the object in REPL."
   ]
  },
  {
   "cell_type": "code",
   "execution_count": 101,
   "metadata": {},
   "outputs": [],
   "source": [
    "class Time:\n",
    "    \"\"\"Represents the time of day.\"\"\"\n",
    "\n",
    "    def __init__(self, hour=0, minute=0, second=0):\n",
    "        self.hour = hour\n",
    "        self.minute = minute\n",
    "        self.second = second\n",
    "\n",
    "    def __str__(self):\n",
    "        return f\"{self.hour:02d}:{self.minute:02d}:{self.second:02d}\"\n",
    "\n",
    "    def __repr__(self):\n",
    "        return f\"{self.hour:02d}:{self.minute:02d}:{self.second:02d}\""
   ]
  },
  {
   "cell_type": "code",
   "execution_count": 102,
   "metadata": {},
   "outputs": [
    {
     "data": {
      "text/plain": [
       "09:40:00"
      ]
     },
     "execution_count": 102,
     "metadata": {},
     "output_type": "execute_result"
    }
   ],
   "source": [
    "time = Time(9, 40, 0)\n",
    "time"
   ]
  },
  {
   "cell_type": "markdown",
   "metadata": {},
   "source": [
    "`__add__`: Defines how the addition operator (+) behaves for your class."
   ]
  },
  {
   "cell_type": "code",
   "execution_count": null,
   "metadata": {},
   "outputs": [],
   "source": [
    "def make_time(hour, minute, second):\n",
    "    time = Time()\n",
    "    time.hour = hour\n",
    "    time.minute = minute\n",
    "    time.second = second\n",
    "    return time\n",
    "\n",
    "\n",
    "def int_to_time(seconds):\n",
    "    minute, second = divmod(seconds, 60)\n",
    "    hour, minute = divmod(minute, 60)\n",
    "    return make_time(hour, minute, second)\n",
    "\n",
    "\n",
    "class Time:\n",
    "    \"\"\"Represents the time of day.\"\"\"\n",
    "\n",
    "    def __init__(self, hour=0, minute=0, second=0):\n",
    "        self.hour = hour\n",
    "        self.minute = minute\n",
    "        self.second = second\n",
    "\n",
    "    def __str__(self):\n",
    "        return f\"{self.hour:02d}:{self.minute:02d}:{self.second:02d}\"\n",
    "\n",
    "    def __repr__(self):\n",
    "        return f\"{self.hour:02d}:{self.minute:02d}:{self.second:02d}\"\n",
    "\n",
    "    def time_to_int(self):\n",
    "        minutes = self.hour * 60 + self.minute\n",
    "        seconds = minutes * 60 + self.second\n",
    "        return seconds\n",
    "\n",
    "    def __add__(self, other):\n",
    "        seconds = self.time_to_int() + other.time_to_int()\n",
    "        return int_to_time(seconds)"
   ]
  },
  {
   "cell_type": "code",
   "execution_count": 85,
   "metadata": {},
   "outputs": [
    {
     "name": "stdout",
     "output_type": "stream",
     "text": [
      "11:12:00\n"
     ]
    }
   ],
   "source": [
    "start = Time(9, 40)\n",
    "duration = Time(1, 32)\n",
    "end = start + duration\n",
    "print(end)"
   ]
  },
  {
   "cell_type": "markdown",
   "metadata": {},
   "source": [
    "`__sub__`: Defines how the subtraction operator (-) behaves for your class."
   ]
  },
  {
   "cell_type": "code",
   "execution_count": null,
   "metadata": {},
   "outputs": [],
   "source": [
    "class Time:\n",
    "    \"\"\"Represents the time of day.\"\"\"\n",
    "\n",
    "    def __init__(self, hour=0, minute=0, second=0):\n",
    "        self.hour = hour\n",
    "        self.minute = minute\n",
    "        self.second = second\n",
    "\n",
    "    def __str__(self):\n",
    "        return f\"{self.hour:02d}:{self.minute:02d}:{self.second:02d}\"\n",
    "\n",
    "    def __repr__(self):\n",
    "        return f\"{self.hour:02d}:{self.minute:02d}:{self.second:02d}\"\n",
    "\n",
    "    def time_to_int(self):\n",
    "        minutes = self.hour * 60 + self.minute\n",
    "        seconds = minutes * 60 + self.second\n",
    "        return seconds\n",
    "\n",
    "    def __add__(self, other):\n",
    "        seconds = self.time_to_int() + other.time_to_int()\n",
    "        return int_to_time(seconds)\n",
    "\n",
    "    def __sub__(self, other):\n",
    "        seconds = self.time_to_int() - other.time_to_int()\n",
    "        return int_to_time(seconds)"
   ]
  },
  {
   "cell_type": "code",
   "execution_count": 88,
   "metadata": {},
   "outputs": [
    {
     "name": "stdout",
     "output_type": "stream",
     "text": [
      "00:40:00\n"
     ]
    }
   ],
   "source": [
    "start = Time(9, 40)\n",
    "end = Time(10, 20)\n",
    "print(end - start)"
   ]
  },
  {
   "cell_type": "markdown",
   "metadata": {},
   "source": [
    "There is a lot happening when we run these three lines of code:\n",
    "\n",
    "- When we instantiate a Time object, the `__init__` method is invoked.\n",
    "- And when we print a Time object, its `__str__` method is invoked.\n",
    "- When we use the + operator with a Time object, its `__add__` method is invoked."
   ]
  },
  {
   "cell_type": "markdown",
   "metadata": {},
   "source": [
    "`__eq__`: Determines what it means for objects to be equal to one another."
   ]
  },
  {
   "cell_type": "code",
   "execution_count": 105,
   "metadata": {},
   "outputs": [
    {
     "data": {
      "text/plain": [
       "False"
      ]
     },
     "execution_count": 105,
     "metadata": {},
     "output_type": "execute_result"
    }
   ],
   "source": [
    "start = Time(9, 40)\n",
    "end = Time(9, 40)\n",
    "start == end"
   ]
  },
  {
   "cell_type": "code",
   "execution_count": 106,
   "metadata": {},
   "outputs": [],
   "source": [
    "class Time:\n",
    "    \"\"\"Represents the time of day.\"\"\"\n",
    "\n",
    "    def __init__(self, hour=0, minute=0, second=0):\n",
    "        self.hour = hour\n",
    "        self.minute = minute\n",
    "        self.second = second\n",
    "\n",
    "    def __str__(self):\n",
    "        return f\"{self.hour:02d}:{self.minute:02d}:{self.second:02d}\"\n",
    "\n",
    "    def __repr__(self):\n",
    "        return f\"{self.hour:02d}:{self.minute:02d}:{self.second:02d}\"\n",
    "\n",
    "    def time_to_int(self):\n",
    "        minutes = self.hour * 60 + self.minute\n",
    "        seconds = minutes * 60 + self.second\n",
    "        return seconds\n",
    "\n",
    "    def __add__(self, other):\n",
    "        seconds = self.time_to_int() + other.time_to_int()\n",
    "        return int_to_time(seconds)\n",
    "\n",
    "    def __sub__(self, other):\n",
    "        seconds = self.time_to_int() - other.time_to_int()\n",
    "        return int_to_time(seconds)\n",
    "\n",
    "    def __eq__(self, other):\n",
    "        return (\n",
    "            self.hour == other.hour\n",
    "            and self.minute == other.minute\n",
    "            and self.second == other.second\n",
    "        )"
   ]
  },
  {
   "cell_type": "code",
   "execution_count": 107,
   "metadata": {},
   "outputs": [
    {
     "data": {
      "text/plain": [
       "True"
      ]
     },
     "execution_count": 107,
     "metadata": {},
     "output_type": "execute_result"
    }
   ],
   "source": [
    "start = Time(9, 40)\n",
    "end = Time(9, 40)\n",
    "start == end"
   ]
  },
  {
   "cell_type": "markdown",
   "metadata": {},
   "source": [
    "**Exercise**\n",
    "\n",
    "Read more about [dunder methods in Python](https://www.pythonmorsels.com/every-dunder-method/), what are the dunder methods you think are important for your `Account` class? Discuss and implement them."
   ]
  },
  {
   "cell_type": "markdown",
   "metadata": {},
   "source": [
    "## Static methods\n",
    "\n",
    "**Static methods**: A static method does not have self as a parameter. To invoke it, we use `Time`, which is the class object."
   ]
  },
  {
   "cell_type": "code",
   "execution_count": 129,
   "metadata": {},
   "outputs": [],
   "source": [
    "class Time:\n",
    "    \"\"\"Represents the time of day.\"\"\"\n",
    "\n",
    "    def __init__(self, hour=0, minute=0, second=0):\n",
    "        self.hour = hour\n",
    "        self.minute = minute\n",
    "        self.second = second\n",
    "\n",
    "    def __str__(self):\n",
    "        return f\"{self.hour:02d}:{self.minute:02d}:{self.second:02d}\"\n",
    "\n",
    "    def __repr__(self):\n",
    "        return self.__str__()\n",
    "\n",
    "    @staticmethod\n",
    "    def make_time(hour, minute, second):\n",
    "        time = Time()\n",
    "        time.hour = hour\n",
    "        time.minute = minute\n",
    "        time.second = second\n",
    "        return time\n",
    "\n",
    "    @staticmethod\n",
    "    def int_to_time(seconds):\n",
    "        minute, second = divmod(seconds, 60)\n",
    "        hour, minute = divmod(minute, 60)\n",
    "        return make_time(hour, minute, second)\n",
    "\n",
    "    def time_to_int(self):\n",
    "        minutes = self.hour * 60 + self.minute\n",
    "        seconds = minutes * 60 + self.second\n",
    "        return seconds\n",
    "\n",
    "    def __add__(self, other):\n",
    "        seconds = self.time_to_int() + other.time_to_int()\n",
    "        return Time.int_to_time(seconds)\n",
    "\n",
    "    def __sub__(self, other):\n",
    "        seconds = self.time_to_int() - other.time_to_int()\n",
    "        return Time.int_to_time(seconds)"
   ]
  },
  {
   "cell_type": "code",
   "execution_count": 90,
   "metadata": {},
   "outputs": [
    {
     "name": "stdout",
     "output_type": "stream",
     "text": [
      "00:40:00\n"
     ]
    }
   ],
   "source": [
    "start = Time(9, 40)\n",
    "end = Time(10, 20)\n",
    "print(end - start)"
   ]
  },
  {
   "cell_type": "code",
   "execution_count": 92,
   "metadata": {},
   "outputs": [
    {
     "name": "stdout",
     "output_type": "stream",
     "text": [
      "00:33:20\n"
     ]
    }
   ],
   "source": [
    "a_time = Time.int_to_time(2000)\n",
    "print(a_time)"
   ]
  },
  {
   "cell_type": "markdown",
   "metadata": {},
   "source": [
    "# Inheritance\n",
    "\n",
    "Inheritance is the ability to define a new class that is a modified version of an existing class."
   ]
  },
  {
   "cell_type": "code",
   "execution_count": 130,
   "metadata": {},
   "outputs": [],
   "source": [
    "class AmericanTime(Time):\n",
    "    def __init__(self, hour=0, minute=0, second=0):\n",
    "        super().__init__(hour, minute, second)\n",
    "\n",
    "    def __str__(self):\n",
    "        if self.hour <= 12:\n",
    "            return f\"{self.hour:02d}:{self.minute:02d}:{self.second:02d} AM\"\n",
    "        else:\n",
    "            return f\"{self.hour - 12:02d}:{self.minute:02d}:{self.second:02d} PM\"\n",
    "\n",
    "    def __repr__(self):\n",
    "        return self.__str__()"
   ]
  },
  {
   "cell_type": "code",
   "execution_count": 131,
   "metadata": {},
   "outputs": [
    {
     "data": {
      "text/plain": [
       "09:40:00 AM"
      ]
     },
     "execution_count": 131,
     "metadata": {},
     "output_type": "execute_result"
    }
   ],
   "source": [
    "am_time = AmericanTime(9, 40, 0)\n",
    "am_time"
   ]
  },
  {
   "cell_type": "code",
   "execution_count": 132,
   "metadata": {},
   "outputs": [
    {
     "data": {
      "text/plain": [
       "07:40:00 PM"
      ]
     },
     "execution_count": 132,
     "metadata": {},
     "output_type": "execute_result"
    }
   ],
   "source": [
    "pm_time = AmericanTime(19, 40, 0)\n",
    "pm_time"
   ]
  },
  {
   "cell_type": "code",
   "execution_count": 137,
   "metadata": {},
   "outputs": [
    {
     "data": {
      "text/plain": [
       "10:00:00"
      ]
     },
     "execution_count": 137,
     "metadata": {},
     "output_type": "execute_result"
    }
   ],
   "source": [
    "pm_time - am_time"
   ]
  },
  {
   "cell_type": "markdown",
   "metadata": {},
   "source": [
    "**Exercise**\n",
    "\n",
    "Create a subclass of `BankAccount` called `InterestBearingAccount`. This subclass should add an `interest_rate` attribute and a `apply_interest` method. The `apply_interest` method should add interest to the account balance based on the current `interest_rate` and add a transaction to the `transactions` list."
   ]
  },
  {
   "cell_type": "code",
   "execution_count": null,
   "metadata": {},
   "outputs": [],
   "source": [
    "class InterestBearingAccount(BankAccount):\n",
    "    \"\"\"A bank account that earns interest.\"\"\"\n",
    "\n",
    "    def __init__(self, balance=0, interest_rate=0.01):\n",
    "        super().__init__(balance)\n",
    "        self.interest_rate = interest_rate\n",
    "\n",
    "    def apply_interest(self):\n",
    "        \"\"\"Apply interest to the account balance.\"\"\"\n",
    "        \"\"\"YOUR CODE HERE\"\"\""
   ]
  }
 ],
 "metadata": {
  "kernelspec": {
   "display_name": "algos",
   "language": "python",
   "name": "python3"
  },
  "language_info": {
   "codemirror_mode": {
    "name": "ipython",
    "version": 3
   },
   "file_extension": ".py",
   "mimetype": "text/x-python",
   "name": "python",
   "nbconvert_exporter": "python",
   "pygments_lexer": "ipython3",
   "version": "3.13.7"
  }
 },
 "nbformat": 4,
 "nbformat_minor": 2
}
