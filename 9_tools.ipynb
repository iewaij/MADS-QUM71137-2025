{
 "cells": [
  {
   "cell_type": "markdown",
   "metadata": {},
   "source": [
    "# Tools\n",
    "\n",
    "## Agile\n",
    "\n",
    "## Logging\n",
    "\n",
    "## Debugger\n",
    "\n",
    "## Profiler\n",
    "\n",
    "## Unit Testing\n",
    "\n",
    "## Type Check\n"
   ]
  }
 ],
 "metadata": {
  "language_info": {
   "name": "python"
  }
 },
 "nbformat": 4,
 "nbformat_minor": 2
}
