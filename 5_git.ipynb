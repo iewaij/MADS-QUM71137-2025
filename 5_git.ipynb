{
 "cells": [
  {
   "cell_type": "markdown",
   "metadata": {},
   "source": [
    "# Git\n",
    "\n",
    "Git is the most basic tool for tracking software changes and collaboration. Let us start by creating a Git repository on GitHub.\n",
    "\n",
    "Then we clone the repository and create a new git branch and call it `feature/fancy-feature`:\n",
    "\n",
    "```\n",
    "git branch feature/fancy-feature\n",
    "```\n",
    "\n",
    "You can give the new branch any name, but ideally it should reflect what you are tring to do in this branch. Later when the feature is finished, you can safely merge this branch into main branch and delete it using pull request."
   ]
  }
 ],
 "metadata": {
  "language_info": {
   "name": "python"
  }
 },
 "nbformat": 4,
 "nbformat_minor": 2
}
