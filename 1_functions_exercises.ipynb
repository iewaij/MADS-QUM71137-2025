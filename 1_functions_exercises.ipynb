{
 "cells": [
  {
   "cell_type": "markdown",
   "metadata": {},
   "source": [
    "# Exercises on Functions"
   ]
  },
  {
   "cell_type": "markdown",
   "metadata": {},
   "source": [
    "Implement `digit`, which takes positive integers n and k and has only a single return statement as its body. It returns the digit of n that is k positions to the left of the rightmost digit (the one's digit). If k is 0, return the rightmost digit. If there is no digit of n that is k positions to the left of the rightmost digit, return 0.\n",
    "\n",
    "Hint: Use // and % and the built-in `pow` function to isolate a particular digit of n."
   ]
  },
  {
   "cell_type": "code",
   "execution_count": null,
   "metadata": {},
   "outputs": [],
   "source": [
    "def digit(n, k):\n",
    "    \"\"\"Return the digit that is k from the right of n for positive integers n and k.\n",
    "\n",
    "    >>> digit(3579, 2)\n",
    "    5\n",
    "    >>> digit(3579, 0)\n",
    "    9\n",
    "    >>> digit(3579, 10)\n",
    "    0\n",
    "    \"\"\"\n",
    "    return 3579 // 10**k % 10"
   ]
  },
  {
   "cell_type": "markdown",
   "metadata": {},
   "source": [
    "Implement `middle` by writing a single return expression that evaluates to the value that is neither the largest or smallest among three different integers a, b, and c.\n",
    "\n",
    "Hint: Try combining all the numbers and then taking away the ones you don't want to return."
   ]
  },
  {
   "cell_type": "code",
   "execution_count": null,
   "metadata": {},
   "outputs": [],
   "source": [
    "def middle(a, b, c):\n",
    "    \"\"\"Return the number among a, b, and c that is not the smallest or largest.\n",
    "    Assume a, b, and c are all different numbers.\n",
    "\n",
    "    >>> middle(3, 5, 4)\n",
    "    4\n",
    "    >>> middle(30, 5, 4)\n",
    "    5\n",
    "    >>> middle(3, 5, 40)\n",
    "    5\n",
    "    >>> middle(3, 5, 40)\n",
    "    5\n",
    "    >>> middle(30, 5, 40)\n",
    "    30\n",
    "    \"\"\"\n",
    "    return a + b + c - min(a, b, c) - max(a, b, c)\n"
   ]
  },
  {
   "cell_type": "markdown",
   "metadata": {},
   "source": [
    "Let's write a function `falling`, which is a \"falling\" factorial that takes two arguments, n and k, and returns the product of k consecutive numbers, starting from n and working downwards. When k is 0, the function should return 1."
   ]
  },
  {
   "cell_type": "code",
   "execution_count": null,
   "metadata": {},
   "outputs": [],
   "source": [
    "def falling(n, k):\n",
    "    \"\"\"Compute the falling factorial of n to depth k.\n",
    "\n",
    "    >>> falling(6, 3)  # 6 * 5 * 4\n",
    "    120\n",
    "    >>> falling(4, 3)  # 4 * 3 * 2\n",
    "    24\n",
    "    >>> falling(4, 1)  # 4\n",
    "    4\n",
    "    >>> falling(4, 0)\n",
    "    1\n",
    "    \"\"\"\n",
    "    total = 1\n",
    "    stop = n - k\n",
    "    while n > stop:\n",
    "        total = total * n\n",
    "        n -= 1\n",
    "    return total"
   ]
  },
  {
   "cell_type": "markdown",
   "metadata": {},
   "source": [
    "Write a function `divisible_by_k` that takes positive integers n and k. It prints all positive integers less than or equal to n that are divisible by k from smallest to largest. Then, it returns how many numbers were printed."
   ]
  },
  {
   "cell_type": "code",
   "execution_count": null,
   "metadata": {},
   "outputs": [],
   "source": [
    "def divisible_by_k(n, k):\n",
    "    \"\"\"\n",
    "    >>> a = divisible_by_k(10, 2)  # 2, 4, 6, 8, and 10 are divisible by 2\n",
    "    2\n",
    "    4\n",
    "    6\n",
    "    8\n",
    "    10\n",
    "    >>> a\n",
    "    5\n",
    "    >>> b = divisible_by_k(3, 1)  # 1, 2, and 3 are divisible by 1\n",
    "    1\n",
    "    2\n",
    "    3\n",
    "    >>> b\n",
    "    3\n",
    "    >>> c = divisible_by_k(6, 7)  # There are no integers up to 6 divisible by 7\n",
    "    >>> c\n",
    "    0\n",
    "    \"\"\"\n",
    "    \"*** YOUR CODE HERE ***\""
   ]
  },
  {
   "cell_type": "markdown",
   "metadata": {},
   "source": [
    "Write a function that takes in a nonnegative integer and sums its digits. (Using floor division and modulo might be helpful here!)"
   ]
  },
  {
   "cell_type": "code",
   "execution_count": null,
   "metadata": {},
   "outputs": [],
   "source": [
    "def sum_digits(y):\n",
    "    \"\"\"Sum all the digits of y.\n",
    "\n",
    "    >>> sum_digits(10) # 1 + 0 = 1\n",
    "    1\n",
    "    >>> sum_digits(4224) # 4 + 2 + 2 + 4 = 12\n",
    "    12\n",
    "    >>> sum_digits(1234567890)\n",
    "    45\n",
    "    >>> a = sum_digits(123) # make sure that you are using return rather than print\n",
    "    >>> a\n",
    "    6\n",
    "    \"\"\"\n",
    "    \"*** YOUR CODE HERE ***\""
   ]
  },
  {
   "cell_type": "markdown",
   "metadata": {},
   "source": [
    "Write a function that takes in a number and determines if the digits contain two adjacent 8s."
   ]
  },
  {
   "cell_type": "code",
   "execution_count": null,
   "metadata": {},
   "outputs": [],
   "source": [
    "def double_eights(n):\n",
    "    \"\"\"Return true if n has two eights in a row.\n",
    "    >>> double_eights(8)\n",
    "    False\n",
    "    >>> double_eights(88)\n",
    "    True\n",
    "    >>> double_eights(2882)\n",
    "    True\n",
    "    >>> double_eights(880088)\n",
    "    True\n",
    "    >>> double_eights(12345)\n",
    "    False\n",
    "    >>> double_eights(80808080)\n",
    "    False\n",
    "    \"\"\"\n",
    "    \"*** YOUR CODE HERE ***\"\n"
   ]
  },
  {
   "cell_type": "markdown",
   "metadata": {},
   "source": [
    "Implement the classic \"Fizz Buzz\" sequence. The `fizzbuzz` function takes a positive integer n and prints out a single line for each integer from 1 to n. For each i:\n",
    "\n",
    "- If i is divisible by both 3 and 5, print fizzbuzz.\n",
    "- If i is divisible by 3 (but not 5), print fizz.\n",
    "- If i is divisible by 5 (but not 3), print buzz.\n",
    "- Otherwise, print the number i.\n",
    "\n",
    "Try to make your implementation of fizzbuzz concise."
   ]
  },
  {
   "cell_type": "code",
   "execution_count": null,
   "metadata": {},
   "outputs": [],
   "source": [
    "def fizzbuzz(n):\n",
    "    \"\"\"\n",
    "    >>> result = fizzbuzz(16)\n",
    "    1\n",
    "    2\n",
    "    fizz\n",
    "    4\n",
    "    buzz\n",
    "    fizz\n",
    "    7\n",
    "    8\n",
    "    fizz\n",
    "    buzz\n",
    "    11\n",
    "    fizz\n",
    "    13\n",
    "    14\n",
    "    fizzbuzz\n",
    "    16\n",
    "    >>> print(result)\n",
    "    None\n",
    "    \"\"\"\n",
    "    \"*** YOUR CODE HERE ***\""
   ]
  },
  {
   "cell_type": "markdown",
   "metadata": {},
   "source": [
    "Python's operator module contains two-argument functions such as add and sub for Python's built-in arithmetic operators. For example, add(2, 3) evalutes to 5, just like the expression 2 + 3.\n",
    "\n",
    "Fill in the blanks in the following function for adding a to the absolute value of b, without calling abs. You may not modify any of the provided code other than the two blanks."
   ]
  },
  {
   "cell_type": "code",
   "execution_count": null,
   "metadata": {},
   "outputs": [],
   "source": [
    "def a_plus_abs_b(a, b):\n",
    "    \"\"\"Return a+abs(b), but without calling abs.\n",
    "\n",
    "    >>> a_plus_abs_b(2, 3)\n",
    "    5\n",
    "    >>> a_plus_abs_b(2, -3)\n",
    "    5\n",
    "    >>> a_plus_abs_b(-1, 4)\n",
    "    3\n",
    "    >>> a_plus_abs_b(-1, -4)\n",
    "    3\n",
    "    \"\"\"\n",
    "    if b < 0:\n",
    "        f = _____\n",
    "    else:\n",
    "        f = _____\n",
    "    return f(a, b)\n"
   ]
  },
  {
   "cell_type": "markdown",
   "metadata": {},
   "source": [
    "Write a function that takes three positive numbers as arguments and returns the sum of the squares of the two smallest numbers. Use only a single line for the body of the function."
   ]
  },
  {
   "cell_type": "code",
   "execution_count": null,
   "metadata": {},
   "outputs": [],
   "source": [
    "def two_of_three(i, j, k):\n",
    "    \"\"\"Return m*m + n*n, where m and n are the two smallest members of the\n",
    "    positive numbers i, j, and k.\n",
    "\n",
    "    Use only a single line for the body of the function.\n",
    "\n",
    "    Hint: Consider using the max or min function:\n",
    "\n",
    "    >>> two_of_three(1, 2, 3)\n",
    "    5\n",
    "    >>> two_of_three(5, 3, 1)\n",
    "    10\n",
    "    >>> two_of_three(10, 2, 8)\n",
    "    68\n",
    "    >>> two_of_three(5, 5, 5)\n",
    "    50\n",
    "    \"\"\"\n",
    "    return _____\n"
   ]
  },
  {
   "cell_type": "markdown",
   "metadata": {},
   "source": [
    "Write a function that takes an integer n that is greater than 1 and returns the largest integer that is smaller than n and evenly divides n."
   ]
  },
  {
   "cell_type": "code",
   "execution_count": null,
   "metadata": {},
   "outputs": [],
   "source": [
    "def largest_factor(n):\n",
    "    \"\"\"Return the largest factor of n that is smaller than n.\n",
    "\n",
    "    >>> largest_factor(15) # factors are 1, 3, 5\n",
    "    5\n",
    "    >>> largest_factor(80) # factors are 1, 2, 4, 5, 8, 10, 16, 20, 40\n",
    "    40\n",
    "    >>> largest_factor(13) # factor is 1 since 13 is prime\n",
    "    1\n",
    "    \"\"\"\n",
    "    \"*** YOUR CODE HERE ***\""
   ]
  },
  {
   "cell_type": "markdown",
   "metadata": {},
   "source": [
    "Douglas Hofstadter's Pulitzer-prize-winning book, Gödel, Escher, Bach, poses the following mathematical puzzle.\n",
    "\n",
    "1. Pick a positive integer n as the start.\n",
    "2. If n is even, divide it by 2.\n",
    "3. If n is odd, multiply it by 3 and add 1.\n",
    "4. Continue this process until n is 1.\n",
    "\n",
    "The number n will travel up and down but eventually end at 1 (at least for all numbers that have ever been tried -- nobody has ever proved that the sequence will terminate). Analogously, a hailstone travels up and down in the atmosphere before eventually landing on earth.\n",
    "\n",
    "This sequence of values of n is often called a Hailstone sequence. Write a function that takes a single argument with formal parameter name n, prints out the hailstone sequence starting at n, and returns the number of steps in the sequence:"
   ]
  },
  {
   "cell_type": "code",
   "execution_count": null,
   "metadata": {},
   "outputs": [
    {
     "name": "stdout",
     "output_type": "stream",
     "text": [
      "10\n",
      "5\n",
      "16\n",
      "8\n",
      "4\n",
      "2\n",
      "1\n"
     ]
    },
    {
     "data": {
      "text/plain": [
       "7"
      ]
     },
     "execution_count": 4,
     "metadata": {},
     "output_type": "execute_result"
    }
   ],
   "source": [
    "def hailstone(n):\n",
    "    \"\"\"Print the hailstone sequence starting at n and return its\n",
    "    length.\n",
    "\n",
    "    >>> a = hailstone(10)\n",
    "    10\n",
    "    5\n",
    "    16\n",
    "    8\n",
    "    4\n",
    "    2\n",
    "    1\n",
    "    >>> a\n",
    "    7\n",
    "    >>> b = hailstone(1)\n",
    "    1\n",
    "    >>> b\n",
    "    1\n",
    "    \"\"\"\n",
    "    length = 1\n",
    "    while n > 1:\n",
    "        print(n)\n",
    "        length += 1\n",
    "        if n % 2 == 0:\n",
    "            n = n // 2\n",
    "        else:\n",
    "            n = n * 3 + 1\n",
    "    print(1)\n",
    "    return length\n",
    "\n",
    "\n",
    "a = hailstone(10)\n",
    "a"
   ]
  }
 ],
 "metadata": {
  "kernelspec": {
   "display_name": "ml",
   "language": "python",
   "name": "python3"
  },
  "language_info": {
   "codemirror_mode": {
    "name": "ipython",
    "version": 3
   },
   "file_extension": ".py",
   "mimetype": "text/x-python",
   "name": "python",
   "nbconvert_exporter": "python",
   "pygments_lexer": "ipython3",
   "version": "3.12.3"
  }
 },
 "nbformat": 4,
 "nbformat_minor": 2
}
