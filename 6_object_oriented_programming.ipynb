{
 "cells": [
  {
   "cell_type": "markdown",
   "metadata": {},
   "source": [
    "# Object-Oriented Programming\n",
    "\n",
    "Object-oriented programming (OOP) is a method for organizing programs. Like the functions in data abstraction, classes create abstraction barriers between the use and implementation of data. Like dispatch dictionaries, objects respond to behavioral requests. Like mutable data structures, objects have local state that is not directly accessible from the global environment. The Python object system provides convenient syntax to promote the use of these techniques for organizing programs. Much of this syntax is shared among other object-oriented programming languages.\n",
    "\n",
    "The object system offers more than just convenience. It enables a new metaphor for designing programs in which several independent agents interact within the computer. Each object bundles together local state and behavior in a way that abstracts the complexity of both. Objects communicate with each other, and useful results are computed as a consequence of their interaction. Not only do objects pass messages, they also share behavior among other objects of the same type and inherit characteristics from related types.\n",
    "\n",
    "The paradigm of object-oriented programming has its own vocabulary that supports the object metaphor. We have seen that an object is a data value that has methods and attributes, accessible via dot notation. Every object also has a type, called its class. To create new types of data, we implement new classes.\n",
    "\n",
    "### Classes and Objects\n",
    "\n",
    "A class describes the behavior of its instances. For example, All bank accounts have a balance and an account holder; the Account class should add those attributes to each newly created instance. All bank accounts share a withdraw method and a deposit method.\n",
    "\n",
    "- Class: The type of an object.\n",
    "- Object: A single instance of a class. In Python, a new object is created by calling a class.\n",
    "- Class attribute: A variable that belongs to a class and is accessed via dot notation.\n",
    "- Instance attribute: A variable that belongs to a particular object.\n",
    "- Method: A function that belongs to an object and is called via dot notation. By convention, the first parameter of a method is self.\n",
    "- `__init__`: A special function that is called automatically when a new instance of a class is created."
   ]
  },
  {
   "cell_type": "code",
   "execution_count": 1,
   "metadata": {},
   "outputs": [],
   "source": [
    "from account import Account\n",
    "\n",
    "j = Account(\"John\")"
   ]
  },
  {
   "cell_type": "code",
   "execution_count": 2,
   "metadata": {},
   "outputs": [
    {
     "data": {
      "text/plain": [
       "'Frankfurter Sparkasse'"
      ]
     },
     "execution_count": 2,
     "metadata": {},
     "output_type": "execute_result"
    }
   ],
   "source": [
    "j.bank"
   ]
  },
  {
   "cell_type": "code",
   "execution_count": 6,
   "metadata": {},
   "outputs": [
    {
     "data": {
      "text/plain": [
       "'John'"
      ]
     },
     "execution_count": 6,
     "metadata": {},
     "output_type": "execute_result"
    }
   ],
   "source": [
    "j.holder"
   ]
  },
  {
   "cell_type": "code",
   "execution_count": 10,
   "metadata": {},
   "outputs": [
    {
     "data": {
      "text/plain": [
       "100"
      ]
     },
     "execution_count": 10,
     "metadata": {},
     "output_type": "execute_result"
    }
   ],
   "source": [
    "j.deposit(100)"
   ]
  },
  {
   "cell_type": "code",
   "execution_count": 11,
   "metadata": {},
   "outputs": [
    {
     "data": {
      "text/plain": [
       "90"
      ]
     },
     "execution_count": 11,
     "metadata": {},
     "output_type": "execute_result"
    }
   ],
   "source": [
    "j.withdraw(10)"
   ]
  },
  {
   "cell_type": "code",
   "execution_count": 12,
   "metadata": {},
   "outputs": [
    {
     "data": {
      "text/plain": [
       "90"
      ]
     },
     "execution_count": 12,
     "metadata": {},
     "output_type": "execute_result"
    }
   ],
   "source": [
    "j.balance"
   ]
  },
  {
   "cell_type": "markdown",
   "metadata": {},
   "source": [
    "\n",
    "### Defining classes\n",
    "\n",
    "A class statement creates a class and binds attributes defined in its suite; __init__ initializes instance attributes at construction time. Methods like deposit and withdraw encapsulate behavior that can read and update instance state.\n",
    "\n",
    "Method invocation binds the receiver object to self automatically (bound methods), whereas calling the function on the class requires passing the instance explicitly."
   ]
  },
  {
   "cell_type": "code",
   "execution_count": null,
   "metadata": {},
   "outputs": [],
   "source": [
    "class Account:\n",
    "    \"\"\"An account has a balance and a holder.\n",
    "\n",
    "    >>> a = Account('John')\n",
    "    >>> a.holder\n",
    "    'John'\n",
    "    >>> a.deposit(100)\n",
    "    100\n",
    "    >>> a.withdraw(90)\n",
    "    10\n",
    "    >>> a.withdraw(90)\n",
    "    'Insufficient funds'\n",
    "    >>> a.balance\n",
    "    10\n",
    "    \"\"\"\n",
    "\n",
    "    def __init__(self, account_holder):\n",
    "        self.holder = account_holder\n",
    "        self.balance = 0\n",
    "\n",
    "    def deposit(self, amount):\n",
    "        \"\"\"Add amount to balance.\"\"\"\n",
    "        self.balance = self.balance + amount\n",
    "        return self.balance\n",
    "\n",
    "    def withdraw(self, amount):\n",
    "        \"\"\"Subtract amount from balance if funds are available.\"\"\"\n",
    "        if amount > self.balance:\n",
    "            return \"Insufficient funds\"\n",
    "        self.balance = self.balance - amount\n",
    "        return self.balance"
   ]
  },
  {
   "cell_type": "markdown",
   "metadata": {},
   "source": [
    "### Identity and attributes\n",
    "\n",
    "Each instance has unique identity (compare with is / is not) and its own instance attributes; rebinding a name to the same object does not create a new instance.\n",
    "\n",
    "Class attributes (e.g., interest) are shared across instances; assigning to an instance attribute with the same name shadows the class attribute for that instance."
   ]
  },
  {
   "cell_type": "code",
   "execution_count": null,
   "metadata": {},
   "outputs": [],
   "source": []
  },
  {
   "cell_type": "markdown",
   "metadata": {},
   "source": [
    "### Attribute lookup and dot expressions\n",
    "\n",
    "A dot expression evaluates by first checking instance attributes, then the class, then base classes, yielding values or bound methods accordingly; getattr and hasattr provide reflective access by name.\n",
    "\n",
    "Attribute assignment targets the object on the left of the dot: setting on an instance creates/updates an instance attribute; setting on a class updates the class attribute."
   ]
  },
  {
   "cell_type": "code",
   "execution_count": null,
   "metadata": {},
   "outputs": [],
   "source": []
  },
  {
   "cell_type": "markdown",
   "metadata": {},
   "source": [
    "### Inheritance and method overriding\n",
    "\n",
    "Subclasses inherit attributes from base classes and can override selected attributes or methods to specialize behavior (e.g., CheckingAccount overrides withdraw and adjusts interest).\n",
    "\n",
    "Overridden base behavior remains accessible via the base class function (e.g., Account.withdraw(self, ...)), and using self to reference class data enables further subclass overrides to take effect."
   ]
  },
  {
   "cell_type": "code",
   "execution_count": null,
   "metadata": {},
   "outputs": [],
   "source": []
  },
  {
   "cell_type": "markdown",
   "metadata": {},
   "source": [
    "**Exercise**\n",
    "\n",
    "## Bank Account\n",
    "\n",
    "Extend the `BankAccount` class to include a `transactions` attribute. This attribute should be a list that keeps track of each transaction made on the account. Whenever the `deposit` or `withdraw` method is called, a new `Transaction` instance should be created and added to the list, even if the action is not successful.\n",
    "\n",
    "The `Transaction` class should have the following attributes:\n",
    "\n",
    "* `before`: The account balance before the transaction.\n",
    "* `after`: The account balance after the transaction.\n",
    "* `id`: The transaction ID, which is the number of previous transactions (deposits or withdrawals) made on that account. The transaction IDs for a specific `BankAccount` instance must be unique, but this `id` does not need to be unique across all accounts. In other words, you only need to ensure that no two `Transaction` objects made by the same `BankAccount` instance have the same `id`.\n",
    "\n",
    "```python\n",
    "class BankAccount:\n",
    "    \"\"\"A bank account with a balance and transaction history.\"\"\"\n",
    "\n",
    "    def __init__(self, balance=0):\n",
    "        self.balance = balance\n",
    "        self.transactions = []\n",
    "        self.transaction_count = 0\n",
    "\n",
    "    def deposit(self, amount):\n",
    "        \"\"\"Deposit amount into the account.\"\"\"\n",
    "        before = self.balance\n",
    "        self.balance += amount\n",
    "        self.transaction_count += 1\n",
    "        self.transactions.append(Transaction(before, self.balance, self.transaction_count))\n",
    "\n",
    "    def withdraw(self, amount):\n",
    "        \"\"\"Withdraw amount from the account.\"\"\"\n",
    "        before = self.balance\n",
    "        if amount <= self.balance:\n",
    "            self.balance -= amount\n",
    "            self.transaction_count += 1\n",
    "            self.transactions.append(Transaction(before, self.balance, self.transaction_count))\n",
    "        else:\n",
    "            print(\"Insufficient funds\")\n",
    "\n",
    "class Transaction:\n",
    "    \"\"\"A transaction on a bank account.\"\"\"\n",
    "\n",
    "    def __init__(self, before, after, id):\n",
    "        self.before = before\n",
    "        self.after = after\n",
    "        self.id = id\n",
    "```\n",
    "\n",
    "## Transaction History\n",
    "\n",
    "Implement the `get_transaction_history` method for the `BankAccount` class. This method should return a list of strings, each representing a transaction in the following format:\n",
    "\n",
    "```\n",
    "Transaction ID: <id>\n",
    "Before: <before_balance>\n",
    "After: <after_balance>\n",
    "```\n",
    "\n",
    "For example:\n",
    "\n",
    "```\n",
    "Transaction ID: 1\n",
    "Before: 100\n",
    "After: 150\n",
    "```\n",
    "\n",
    "```python\n",
    "class BankAccount:\n",
    "    # ... (previous code)\n",
    "\n",
    "    def get_transaction_history(self):\n",
    "        \"\"\"Return a list of strings representing the transaction history.\"\"\"\n",
    "        history = []\n",
    "        for transaction in self.transactions:\n",
    "            history.append(f\"Transaction ID: {transaction.id}\\nBefore: {transaction.before}\\nAfter: {transaction.after}\\n\")\n",
    "        return history\n",
    "```\n",
    "\n",
    "## Bank Account Inheritance\n",
    "\n",
    "Create a subclass of `BankAccount` called `InterestBearingAccount`. This subclass should add an `interest_rate` attribute and a `apply_interest` method. The `apply_interest` method should add interest to the account balance based on the current `interest_rate` and add a transaction to the `transactions` list.\n",
    "\n",
    "```python\n",
    "class InterestBearingAccount(BankAccount):\n",
    "    \"\"\"A bank account that earns interest.\"\"\"\n",
    "\n",
    "    def __init__(self, balance=0, interest_rate=0.01):\n",
    "        super().__init__(balance)\n",
    "        self.interest_rate = interest_rate\n",
    "\n",
    "    def apply_interest(self):\n",
    "        \"\"\"Apply interest to the account balance.\"\"\"\n",
    "        before = self.balance\n",
    "        self.balance += self.balance * self.interest_rate\n",
    "        self.transaction_count += 1\n",
    "        self.transactions.append(Transaction(before, self.balance, self.transaction_count))\n",
    "```"
   ]
  },
  {
   "cell_type": "markdown",
   "metadata": {},
   "source": []
  }
 ],
 "metadata": {
  "kernelspec": {
   "display_name": "algos",
   "language": "python",
   "name": "python3"
  },
  "language_info": {
   "codemirror_mode": {
    "name": "ipython",
    "version": 3
   },
   "file_extension": ".py",
   "mimetype": "text/x-python",
   "name": "python",
   "nbconvert_exporter": "python",
   "pygments_lexer": "ipython3",
   "version": "3.13.7"
  }
 },
 "nbformat": 4,
 "nbformat_minor": 2
}
